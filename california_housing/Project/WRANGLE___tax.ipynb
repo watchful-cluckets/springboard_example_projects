{
 "cells": [
  {
   "cell_type": "code",
   "execution_count": 34,
   "metadata": {
    "collapsed": false
   },
   "outputs": [],
   "source": [
    "import numpy as np\n",
    "import pandas as pd\n",
    "import matplotlib.pyplot as plt\n",
    "import os.path\n",
    "\n",
    "%matplotlib inline\n"
   ]
  },
  {
   "cell_type": "code",
   "execution_count": 35,
   "metadata": {
    "collapsed": false
   },
   "outputs": [],
   "source": [
    "# file[14:19] extracts the year from the filename; to be used in the tax_files dict to deal with differences\n",
    "# in formatting between files\n",
    "\n",
    "path = os.getcwd() + '\\data_sources\\demand\\CA_tax_returns\\\\'\n",
    "tax_files = {}\n",
    "for file in os.listdir(path):\n",
    "    tax_files[int(file[14:19])] = path+file"
   ]
  },
  {
   "cell_type": "code",
   "execution_count": 36,
   "metadata": {
    "collapsed": true
   },
   "outputs": [],
   "source": [
    "# dataset for each year is formatted slightly differently\n",
    "rows_to_skip = {2014:5, 2013:5, 2012:5, 2011:5, 2010:5, 2009:5, 2008:9, 2007:8}\n",
    "\n",
    "# column labels change slightly from year to year--we are only interested in the first few columns\n",
    "# so we will rename those of interest. '0' label is filler to simplify the for loop for renaming later\n",
    "column_labels = {2014:['zipcode',\n",
    "                  'gross_income_bracket',\n",
    "                  'tax_returns_2014',\n",
    "                  'single_returns_2014',\n",
    "                  'joint_returns_2014'],\n",
    "                 2013:['zipcode',\n",
    "                  'gross_income_bracket',\n",
    "                  'tax_returns_2013',\n",
    "                  'single_returns_2013',\n",
    "                  'joint_returns_2013'],\n",
    "                 2012:['zipcode',\n",
    "                  'gross_income_bracket',\n",
    "                  'tax_returns_2012',\n",
    "                  'single_returns_2012',\n",
    "                  'joint_returns_2012'],\n",
    "                 2011:['zipcode',\n",
    "                  'gross_income_bracket',\n",
    "                  'tax_returns_2011',\n",
    "                  #'single_returns',\n",
    "                  'joint_returns_2011',\n",
    "                      '0'],\n",
    "                 2010:['zipcode',\n",
    "                  'gross_income_bracket',\n",
    "                  'tax_returns_2010',\n",
    "                  #'single_returns',\n",
    "                  'joint_returns_2010',\n",
    "                      '0'],\n",
    "                 2009:['zipcode',\n",
    "                  'gross_income_bracket',\n",
    "                  'tax_returns_2009',\n",
    "                  #'single_returns',\n",
    "                  'joint_returns_2009',\n",
    "                      '0'],\n",
    "                 2008:['gross_income_bracket',\n",
    "                  'zipcode',\n",
    "                  'tax_returns_2008',\n",
    "                  #'single_returns',\n",
    "                  'joint_returns_2008',\n",
    "                      '0'],\n",
    "                 2007:['gross_income_bracket',\n",
    "                  'zipcode',\n",
    "                  'tax_returns_2007',\n",
    "                  #'single_returns',\n",
    "                  'joint_returns_2007',\n",
    "                      '0']\n",
    "                }"
   ]
  },
  {
   "cell_type": "code",
   "execution_count": 37,
   "metadata": {
    "collapsed": false
   },
   "outputs": [],
   "source": [
    "# read in all excel files to dict of DataFrames\n",
    "ca_tax = {}\n",
    "for year in range(2007,2015):\n",
    "    ca_tax[year] = pd.read_excel(tax_files[year],skiprows=rows_to_skip[year])"
   ]
  },
  {
   "cell_type": "code",
   "execution_count": 38,
   "metadata": {
    "collapsed": false
   },
   "outputs": [],
   "source": [
    "# create dict of dicts to pair columns of interest with their proper descriptive column labels for each year\n",
    "column_dict = {}\n",
    "\n",
    "for year in range(2007,2015):\n",
    "    temp_dict = {}\n",
    "    i = 0\n",
    "    for old_label in list(ca_tax[year])[0:5]:\n",
    "        temp_dict[old_label] = column_labels[year][i]\n",
    "        i+=1\n",
    "    column_dict[year] = temp_dict"
   ]
  },
  {
   "cell_type": "code",
   "execution_count": 39,
   "metadata": {
    "collapsed": true
   },
   "outputs": [],
   "source": [
    "# to differentiate same columns from different years, for when we join the tables together\n",
    "rsuffixes = ['_2007','_2008','_2009','_2010','_2011','_2012','_2013','_2014']"
   ]
  },
  {
   "cell_type": "code",
   "execution_count": 40,
   "metadata": {
    "collapsed": false
   },
   "outputs": [],
   "source": [
    "# use the dict above to rename desired columns\n",
    "i = 0\n",
    "for year in ca_tax:\n",
    "    ca_tax[year] = ca_tax[year].rename(columns=column_dict[year])\n",
    "    ca_tax[year] = ca_tax[year][['zipcode','gross_income_bracket','tax_returns'+rsuffixes[i],'joint_returns'+rsuffixes[i]]]\n",
    "    ca_tax[year] = ca_tax[year].dropna()\n",
    "    ca_tax[year] = ca_tax[year].replace(to_replace='*',value=0)\n",
    "    ca_tax[year] = ca_tax[year].replace(to_replace='.',value=0)\n",
    "    ca_tax[year]['zipcode'] = ca_tax[year]['zipcode'].astype(str)\n",
    "    ca_tax[year]['tax_returns'+rsuffixes[i]] = ca_tax[year]['tax_returns'+rsuffixes[i]].astype(int)\n",
    "    ca_tax[year]['joint_returns'+rsuffixes[i]] = ca_tax[year]['joint_returns'+rsuffixes[i]].astype(int)\n",
    "    i+=1"
   ]
  },
  {
   "cell_type": "code",
   "execution_count": 41,
   "metadata": {
    "collapsed": false
   },
   "outputs": [
    {
     "data": {
      "text/plain": [
       "zipcode                 object\n",
       "gross_income_bracket    object\n",
       "tax_returns_2007         int32\n",
       "joint_returns_2007       int32\n",
       "dtype: object"
      ]
     },
     "execution_count": 41,
     "metadata": {},
     "output_type": "execute_result"
    }
   ],
   "source": [
    "ca_tax[2007].dtypes"
   ]
  },
  {
   "cell_type": "code",
   "execution_count": 42,
   "metadata": {
    "collapsed": false
   },
   "outputs": [
    {
     "data": {
      "text/plain": [
       "1              Under $10,000\n",
       "2      $10,000 under $25,000\n",
       "3      $25,000 under $50,000\n",
       "4      $50,000 under $75,000\n",
       "5     $75,000 under $100,000\n",
       "6    $100,000 under $200,000\n",
       "7           $200,000 or more\n",
       "Name: gross_income_bracket, dtype: object"
      ]
     },
     "execution_count": 42,
     "metadata": {},
     "output_type": "execute_result"
    }
   ],
   "source": [
    "ca_tax[2008]['gross_income_bracket'][0:7]"
   ]
  },
  {
   "cell_type": "code",
   "execution_count": 43,
   "metadata": {
    "collapsed": true
   },
   "outputs": [],
   "source": [
    "labels = ['<$10,000','$10,000-$25,000','$25,000-$50,000','$50,000-$75,000','$75,000-$100,000','$100,000-$200,000','>$200,000']"
   ]
  },
  {
   "cell_type": "code",
   "execution_count": 44,
   "metadata": {
    "collapsed": false
   },
   "outputs": [
    {
     "data": {
      "text/plain": [
       "{'$10,000 under $25,000': '$10,000-$25,000',\n",
       " '$100,000 under $200,000': '$100,000-$200,000',\n",
       " '$200,000 or more': '>$200,000',\n",
       " '$25,000 under $50,000': '$25,000-$50,000',\n",
       " '$50,000 under $75,000': '$50,000-$75,000',\n",
       " '$75,000 under $100,000': '$75,000-$100,000',\n",
       " 'Under $10,000': '<$10,000'}"
      ]
     },
     "execution_count": 44,
     "metadata": {},
     "output_type": "execute_result"
    }
   ],
   "source": [
    "new_bracket_labels = {}\n",
    "i = 0\n",
    "for bracket in ca_tax[2008]['gross_income_bracket'][0:7]:\n",
    "    new_bracket_labels[bracket] = labels[i]\n",
    "    i+=1\n",
    "new_bracket_labels"
   ]
  },
  {
   "cell_type": "code",
   "execution_count": 45,
   "metadata": {
    "collapsed": false
   },
   "outputs": [
    {
     "data": {
      "text/plain": [
       "0                      Total\n",
       "1           $1 under $25,000\n",
       "2      $25,000 under $50,000\n",
       "3      $50,000 under $75,000\n",
       "4     $75,000 under $100,000\n",
       "5    $100,000 under $200,000\n",
       "6           $200,000 or more\n",
       "Name: gross_income_bracket, dtype: object"
      ]
     },
     "execution_count": 45,
     "metadata": {},
     "output_type": "execute_result"
    }
   ],
   "source": [
    "ca_tax[2014]['gross_income_bracket'][0:7]"
   ]
  },
  {
   "cell_type": "code",
   "execution_count": 46,
   "metadata": {
    "collapsed": true
   },
   "outputs": [],
   "source": [
    "# formatting on files changes--manually including new label from recent years\n",
    "new_bracket_labels['$1 under $25,000'] = '<$25,000'"
   ]
  },
  {
   "cell_type": "code",
   "execution_count": 47,
   "metadata": {
    "collapsed": true
   },
   "outputs": [],
   "source": [
    "# fix bracket labels for readability \n",
    "for year in ca_tax:\n",
    "    for old_label in new_bracket_labels:\n",
    "        ca_tax[year] = ca_tax[year].replace(to_replace=old_label,value=new_bracket_labels[old_label])"
   ]
  },
  {
   "cell_type": "code",
   "execution_count": 48,
   "metadata": {
    "collapsed": false
   },
   "outputs": [],
   "source": [
    "# strange formatting error with 2008 when file was read in\n",
    "# pandas added listed zipcodes as strings with '.0' appended. needed to convert to float, then to int to truncate .0,\n",
    "# and finally back to str\n",
    "ca_tax[2008]['zipcode'] = ca_tax[2008]['zipcode'].astype(float)\n",
    "ca_tax[2008]['zipcode'] = ca_tax[2008]['zipcode'].astype(int)\n",
    "ca_tax[2008]['zipcode'] = ca_tax[2008]['zipcode'].astype(str)"
   ]
  },
  {
   "cell_type": "code",
   "execution_count": 49,
   "metadata": {
    "collapsed": false
   },
   "outputs": [],
   "source": [
    "# initialize master DataFrame with left-most DataFrame\n",
    "# note: '0' zipcode is the total of all zipcodes listed\n",
    "ca_tax_master = ca_tax[2007]\n",
    "ca_tax_master = ca_tax_master.set_index(['zipcode','gross_income_bracket'])"
   ]
  },
  {
   "cell_type": "code",
   "execution_count": 50,
   "metadata": {
    "collapsed": true
   },
   "outputs": [],
   "source": [
    "for year in range(2008,2015):\n",
    "    ca_tax_master = ca_tax_master.join(ca_tax[year].set_index(['zipcode','gross_income_bracket']),how='outer')"
   ]
  },
  {
   "cell_type": "code",
   "execution_count": 51,
   "metadata": {
    "collapsed": false
   },
   "outputs": [],
   "source": [
    "# to fix the brackets: 2007 and 2008 were formatted with brackets 10,000-25,000 and <10,000\n",
    "# all years after that use a single bracket: <25,000. sum the 10,000-25,000 and <10,000 brackets to \n",
    "# format 2007 and 2008 with brackets that are consistent with the later years\n",
    "# use the indices together with .loc and a for loop to assign (10,000-25,000 + < 10,000) to <25,000 for 2007 and 2008\n",
    "# then delete 10,000-25,000 and <10,000\n",
    "\n",
    "zipcodes_list = ca_tax_master.index.levels[0]"
   ]
  },
  {
   "cell_type": "code",
   "execution_count": 52,
   "metadata": {
    "collapsed": false
   },
   "outputs": [
    {
     "name": "stdout",
     "output_type": "stream",
     "text": [
      "7\n"
     ]
    }
   ],
   "source": [
    "# there are zipcodes which do not have the <$25,000 bracket: these are the zipcodes which are not listed in the\n",
    "# later (2009-2014) years. i.e. when we performed the join, the row was not added because they did not exist\n",
    "# in the later years, which used the <$25,000 bracket. we will drop these rows (they have a bunch of missing information)\n",
    "# so we will not bother to fix their brackets\n",
    "print(len(ca_tax_master.loc['96160']))"
   ]
  },
  {
   "cell_type": "code",
   "execution_count": 53,
   "metadata": {
    "collapsed": false
   },
   "outputs": [],
   "source": [
    "# the for loop runs into an error without the if statement\n",
    "# we could adjust it to retain and fix information on the <= 7 years, but again, there is no sense \n",
    "# in doing this because we are dropping these data-lacking rows\n",
    "for zc in zipcodes_list:\n",
    "    if len(ca_tax_master.loc[zc]) > 7:\n",
    "        under25k2007 = ca_tax_master.loc[zc].loc['$10,000-$25,000']['tax_returns_2007'] + ca_tax_master.loc[zc].loc['<$10,000']['tax_returns_2007']\n",
    "        ca_tax_master.loc[zc].loc['<$25,000']['tax_returns_2007'] = under25k2007\n",
    "        under25k2008 = ca_tax_master.loc[zc].loc['$10,000-$25,000']['tax_returns_2008'] + ca_tax_master.loc[zc].loc['<$10,000']['tax_returns_2008']\n",
    "        ca_tax_master.loc[zc].loc['<$25,000']['tax_returns_2008'] = under25k2008\n",
    "        under25k2007joint = ca_tax_master.loc[zc].loc['$10,000-$25,000']['joint_returns_2007'] + ca_tax_master.loc[zc].loc['<$10,000']['joint_returns_2007']\n",
    "        ca_tax_master.loc[zc].loc['<$25,000']['joint_returns_2007'] = under25k2007joint\n",
    "        under25k2008joint = ca_tax_master.loc[zc].loc['$10,000-$25,000']['joint_returns_2008'] + ca_tax_master.loc[zc].loc['<$10,000']['joint_returns_2008']\n",
    "        ca_tax_master.loc[zc].loc['<$25,000']['joint_returns_2008'] = under25k2008joint"
   ]
  },
  {
   "cell_type": "code",
   "execution_count": 54,
   "metadata": {
    "collapsed": false
   },
   "outputs": [],
   "source": [
    "# at this point, any rows with complete information have no NaN values for the rows we are interested in\n",
    "# we will use dropna() to remove the 10,000 - 25,000 and <10,000 rows, as well as remove zipcodes\n",
    "# with missing information for many years\n",
    "ca_tax_master = ca_tax_master.dropna()"
   ]
  },
  {
   "cell_type": "code",
   "execution_count": 55,
   "metadata": {
    "collapsed": false
   },
   "outputs": [],
   "source": [
    "# split the datasets\n",
    "\n",
    "ca_joint_returns = ca_tax_master[['joint_returns_2007',\n",
    "                                  'joint_returns_2008',\n",
    "                                  'joint_returns_2009',\n",
    "                                  'joint_returns_2010',\n",
    "                                  'joint_returns_2011',\n",
    "                                  'joint_returns_2012',\n",
    "                                  'joint_returns_2013',\n",
    "                                  'joint_returns_2014']]\n",
    "ca_tax_returns = ca_tax_master[['tax_returns_2007',\n",
    "                                'tax_returns_2008',\n",
    "                                'tax_returns_2009',\n",
    "                                'tax_returns_2010',\n",
    "                                'tax_returns_2011',\n",
    "                                'tax_returns_2012',\n",
    "                                'tax_returns_2013',\n",
    "                                'tax_returns_2014']]"
   ]
  },
  {
   "cell_type": "code",
   "execution_count": 56,
   "metadata": {
    "collapsed": true
   },
   "outputs": [],
   "source": [
    "# when we plot the brackets, they will be ordered correctly this way. also fixes the formatting issue with $ \n",
    "# ideally should have done this at the beginning of wrangling when we first fixed labels (redundant work)\n",
    "# much of the above wrangling was done based on the first labels; will not change the original work for minor \n",
    "# efficiency upgrade\n",
    "rename_brackets = {'<$25,000':'0: < 25,000',\n",
    "                 '$25,000-$50,000':'1: 25,000-50,000',\n",
    "                 '$50,000-$75,000':'2: 50,000-75,000',\n",
    "                 '$75,000-$100,000':'3: 75,000-100,000',\n",
    "                 '$100,000-$200,000':'4: 100,000-200,000',\n",
    "                 '>$200,000':'5: > 200,000'}"
   ]
  },
  {
   "cell_type": "code",
   "execution_count": 57,
   "metadata": {
    "collapsed": false
   },
   "outputs": [],
   "source": [
    "# fixing labels\n",
    "ca_tax_returns = ca_tax_returns.reset_index()\n",
    "for old_bracket in rename_brackets:\n",
    "    ca_tax_returns = ca_tax_returns.replace(to_replace=old_bracket,value=rename_brackets[old_bracket])\n",
    "ca_tax_returns = ca_tax_returns.set_index(['zipcode','gross_income_bracket'])\n",
    "ca_tax_returns = ca_tax_returns.sort_index() "
   ]
  },
  {
   "cell_type": "code",
   "execution_count": 58,
   "metadata": {
    "collapsed": false
   },
   "outputs": [],
   "source": [
    "# fixing labels\n",
    "ca_joint_returns = ca_joint_returns.reset_index()\n",
    "for old_bracket in rename_brackets:\n",
    "    ca_joint_returns = ca_joint_returns.replace(to_replace=old_bracket,value=rename_brackets[old_bracket])\n",
    "ca_joint_returns = ca_joint_returns.set_index(['zipcode','gross_income_bracket'])\n",
    "ca_joint_returns = ca_joint_returns.sort_index()"
   ]
  },
  {
   "cell_type": "code",
   "execution_count": 65,
   "metadata": {
    "collapsed": false
   },
   "outputs": [
    {
     "data": {
      "text/html": [
       "<div>\n",
       "<table border=\"1\" class=\"dataframe\">\n",
       "  <thead>\n",
       "    <tr style=\"text-align: right;\">\n",
       "      <th></th>\n",
       "      <th></th>\n",
       "      <th>tax_returns_2007</th>\n",
       "      <th>tax_returns_2008</th>\n",
       "      <th>tax_returns_2009</th>\n",
       "      <th>tax_returns_2010</th>\n",
       "      <th>tax_returns_2011</th>\n",
       "      <th>tax_returns_2012</th>\n",
       "      <th>tax_returns_2013</th>\n",
       "      <th>tax_returns_2014</th>\n",
       "    </tr>\n",
       "    <tr>\n",
       "      <th>zipcode</th>\n",
       "      <th>gross_income_bracket</th>\n",
       "      <th></th>\n",
       "      <th></th>\n",
       "      <th></th>\n",
       "      <th></th>\n",
       "      <th></th>\n",
       "      <th></th>\n",
       "      <th></th>\n",
       "      <th></th>\n",
       "    </tr>\n",
       "  </thead>\n",
       "  <tbody>\n",
       "    <tr>\n",
       "      <th rowspan=\"6\" valign=\"top\">0</th>\n",
       "      <th>0: &lt; 25,000</th>\n",
       "      <td>7206853.0</td>\n",
       "      <td>6220131.0</td>\n",
       "      <td>6160971.0</td>\n",
       "      <td>6271416.0</td>\n",
       "      <td>6620523.0</td>\n",
       "      <td>6404780.0</td>\n",
       "      <td>6411100.0</td>\n",
       "      <td>6336730.0</td>\n",
       "    </tr>\n",
       "    <tr>\n",
       "      <th>1: 25,000-50,000</th>\n",
       "      <td>3834467.0</td>\n",
       "      <td>3777895.0</td>\n",
       "      <td>3744118.0</td>\n",
       "      <td>3795875.0</td>\n",
       "      <td>3907930.0</td>\n",
       "      <td>3851420.0</td>\n",
       "      <td>3916770.0</td>\n",
       "      <td>3965570.0</td>\n",
       "    </tr>\n",
       "    <tr>\n",
       "      <th>2: 50,000-75,000</th>\n",
       "      <td>2129615.0</td>\n",
       "      <td>2114223.0</td>\n",
       "      <td>2047609.0</td>\n",
       "      <td>2071618.0</td>\n",
       "      <td>2152410.0</td>\n",
       "      <td>2145000.0</td>\n",
       "      <td>2175060.0</td>\n",
       "      <td>2207030.0</td>\n",
       "    </tr>\n",
       "    <tr>\n",
       "      <th>3: 75,000-100,000</th>\n",
       "      <td>1310319.0</td>\n",
       "      <td>1313113.0</td>\n",
       "      <td>1269016.0</td>\n",
       "      <td>1284362.0</td>\n",
       "      <td>1345012.0</td>\n",
       "      <td>1361280.0</td>\n",
       "      <td>1385750.0</td>\n",
       "      <td>1411040.0</td>\n",
       "    </tr>\n",
       "    <tr>\n",
       "      <th>4: 100,000-200,000</th>\n",
       "      <td>1794378.0</td>\n",
       "      <td>1829708.0</td>\n",
       "      <td>1770054.0</td>\n",
       "      <td>1801455.0</td>\n",
       "      <td>1913458.0</td>\n",
       "      <td>2005070.0</td>\n",
       "      <td>2104210.0</td>\n",
       "      <td>2214810.0</td>\n",
       "    </tr>\n",
       "    <tr>\n",
       "      <th>5: &gt; 200,000</th>\n",
       "      <td>680811.0</td>\n",
       "      <td>641762.0</td>\n",
       "      <td>581847.0</td>\n",
       "      <td>636198.0</td>\n",
       "      <td>717341.0</td>\n",
       "      <td>799120.0</td>\n",
       "      <td>868510.0</td>\n",
       "      <td>978490.0</td>\n",
       "    </tr>\n",
       "    <tr>\n",
       "      <th rowspan=\"6\" valign=\"top\">90001</th>\n",
       "      <th>0: &lt; 25,000</th>\n",
       "      <td>12797.0</td>\n",
       "      <td>11253.0</td>\n",
       "      <td>12572.0</td>\n",
       "      <td>13145.0</td>\n",
       "      <td>13094.0</td>\n",
       "      <td>13010.0</td>\n",
       "      <td>13100.0</td>\n",
       "      <td>13020.0</td>\n",
       "    </tr>\n",
       "    <tr>\n",
       "      <th>1: 25,000-50,000</th>\n",
       "      <td>5549.0</td>\n",
       "      <td>5672.0</td>\n",
       "      <td>5499.0</td>\n",
       "      <td>5539.0</td>\n",
       "      <td>5757.0</td>\n",
       "      <td>5700.0</td>\n",
       "      <td>5900.0</td>\n",
       "      <td>6110.0</td>\n",
       "    </tr>\n",
       "    <tr>\n",
       "      <th>2: 50,000-75,000</th>\n",
       "      <td>1221.0</td>\n",
       "      <td>1221.0</td>\n",
       "      <td>1203.0</td>\n",
       "      <td>1251.0</td>\n",
       "      <td>1362.0</td>\n",
       "      <td>1420.0</td>\n",
       "      <td>1480.0</td>\n",
       "      <td>1630.0</td>\n",
       "    </tr>\n",
       "    <tr>\n",
       "      <th>3: 75,000-100,000</th>\n",
       "      <td>266.0</td>\n",
       "      <td>303.0</td>\n",
       "      <td>287.0</td>\n",
       "      <td>299.0</td>\n",
       "      <td>319.0</td>\n",
       "      <td>340.0</td>\n",
       "      <td>330.0</td>\n",
       "      <td>420.0</td>\n",
       "    </tr>\n",
       "    <tr>\n",
       "      <th>4: 100,000-200,000</th>\n",
       "      <td>75.0</td>\n",
       "      <td>101.0</td>\n",
       "      <td>105.0</td>\n",
       "      <td>108.0</td>\n",
       "      <td>117.0</td>\n",
       "      <td>130.0</td>\n",
       "      <td>160.0</td>\n",
       "      <td>170.0</td>\n",
       "    </tr>\n",
       "    <tr>\n",
       "      <th>5: &gt; 200,000</th>\n",
       "      <td>17.0</td>\n",
       "      <td>11.0</td>\n",
       "      <td>0.0</td>\n",
       "      <td>0.0</td>\n",
       "      <td>0.0</td>\n",
       "      <td>0.0</td>\n",
       "      <td>0.0</td>\n",
       "      <td>20.0</td>\n",
       "    </tr>\n",
       "  </tbody>\n",
       "</table>\n",
       "</div>"
      ],
      "text/plain": [
       "                              tax_returns_2007  tax_returns_2008  \\\n",
       "zipcode gross_income_bracket                                       \n",
       "0       0: < 25,000                  7206853.0         6220131.0   \n",
       "        1: 25,000-50,000             3834467.0         3777895.0   \n",
       "        2: 50,000-75,000             2129615.0         2114223.0   \n",
       "        3: 75,000-100,000            1310319.0         1313113.0   \n",
       "        4: 100,000-200,000           1794378.0         1829708.0   \n",
       "        5: > 200,000                  680811.0          641762.0   \n",
       "90001   0: < 25,000                    12797.0           11253.0   \n",
       "        1: 25,000-50,000                5549.0            5672.0   \n",
       "        2: 50,000-75,000                1221.0            1221.0   \n",
       "        3: 75,000-100,000                266.0             303.0   \n",
       "        4: 100,000-200,000                75.0             101.0   \n",
       "        5: > 200,000                      17.0              11.0   \n",
       "\n",
       "                              tax_returns_2009  tax_returns_2010  \\\n",
       "zipcode gross_income_bracket                                       \n",
       "0       0: < 25,000                  6160971.0         6271416.0   \n",
       "        1: 25,000-50,000             3744118.0         3795875.0   \n",
       "        2: 50,000-75,000             2047609.0         2071618.0   \n",
       "        3: 75,000-100,000            1269016.0         1284362.0   \n",
       "        4: 100,000-200,000           1770054.0         1801455.0   \n",
       "        5: > 200,000                  581847.0          636198.0   \n",
       "90001   0: < 25,000                    12572.0           13145.0   \n",
       "        1: 25,000-50,000                5499.0            5539.0   \n",
       "        2: 50,000-75,000                1203.0            1251.0   \n",
       "        3: 75,000-100,000                287.0             299.0   \n",
       "        4: 100,000-200,000               105.0             108.0   \n",
       "        5: > 200,000                       0.0               0.0   \n",
       "\n",
       "                              tax_returns_2011  tax_returns_2012  \\\n",
       "zipcode gross_income_bracket                                       \n",
       "0       0: < 25,000                  6620523.0         6404780.0   \n",
       "        1: 25,000-50,000             3907930.0         3851420.0   \n",
       "        2: 50,000-75,000             2152410.0         2145000.0   \n",
       "        3: 75,000-100,000            1345012.0         1361280.0   \n",
       "        4: 100,000-200,000           1913458.0         2005070.0   \n",
       "        5: > 200,000                  717341.0          799120.0   \n",
       "90001   0: < 25,000                    13094.0           13010.0   \n",
       "        1: 25,000-50,000                5757.0            5700.0   \n",
       "        2: 50,000-75,000                1362.0            1420.0   \n",
       "        3: 75,000-100,000                319.0             340.0   \n",
       "        4: 100,000-200,000               117.0             130.0   \n",
       "        5: > 200,000                       0.0               0.0   \n",
       "\n",
       "                              tax_returns_2013  tax_returns_2014  \n",
       "zipcode gross_income_bracket                                      \n",
       "0       0: < 25,000                  6411100.0         6336730.0  \n",
       "        1: 25,000-50,000             3916770.0         3965570.0  \n",
       "        2: 50,000-75,000             2175060.0         2207030.0  \n",
       "        3: 75,000-100,000            1385750.0         1411040.0  \n",
       "        4: 100,000-200,000           2104210.0         2214810.0  \n",
       "        5: > 200,000                  868510.0          978490.0  \n",
       "90001   0: < 25,000                    13100.0           13020.0  \n",
       "        1: 25,000-50,000                5900.0            6110.0  \n",
       "        2: 50,000-75,000                1480.0            1630.0  \n",
       "        3: 75,000-100,000                330.0             420.0  \n",
       "        4: 100,000-200,000               160.0             170.0  \n",
       "        5: > 200,000                       0.0              20.0  "
      ]
     },
     "execution_count": 65,
     "metadata": {},
     "output_type": "execute_result"
    }
   ],
   "source": [
    "ca_tax_returns.head(12)"
   ]
  },
  {
   "cell_type": "code",
   "execution_count": 66,
   "metadata": {
    "collapsed": false
   },
   "outputs": [
    {
     "data": {
      "text/html": [
       "<div>\n",
       "<table border=\"1\" class=\"dataframe\">\n",
       "  <thead>\n",
       "    <tr style=\"text-align: right;\">\n",
       "      <th></th>\n",
       "      <th></th>\n",
       "      <th>joint_returns_2007</th>\n",
       "      <th>joint_returns_2008</th>\n",
       "      <th>joint_returns_2009</th>\n",
       "      <th>joint_returns_2010</th>\n",
       "      <th>joint_returns_2011</th>\n",
       "      <th>joint_returns_2012</th>\n",
       "      <th>joint_returns_2013</th>\n",
       "      <th>joint_returns_2014</th>\n",
       "    </tr>\n",
       "    <tr>\n",
       "      <th>zipcode</th>\n",
       "      <th>gross_income_bracket</th>\n",
       "      <th></th>\n",
       "      <th></th>\n",
       "      <th></th>\n",
       "      <th></th>\n",
       "      <th></th>\n",
       "      <th></th>\n",
       "      <th></th>\n",
       "      <th></th>\n",
       "    </tr>\n",
       "  </thead>\n",
       "  <tbody>\n",
       "    <tr>\n",
       "      <th rowspan=\"6\" valign=\"top\">0</th>\n",
       "      <th>0: &lt; 25,000</th>\n",
       "      <td>1121525.0</td>\n",
       "      <td>994038.0</td>\n",
       "      <td>1009576.0</td>\n",
       "      <td>969644.0</td>\n",
       "      <td>974765.0</td>\n",
       "      <td>938340.0</td>\n",
       "      <td>901940.0</td>\n",
       "      <td>868910.0</td>\n",
       "    </tr>\n",
       "    <tr>\n",
       "      <th>1: 25,000-50,000</th>\n",
       "      <td>1182457.0</td>\n",
       "      <td>1157205.0</td>\n",
       "      <td>1198581.0</td>\n",
       "      <td>1196616.0</td>\n",
       "      <td>1201141.0</td>\n",
       "      <td>1178070.0</td>\n",
       "      <td>1170370.0</td>\n",
       "      <td>1142610.0</td>\n",
       "    </tr>\n",
       "    <tr>\n",
       "      <th>2: 50,000-75,000</th>\n",
       "      <td>1013427.0</td>\n",
       "      <td>984434.0</td>\n",
       "      <td>962247.0</td>\n",
       "      <td>964040.0</td>\n",
       "      <td>967652.0</td>\n",
       "      <td>950580.0</td>\n",
       "      <td>947770.0</td>\n",
       "      <td>930030.0</td>\n",
       "    </tr>\n",
       "    <tr>\n",
       "      <th>3: 75,000-100,000</th>\n",
       "      <td>835884.0</td>\n",
       "      <td>823914.0</td>\n",
       "      <td>797531.0</td>\n",
       "      <td>797358.0</td>\n",
       "      <td>809000.0</td>\n",
       "      <td>806110.0</td>\n",
       "      <td>807130.0</td>\n",
       "      <td>796580.0</td>\n",
       "    </tr>\n",
       "    <tr>\n",
       "      <th>4: 100,000-200,000</th>\n",
       "      <td>1394303.0</td>\n",
       "      <td>1423394.0</td>\n",
       "      <td>1380818.0</td>\n",
       "      <td>1391346.0</td>\n",
       "      <td>1450312.0</td>\n",
       "      <td>1501310.0</td>\n",
       "      <td>1561300.0</td>\n",
       "      <td>1611640.0</td>\n",
       "    </tr>\n",
       "    <tr>\n",
       "      <th>5: &gt; 200,000</th>\n",
       "      <td>557098.0</td>\n",
       "      <td>535011.0</td>\n",
       "      <td>490458.0</td>\n",
       "      <td>533760.0</td>\n",
       "      <td>598652.0</td>\n",
       "      <td>663160.0</td>\n",
       "      <td>722390.0</td>\n",
       "      <td>806110.0</td>\n",
       "    </tr>\n",
       "    <tr>\n",
       "      <th rowspan=\"6\" valign=\"top\">90001</th>\n",
       "      <th>0: &lt; 25,000</th>\n",
       "      <td>2155.0</td>\n",
       "      <td>1893.0</td>\n",
       "      <td>2125.0</td>\n",
       "      <td>2056.0</td>\n",
       "      <td>1934.0</td>\n",
       "      <td>2010.0</td>\n",
       "      <td>1890.0</td>\n",
       "      <td>1880.0</td>\n",
       "    </tr>\n",
       "    <tr>\n",
       "      <th>1: 25,000-50,000</th>\n",
       "      <td>2065.0</td>\n",
       "      <td>2013.0</td>\n",
       "      <td>1941.0</td>\n",
       "      <td>1944.0</td>\n",
       "      <td>1970.0</td>\n",
       "      <td>1960.0</td>\n",
       "      <td>1970.0</td>\n",
       "      <td>2010.0</td>\n",
       "    </tr>\n",
       "    <tr>\n",
       "      <th>2: 50,000-75,000</th>\n",
       "      <td>696.0</td>\n",
       "      <td>666.0</td>\n",
       "      <td>590.0</td>\n",
       "      <td>624.0</td>\n",
       "      <td>652.0</td>\n",
       "      <td>740.0</td>\n",
       "      <td>760.0</td>\n",
       "      <td>810.0</td>\n",
       "    </tr>\n",
       "    <tr>\n",
       "      <th>3: 75,000-100,000</th>\n",
       "      <td>185.0</td>\n",
       "      <td>207.0</td>\n",
       "      <td>187.0</td>\n",
       "      <td>184.0</td>\n",
       "      <td>202.0</td>\n",
       "      <td>210.0</td>\n",
       "      <td>210.0</td>\n",
       "      <td>260.0</td>\n",
       "    </tr>\n",
       "    <tr>\n",
       "      <th>4: 100,000-200,000</th>\n",
       "      <td>54.0</td>\n",
       "      <td>79.0</td>\n",
       "      <td>72.0</td>\n",
       "      <td>69.0</td>\n",
       "      <td>77.0</td>\n",
       "      <td>90.0</td>\n",
       "      <td>100.0</td>\n",
       "      <td>120.0</td>\n",
       "    </tr>\n",
       "    <tr>\n",
       "      <th>5: &gt; 200,000</th>\n",
       "      <td>12.0</td>\n",
       "      <td>0.0</td>\n",
       "      <td>0.0</td>\n",
       "      <td>0.0</td>\n",
       "      <td>0.0</td>\n",
       "      <td>0.0</td>\n",
       "      <td>0.0</td>\n",
       "      <td>0.0</td>\n",
       "    </tr>\n",
       "  </tbody>\n",
       "</table>\n",
       "</div>"
      ],
      "text/plain": [
       "                              joint_returns_2007  joint_returns_2008  \\\n",
       "zipcode gross_income_bracket                                           \n",
       "0       0: < 25,000                    1121525.0            994038.0   \n",
       "        1: 25,000-50,000               1182457.0           1157205.0   \n",
       "        2: 50,000-75,000               1013427.0            984434.0   \n",
       "        3: 75,000-100,000               835884.0            823914.0   \n",
       "        4: 100,000-200,000             1394303.0           1423394.0   \n",
       "        5: > 200,000                    557098.0            535011.0   \n",
       "90001   0: < 25,000                       2155.0              1893.0   \n",
       "        1: 25,000-50,000                  2065.0              2013.0   \n",
       "        2: 50,000-75,000                   696.0               666.0   \n",
       "        3: 75,000-100,000                  185.0               207.0   \n",
       "        4: 100,000-200,000                  54.0                79.0   \n",
       "        5: > 200,000                        12.0                 0.0   \n",
       "\n",
       "                              joint_returns_2009  joint_returns_2010  \\\n",
       "zipcode gross_income_bracket                                           \n",
       "0       0: < 25,000                    1009576.0            969644.0   \n",
       "        1: 25,000-50,000               1198581.0           1196616.0   \n",
       "        2: 50,000-75,000                962247.0            964040.0   \n",
       "        3: 75,000-100,000               797531.0            797358.0   \n",
       "        4: 100,000-200,000             1380818.0           1391346.0   \n",
       "        5: > 200,000                    490458.0            533760.0   \n",
       "90001   0: < 25,000                       2125.0              2056.0   \n",
       "        1: 25,000-50,000                  1941.0              1944.0   \n",
       "        2: 50,000-75,000                   590.0               624.0   \n",
       "        3: 75,000-100,000                  187.0               184.0   \n",
       "        4: 100,000-200,000                  72.0                69.0   \n",
       "        5: > 200,000                         0.0                 0.0   \n",
       "\n",
       "                              joint_returns_2011  joint_returns_2012  \\\n",
       "zipcode gross_income_bracket                                           \n",
       "0       0: < 25,000                     974765.0            938340.0   \n",
       "        1: 25,000-50,000               1201141.0           1178070.0   \n",
       "        2: 50,000-75,000                967652.0            950580.0   \n",
       "        3: 75,000-100,000               809000.0            806110.0   \n",
       "        4: 100,000-200,000             1450312.0           1501310.0   \n",
       "        5: > 200,000                    598652.0            663160.0   \n",
       "90001   0: < 25,000                       1934.0              2010.0   \n",
       "        1: 25,000-50,000                  1970.0              1960.0   \n",
       "        2: 50,000-75,000                   652.0               740.0   \n",
       "        3: 75,000-100,000                  202.0               210.0   \n",
       "        4: 100,000-200,000                  77.0                90.0   \n",
       "        5: > 200,000                         0.0                 0.0   \n",
       "\n",
       "                              joint_returns_2013  joint_returns_2014  \n",
       "zipcode gross_income_bracket                                          \n",
       "0       0: < 25,000                     901940.0            868910.0  \n",
       "        1: 25,000-50,000               1170370.0           1142610.0  \n",
       "        2: 50,000-75,000                947770.0            930030.0  \n",
       "        3: 75,000-100,000               807130.0            796580.0  \n",
       "        4: 100,000-200,000             1561300.0           1611640.0  \n",
       "        5: > 200,000                    722390.0            806110.0  \n",
       "90001   0: < 25,000                       1890.0              1880.0  \n",
       "        1: 25,000-50,000                  1970.0              2010.0  \n",
       "        2: 50,000-75,000                   760.0               810.0  \n",
       "        3: 75,000-100,000                  210.0               260.0  \n",
       "        4: 100,000-200,000                 100.0               120.0  \n",
       "        5: > 200,000                         0.0                 0.0  "
      ]
     },
     "execution_count": 66,
     "metadata": {},
     "output_type": "execute_result"
    }
   ],
   "source": [
    "ca_joint_returns.head(12)"
   ]
  },
  {
   "cell_type": "code",
   "execution_count": 64,
   "metadata": {
    "collapsed": false
   },
   "outputs": [
    {
     "data": {
      "text/plain": [
       "<matplotlib.axes._subplots.AxesSubplot at 0xb670d68>"
      ]
     },
     "execution_count": 64,
     "metadata": {},
     "output_type": "execute_result"
    },
    {
     "data": {
      "image/png": "[encoded data removed]",
      "text/plain": [
       "<matplotlib.figure.Figure at 0xc7c8f28>"
      ]
     },
     "metadata": {},
     "output_type": "display_data"
    }
   ],
   "source": [
    "ca_tax_returns.loc['91307']['tax_returns_2007'].plot(kind='bar')"
   ]
  }
 ],
 "metadata": {
  "kernelspec": {
   "display_name": "Python 3",
   "language": "python",
   "name": "python3"
  },
  "language_info": {
   "codemirror_mode": {
    "name": "ipython",
    "version": 3
   },
   "file_extension": ".py",
   "mimetype": "text/x-python",
   "name": "python",
   "nbconvert_exporter": "python",
   "pygments_lexer": "ipython3",
   "version": "3.6.0"
  }
 },
 "nbformat": 4,
 "nbformat_minor": 2
}
