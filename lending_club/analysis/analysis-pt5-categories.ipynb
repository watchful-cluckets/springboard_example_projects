{
 "cells": [
  {
   "cell_type": "code",
   "execution_count": 78,
   "metadata": {
    "collapsed": true
   },
   "outputs": [],
   "source": [
    "# in this version of the pipeline, we include all features--including categorical ones, which have been transformed \n",
    "# with pandas' .get_dummies(). this increases the number of features from 17 in pt4 to 977."
   ]
  },
  {
   "cell_type": "code",
   "execution_count": 102,
   "metadata": {
    "collapsed": true
   },
   "outputs": [],
   "source": [
    "import numpy as np\n",
    "import pandas as pd\n",
    "import sqlite3\n",
    "import matplotlib.pyplot as plt\n",
    "\n",
    "\n",
    "%matplotlib inline\n",
    "plt.style.use('ggplot')"
   ]
  },
  {
   "cell_type": "code",
   "execution_count": 80,
   "metadata": {
    "collapsed": true
   },
   "outputs": [],
   "source": [
    "def select(query):\n",
    "    \n",
    "    conn = sqlite3.connect('./data/lending-club-loan-data/database2.sqlite')\n",
    "    cursor = conn.cursor()\n",
    "    temp_df = pd.DataFrame(cursor.execute(query).fetchall())\n",
    "    temp_df.columns = list(map(lambda x: x[0], cursor.description))\n",
    "    conn.close()\n",
    "    \n",
    "    return temp_df.copy()"
   ]
  },
  {
   "cell_type": "code",
   "execution_count": 81,
   "metadata": {
    "collapsed": true
   },
   "outputs": [],
   "source": [
    "features_train = select('select * from final_features_train')\n",
    "features_test = select('select * from final_features_test')\n",
    "targets_train = select('select * from final_targets_train').loan_status\n",
    "targets_test = select('select * from final_targets_test').loan_status"
   ]
  },
  {
   "cell_type": "code",
   "execution_count": 82,
   "metadata": {
    "collapsed": true
   },
   "outputs": [],
   "source": [
    "from imblearn.under_sampling import RandomUnderSampler\n",
    "from imblearn.over_sampling import SMOTE\n",
    "from imblearn.over_sampling import ADASYN\n",
    "\n",
    "from sklearn.linear_model import LogisticRegression\n",
    "from sklearn.naive_bayes import GaussianNB\n",
    "from sklearn.neighbors import KNeighborsClassifier\n",
    "from sklearn.ensemble import RandomForestClassifier\n",
    "from sklearn.metrics import confusion_matrix\n",
    "from sklearn.metrics import make_scorer\n",
    "from sklearn.model_selection import GridSearchCV\n",
    "from sklearn.metrics import classification_report"
   ]
  },
  {
   "cell_type": "code",
   "execution_count": 83,
   "metadata": {
    "collapsed": true
   },
   "outputs": [],
   "source": [
    "lr = LogisticRegression().fit(features_train,targets_train)\n",
    "GNB = GaussianNB().fit(features_train,targets_train)\n",
    "KNN = KNeighborsClassifier().fit(features_train,targets_train)"
   ]
  },
  {
   "cell_type": "code",
   "execution_count": 84,
   "metadata": {},
   "outputs": [
    {
     "name": "stdout",
     "output_type": "stream",
     "text": [
      "             precision    recall  f1-score   support\n",
      "\n",
      "          0       0.42      0.02      0.03      8804\n",
      "          1       0.83      1.00      0.90     41670\n",
      "\n",
      "avg / total       0.76      0.82      0.75     50474\n",
      "\n",
      "             precision    recall  f1-score   support\n",
      "\n",
      "          0       0.32      0.34      0.33      8804\n",
      "          1       0.86      0.85      0.85     41670\n",
      "\n",
      "avg / total       0.77      0.76      0.76     50474\n",
      "\n",
      "             precision    recall  f1-score   support\n",
      "\n",
      "          0       0.30      0.11      0.16      8804\n",
      "          1       0.83      0.94      0.89     41670\n",
      "\n",
      "avg / total       0.74      0.80      0.76     50474\n",
      "\n"
     ]
    }
   ],
   "source": [
    "# on baseline evaluation, neg recall is slightly improved when we include categorical information w/ get_dummies !\n",
    "# recall on minority class is no longer ~ 0 %, it is at about 2%; next, we repeat the whole pipeline. 2% doesn't seem\n",
    "# significant, but it is orders of magnitude above the previous ~0.01% performance\n",
    "# GNB and KNN have better recall than in the baseline (numerical-only) models\n",
    "\n",
    "# note: KNN seems to be one of the algorithms that is sensitive to dimension of feature space. takes a while to run\n",
    "\n",
    "print(classification_report(targets_test,lr.predict(features_test)))\n",
    "print(classification_report(targets_test,GNB.predict(features_test)))\n",
    "print(classification_report(targets_test,KNN.predict(features_test)))"
   ]
  },
  {
   "cell_type": "code",
   "execution_count": 85,
   "metadata": {
    "collapsed": true
   },
   "outputs": [],
   "source": [
    "# undersampling ratio, SMOTE oversampling ratio, ADASYN oversampling ratio. all 1:1\n",
    "\n",
    "ratios = [{0:len(features_train[~targets_train.astype(bool)]),\\\n",
    "               1:len(features_train[~targets_train.astype(bool)])},\\\n",
    "         {0:len(features_train[targets_train.astype(bool)]),\\\n",
    "                1:len(features_train[targets_train.astype(bool)])},\\\n",
    "         {0:len(features_train[targets_train.astype(bool)]),\\\n",
    "                1:len(features_train[targets_train.astype(bool)])}]"
   ]
  },
  {
   "cell_type": "code",
   "execution_count": 86,
   "metadata": {
    "collapsed": true
   },
   "outputs": [],
   "source": [
    "def Pipeline0(features,targets,model,resample_ratios,metric):\n",
    "    \n",
    "    resamplers = [None,RandomUnderSampler,SMOTE,ADASYN]\n",
    "    resampler_names = ['UnderSamp','SMOTE','ADASYN']\n",
    "    output = {}\n",
    "    output['model'] = model[0]\n",
    "    i = 0\n",
    "    \n",
    "    for resampler in resamplers:\n",
    "        if resampler == None:\n",
    "            final_features = features.copy()\n",
    "            final_targets = targets.copy()\n",
    "            tn,fp,fn,tp = confusion_matrix(targets_test,model[1].fit(final_features,final_targets).predict(features_test)).ravel()\n",
    "            \n",
    "            \n",
    "            output['N_pre'] = tn/(tn+fn)\n",
    "            output['N_rec'] = tn/(tn+fp)\n",
    "            \n",
    "            output['P_pre'] = tp/(tp+fp)\n",
    "            output['P_rec'] = tp/(tp+fn)\n",
    "            \n",
    "        else:\n",
    "            final_features, final_targets = resampler(ratio=resample_ratios[i]).fit_sample(features,targets)\n",
    "            tn,fp,fn,tp = confusion_matrix(targets_test,model[1].fit(final_features,final_targets).predict(features_test)).ravel()\n",
    "            \n",
    "            \n",
    "            output[resampler_names[i]+'_N_pre'] = tn/(tn+fn)\n",
    "            output[resampler_names[i]+'_N_rec'] = tn/(tn+fp)\n",
    "            \n",
    "            output[resampler_names[i]+'_P_pre'] = tp/(tp+fp)\n",
    "            output[resampler_names[i]+'_P_rec'] = tp/(tp+fn)\n",
    "                \n",
    "            i+=1\n",
    "    \n",
    "    return output"
   ]
  },
  {
   "cell_type": "code",
   "execution_count": 87,
   "metadata": {
    "collapsed": true
   },
   "outputs": [],
   "source": [
    "# optimize hyperparameters for F1 score on negative class, since that is the area we're looking to improve\n",
    "\n",
    "def neg_f1(targets_true,targets_predicted):\n",
    "    tn, fp, fn, tp = confusion_matrix(targets_true,targets_predicted).ravel()\n",
    "    precision = tn/(tn+fn)\n",
    "    recall = tn/(tn+fp)\n",
    "    return 2*(precision*recall)/(precision+recall)\n",
    "\n",
    "def pos_f1(targets_true,targets_predicted):\n",
    "    tn, fp, fn, tp = confusion_matrix(targets_true,targets_predicted).ravel()\n",
    "    precision = tp/(tp+fp)\n",
    "    recall = tp/(tp+fn)\n",
    "    return 2*(precision*recall)/(precision+recall)\n",
    "\n",
    "# the metric to optimize for in the regularized runs of the pipeline will determine the appropriate score function\n",
    "\n",
    "score_dict = {'neg':neg_f1,'pos':pos_f1}"
   ]
  },
  {
   "cell_type": "code",
   "execution_count": 88,
   "metadata": {
    "collapsed": true
   },
   "outputs": [],
   "source": [
    "def Pipeline1(features,targets,model,resample_ratios,metric):\n",
    "    \n",
    "    resamplers = [None,RandomUnderSampler,SMOTE,ADASYN]\n",
    "    resampler_names = ['UnderSamp','SMOTE','ADASYN']\n",
    "    output = {}\n",
    "    output['model'] = 're'+model[0]\n",
    "    i = 0\n",
    "    \n",
    "    if model[0] == 'LR':\n",
    "        params = {'C':[.001,.01,.1,1,10,100]}\n",
    "    elif model[0] == 'GNB': \n",
    "        params = {'priors':[[0.1,0.9],[0.2,0.8],[0.3,0.7],[0.4,0.6],[0.5,0.5],[0.6,0.4]]}\n",
    "    elif model[0] == 'KNN':\n",
    "        params = {'n_neighbors':list(range(3,8))}\n",
    "    elif model[0] == 'RF':\n",
    "        params = {'max_depth':[2,4,8,16,32,100]}\n",
    "    elif model[0] == 'QDA':\n",
    "        params = {'priors':[[0.1,0.9],[0.2,0.8],[0.3,0.7],[0.4,0.6],[0.5,0.5],[0.6,0.4]]}\n",
    "    \n",
    "    for resampler in resamplers:\n",
    "        if resampler == None:\n",
    "            final_features = features.copy()\n",
    "            final_targets = targets.copy()\n",
    "            clf = GridSearchCV(model[1],param_grid=params,scoring=make_scorer(score_dict[metric]),return_train_score=True)\\\n",
    "                                .fit(final_features,final_targets)\n",
    "            tn,fp,fn,tp = confusion_matrix(targets_test,clf.best_estimator_.predict(features_test)).ravel()\n",
    "            \n",
    "            \n",
    "            output['N_pre'] = tn/(tn+fn)\n",
    "            output['N_rec'] = tn/(tn+fp)\n",
    "            \n",
    "            output['P_pre'] = tp/(tp+fp)\n",
    "            output['P_rec'] = tp/(tp+fn)\n",
    "            \n",
    "        else:\n",
    "            final_features, final_targets = resampler(ratio=resample_ratios[i]).fit_sample(features,targets)\n",
    "            clf = GridSearchCV(model[1],param_grid=params,scoring=make_scorer(score_dict[metric]),return_train_score=True)\\\n",
    "                                .fit(final_features,final_targets)\n",
    "            tn,fp,fn,tp = confusion_matrix(targets_test,clf.best_estimator_.predict(features_test)).ravel()\n",
    "            \n",
    "            \n",
    "            output[resampler_names[i]+'_N_pre'] = tn/(tn+fn)\n",
    "            output[resampler_names[i]+'_N_rec'] = tn/(tn+fp)\n",
    "            \n",
    "            output[resampler_names[i]+'_P_pre'] = tp/(tp+fp)\n",
    "            output[resampler_names[i]+'_P_rec'] = tp/(tp+fn)\n",
    "                \n",
    "            i+=1\n",
    "    \n",
    "    return output"
   ]
  },
  {
   "cell_type": "code",
   "execution_count": 89,
   "metadata": {
    "collapsed": true
   },
   "outputs": [],
   "source": [
    "def PipelineLayer1(model,metric,ratio_dicts):\n",
    "    unregularized = Pipeline0(features=features_train,targets=targets_train,\\\n",
    "                             model=model,resample_ratios=ratio_dicts,metric=metric)\n",
    "    \n",
    "    regularized = Pipeline1(features=features_train,targets=targets_train,\\\n",
    "                            model=model,resample_ratios=ratio_dicts,metric=metric)\n",
    "    return pd.DataFrame(unregularized,index=[0]).set_index('model')\\\n",
    "                    .append(pd.DataFrame(regularized,index=[0]).set_index('model')).copy()"
   ]
  },
  {
   "cell_type": "code",
   "execution_count": 90,
   "metadata": {
    "collapsed": true
   },
   "outputs": [],
   "source": [
    "def PipelineLayer2(model_list,metric,ratios):\n",
    "    \n",
    "    tempdf = pd.DataFrame()\n",
    "    \n",
    "    for model in model_list:\n",
    "        tempdf = tempdf.append(PipelineLayer1(model,metric,ratios))\n",
    "        \n",
    "    return tempdf.copy()"
   ]
  },
  {
   "cell_type": "code",
   "execution_count": 91,
   "metadata": {
    "collapsed": true
   },
   "outputs": [],
   "source": [
    "# cat_results = PipelineLayer2(algs,metric='neg',ratios=ratios)"
   ]
  },
  {
   "cell_type": "code",
   "execution_count": 92,
   "metadata": {
    "collapsed": true
   },
   "outputs": [],
   "source": [
    "# ^ computationally infeasible. did not complete after 1.5 hours of computing on a modern cpu (late 2017 model consumer pc)\n",
    "\n",
    "# reduce categorical columns w PCA, do analysis, and try running again with reduced feature space\n",
    "\n",
    "# use different unsupervised learning algorithms on the transformed categorical features (dummy variables)\n",
    "# to find clusters in the categories. (we do not include the original features yet, since their values will reduce \n",
    "# the influence of the categorical features which artificially have been given values 0/1 on the dummy variables)\n",
    "# we will run unsupervised learning algorithms on the original numerical features separately.\n",
    "\n",
    "# we will make these clusters new features, and use .get_dummies() again and run unsupervised learning algs another time.\n",
    "# this is an ensemble-approach to unsupervised learning, with the hope that it'll find more complex structure by \n",
    "# using information from different clustering approaches. finally, we will run .get_dummies() a last time before \n",
    "# inputting the final clusterings to "
   ]
  },
  {
   "cell_type": "code",
   "execution_count": 93,
   "metadata": {
    "collapsed": true
   },
   "outputs": [],
   "source": [
    "# the categorical columns (which have already been transformed to numerical dummies) which we want to reduce w PCA\n",
    "\n",
    "catcolumns = list(features_train.columns)\n",
    "catcolumns = catcolumns[11:]"
   ]
  },
  {
   "cell_type": "code",
   "execution_count": 94,
   "metadata": {
    "collapsed": true
   },
   "outputs": [],
   "source": [
    "from sklearn.decomposition import PCA"
   ]
  },
  {
   "cell_type": "code",
   "execution_count": 95,
   "metadata": {},
   "outputs": [],
   "source": [
    "pca = PCA(n_components=50).fit(features_train[catcolumns])"
   ]
  },
  {
   "cell_type": "code",
   "execution_count": 127,
   "metadata": {},
   "outputs": [
    {
     "data": {
      "image/png": "[encoded data removed]",
      "text/plain": [
       "<matplotlib.figure.Figure at 0x2ab8212b240>"
      ]
     },
     "metadata": {},
     "output_type": "display_data"
    }
   ],
   "source": [
    "# there is a steep drop in EV on the 6th additional component. visual analysis suggests we project the features onto a \n",
    "# 5 dimensional subspace, but EV reduction does not level off until after around 12 dimensions. using 12 dimensions should be\n",
    "# computationally feasible. we will use 12 instead of 5, to not reduce the complexity too much (and risk losing information)\n",
    "\n",
    "fig, ax = plt.subplots(1,1,figsize=(10,5))\n",
    "\n",
    "ax.plot(list(range(1,51)),pca.explained_variance_,'X-')\n",
    "ax.set_title('PCA on Indicator Features',fontsize=20)\n",
    "ax.set_ylabel('Explained\\nVariance',fontsize=16,rotation=0,labelpad=38)\n",
    "ax.set_xlabel('Components',fontsize=16)\n",
    "\n",
    "#plt.savefig('./report/PCA-categories.jpg')"
   ]
  },
  {
   "cell_type": "code",
   "execution_count": 38,
   "metadata": {
    "collapsed": true
   },
   "outputs": [],
   "source": [
    "pca = PCA(n_components=12).fit(features_train[catcolumns])"
   ]
  },
  {
   "cell_type": "code",
   "execution_count": 39,
   "metadata": {
    "collapsed": true
   },
   "outputs": [],
   "source": [
    "# transform represents the categorical dummy features reduced to a 12 dimensional feature space via PCA\n",
    "\n",
    "transform = pd.DataFrame(pca.transform(features_train[catcolumns]))"
   ]
  },
  {
   "cell_type": "code",
   "execution_count": 40,
   "metadata": {
    "collapsed": true
   },
   "outputs": [],
   "source": [
    "# the training data, with categorical features reduced to 12 components. now, we have a much more computationally manageable\n",
    "# feature space dimension of 23. unsupervised learning algorithms can also now be applied (on a baseline test run, k-means\n",
    "# took too long to finish fitting)\n",
    "\n",
    "numerical = list(set(features_train)-set(catcolumns))\n",
    "features_train_T = features_train[numerical].merge(transform,left_index=True,right_index=True).copy()"
   ]
  },
  {
   "cell_type": "code",
   "execution_count": 41,
   "metadata": {
    "collapsed": true
   },
   "outputs": [],
   "source": [
    "from sklearn.cluster import KMeans\n",
    "from sklearn.cluster import DBSCAN\n",
    "from sklearn.cluster import AgglomerativeClustering\n",
    "from sklearn.cluster import AffinityPropagation\n",
    "from sklearn.metrics import silhouette_score"
   ]
  },
  {
   "cell_type": "code",
   "execution_count": 42,
   "metadata": {
    "collapsed": true
   },
   "outputs": [],
   "source": [
    "# not enough memory in RAM to run silhouette score on the full training set.. we will compute \n",
    "# silhouette score on a random sample. computing the silhouette score is fairly computationally expensive.. saving\n",
    "# results to eliminate need for re-running that bit of code\n",
    "\n",
    "#ss = []\n",
    "#sil_avgs = []\n",
    "\n",
    "#for n in range(2,51):\n",
    " #   KM = KMeans(n_clusters=n,random_state=2).fit(features_train_T[list(range(12))])\n",
    "    #ss.append(KM.inertia_)\n",
    "    \n",
    "    #labeled_features = features_train_T[list(range(12))].merge(pd.DataFrame(KM.labels_),\\\n",
    "     #                                                          left_index=True,right_index=True).copy()\n",
    "    #sil_avgs.append(silhouette_score(labeled_features.sample(30000,random_state=2).drop('0_y',axis=1),\\\n",
    "     #            labeled_features.sample(30000,random_state=2)['0_y']))"
   ]
  },
  {
   "cell_type": "code",
   "execution_count": 43,
   "metadata": {
    "collapsed": true
   },
   "outputs": [],
   "source": [
    "# the computation takes a while to complete.. we save the results to eliminate the need to re-run\n",
    "\n",
    "#pd.DataFrame(ss).to_csv('./data/category-sum-of-squares.csv')\n",
    "#pd.DataFrame(sil_avgs).to_csv('./data/category-silhouette-avgs.csv')\n",
    "\n",
    "ss = list(pd.read_csv('./data/category-sum-of-squares.csv').drop('Unnamed: 0',axis=1)['0'])\n",
    "sil_avgs = list(pd.read_csv('./data/category-silhouette-avgs.csv').drop('Unnamed: 0',axis=1)['0'])"
   ]
  },
  {
   "cell_type": "code",
   "execution_count": 134,
   "metadata": {},
   "outputs": [
    {
     "data": {
      "image/png": "[encoded data removed]",
      "text/plain": [
       "<matplotlib.figure.Figure at 0x2ab81e5d860>"
      ]
     },
     "metadata": {},
     "output_type": "display_data"
    }
   ],
   "source": [
    "# there is not a very obvious choice for k using analysis of sum of squares reduction -- SoS seems to continue to decrease\n",
    "# without leveling off even after 50 centroids are used. silhouette score is equally difficult to use to conclude an\n",
    "# optimal number of clusters--it seems to keep increasing (though not monotonically) with the cluster count\n",
    "\n",
    "fig, (ax1,ax2) = plt.subplots(1,2,figsize=(18,5))\n",
    "\n",
    "ax1.plot(list(range(2,51)),ss,'Xk-')\n",
    "ax1.set_title('Sum of Squares',fontsize=20)\n",
    "ax1.set_xlabel('Centroid Count: K',fontsize=16)\n",
    "\n",
    "ax2.plot(list(range(2,51)),sil_avgs,'Xb-')\n",
    "ax2.set_title('Silhouette Score',fontsize=20)\n",
    "ax2.set_xlabel('Centroid Count: K',fontsize=16)\n",
    "\n",
    "plt.tight_layout()\n",
    "\n",
    "#plt.savefig('./report/clustering-categories.jpg')"
   ]
  },
  {
   "cell_type": "code",
   "execution_count": 45,
   "metadata": {
    "collapsed": true
   },
   "outputs": [],
   "source": [
    "# for DBSCAN, we will study the % of data that is classified as noise to determine hyperparam values. first, epsilon:\n",
    "# the minimum euclidean distance between data points for them to be placed in the same cluster\n",
    "# -1 is the label for points classified as noise\n",
    "\n",
    "# we don't use grid search, since a scoring function to minimize percentage noise will end up overfitting\n",
    "# (it'll return the param values which cause 0% noise)\n",
    "\n",
    "#epsilons = [0.00005,0.0005,0.005,0.05,0.5,1]\n",
    "#percentage = []\n",
    "\n",
    "#for ep in epsilons:\n",
    " #   DB = DBSCAN(eps=ep).fit(features_train_T[list(range(12))])\n",
    "  #  if -1 not in DB.labels_:\n",
    "   #     percentage.append(0)\n",
    "    #    continue\n",
    "    #percentage.append(pd.Series(DB.labels_).value_counts().loc[-1]/len(features_train_T))"
   ]
  },
  {
   "cell_type": "code",
   "execution_count": 46,
   "metadata": {
    "collapsed": true
   },
   "outputs": [],
   "source": [
    "# next: the minimum number of data points in a cluster for the cluster to not be considered noise, all with epsilon = 0.5\n",
    "\n",
    "#min_samples = [5,10,20,30,40,50,70,100]\n",
    "#percentage1 = []\n",
    "\n",
    "#for ms in min_samples:\n",
    " #   DB = DBSCAN(min_samples=ms).fit(features_train_T[list(range(12))])\n",
    "  #  if -1 not in DB.labels_:\n",
    "   #     percentage1.append(0)\n",
    "    #    continue\n",
    "    #percentage1.append(pd.Series(DB.labels_).value_counts().loc[-1]/len(features_train_T))"
   ]
  },
  {
   "cell_type": "code",
   "execution_count": 47,
   "metadata": {
    "collapsed": true
   },
   "outputs": [],
   "source": [
    "# the computation takes a while to complete.. we save the results to eliminate the need to re-run\n",
    "\n",
    "#pd.DataFrame(percentage).to_csv('./data/category-epsilons-results.csv')\n",
    "#pd.DataFrame(percentage1).to_csv('./data/category-min-samples-results.csv')\n",
    "\n",
    "#percentage = list(pd.read_csv('./data/category-epsilons-results.csv').drop('Unnamed: 0',axis=1)['0'])\n",
    "#percentage1 = list(pd.read_csv('./data/category-min-samples-results.csv').drop('Unnamed: 0',axis=1)['0'])"
   ]
  },
  {
   "cell_type": "code",
   "execution_count": 48,
   "metadata": {
    "collapsed": true
   },
   "outputs": [],
   "source": [
    "# epsilon = 0.5 seems to be the ideal param value out of the tested values. \n",
    "\n",
    "#fig, ax = plt.subplots(1,1,figsize=(12,5))\n",
    "\n",
    "#ax.plot(epsilons,np.array(percentage)*100,'X-')\n",
    "#ax.set_ylabel('% Noise',rotation=0,labelpad=45,fontsize=16)\n",
    "#ax.set_xlabel('Epsilon',fontsize=16)\n",
    "#ax.set_title('DBSCAN on Transformed Dummy Variables',fontsize=20)"
   ]
  },
  {
   "cell_type": "code",
   "execution_count": 49,
   "metadata": {
    "collapsed": true
   },
   "outputs": [],
   "source": [
    "# again, the results do not indicate a very clear answer. use 30\n",
    "# ultimately, this is an intermediary step before we enter the values into the predictive models and there may not be \n",
    "# a large impact on the final model performance\n",
    "\n",
    "#fig, ax = plt.subplots(1,1,figsize=(12,5))\n",
    "\n",
    "#ax.plot(min_samples,np.array(percentage1)*100,'X-')\n",
    "#ax.set_ylabel('% Noise',rotation=0,labelpad=45,fontsize=16)\n",
    "#ax.set_xlabel('Minimum Samples per Cluster',fontsize=16)\n",
    "#ax.set_title('DBSCAN on Transformed Dummy Variables',fontsize=20)"
   ]
  },
  {
   "cell_type": "code",
   "execution_count": 50,
   "metadata": {
    "collapsed": true
   },
   "outputs": [],
   "source": [
    "KM = KMeans(n_clusters=30).fit(features_train_T[list(range(12))])\n",
    "KMlabels = KM.labels_\n",
    "#DB = DBSCAN(eps=0.5,min_samples=30).fit(features_train_T[list(range(12))])\n",
    "#DBlabels = DB.labels_"
   ]
  },
  {
   "cell_type": "code",
   "execution_count": 51,
   "metadata": {
    "collapsed": true
   },
   "outputs": [],
   "source": [
    "clusters = pd.get_dummies(KMlabels)\n",
    "#pca = PCA(n_components=20).fit(clusters)"
   ]
  },
  {
   "cell_type": "code",
   "execution_count": 52,
   "metadata": {
    "collapsed": true
   },
   "outputs": [],
   "source": [
    "# we must use PCA again on the cluster dummies, since DBSCAN results in about 375 clusters. \n",
    "# use 9 components\n",
    "\n",
    "#fig, ax = plt.subplots(1,1,figsize=(12,7))\n",
    "\n",
    "#ax.plot(list(range(1,21)),pca.explained_variance_,'X-')\n",
    "#ax.set_title('PCA on Cluster Dummy Variables',fontsize=20)\n",
    "#ax.set_ylabel('Explained\\nVariance',fontsize=16,rotation=0,labelpad=45)\n",
    "#ax.set_xlabel('Components',fontsize=16)"
   ]
  },
  {
   "cell_type": "code",
   "execution_count": 53,
   "metadata": {
    "collapsed": true
   },
   "outputs": [],
   "source": [
    "#pca = PCA(n_components=9).fit(clusters)\n",
    "clusters_T = clusters"
   ]
  },
  {
   "cell_type": "code",
   "execution_count": 54,
   "metadata": {
    "collapsed": true,
    "scrolled": true
   },
   "outputs": [],
   "source": [
    "features_train_F = features_train_T.drop(list(range(12)),axis=1)\\\n",
    "    .merge(pd.DataFrame(clusters_T),left_index=True,right_index=True).copy()"
   ]
  },
  {
   "cell_type": "code",
   "execution_count": 55,
   "metadata": {
    "collapsed": true
   },
   "outputs": [],
   "source": [
    "# at this point we realize we cannot use DBSCAN, since the algorithm works in such a way that new data points cannot be \n",
    "# classified to clusters which were fit on the training data. we cannot even add the new data points to the training data\n",
    "# and re-run DBSCAN, since that changes the overall structure of the data and could cause different clustering to form\n",
    "\n",
    "# since we don't run DBSCAN, we don't need to run PCA a second time. DBSCAN was originally causing 370+ new features to be\n",
    "# added after running get_dummies(), which created a need for dimensionality reduction. we only have 30 clusters with\n",
    "# KMeans, which does not increase computational overhead excessively "
   ]
  },
  {
   "cell_type": "code",
   "execution_count": 56,
   "metadata": {
    "collapsed": true
   },
   "outputs": [],
   "source": [
    "# we must transform the test data using the same steps, but we must classify the new data based on the clusters established\n",
    "# from running KMeans on the training data. \n",
    "\n",
    "# 'numerical' is taken from global scope. instantiated when establishing features_train_T\n",
    "# we use it because we want to ensure features_train_T and features_test_T have the same ordering of columns\n",
    "\n",
    "def transform_categories(features_train,features_test,categories,cluster):\n",
    "    \n",
    "    pca = PCA(n_components=12).fit(features_train[categories]) # establish subspace components to project onto\n",
    "    KM = KMeans(n_clusters=30).fit(pca.transform(features_train[categories])) # establish clusters amongst categories\n",
    "    \n",
    "    transform = pd.DataFrame(pca.transform(features_test[categories])) # reduce dimensions of categories\n",
    "    features_test_T = features_test[numerical]\\\n",
    "        .merge(transform,left_index=True,right_index=True).copy() # append reduced categories to numerical columns\n",
    "        \n",
    "    if cluster == False:\n",
    "        return features_test_T\n",
    "    \n",
    "    KMlabels = KM.predict(transform)\n",
    "    clusters = pd.get_dummies(KMlabels)\n",
    "    features_test_F = features_test_T.drop(list(range(12)),axis=1)\\\n",
    "        .merge(pd.DataFrame(clusters),left_index=True,right_index=True).copy()\n",
    "    \n",
    "    return features_test_F"
   ]
  },
  {
   "cell_type": "code",
   "execution_count": 57,
   "metadata": {
    "collapsed": true
   },
   "outputs": [],
   "source": [
    "features_test_F = transform_categories(features_train,features_test,categories=catcolumns,cluster=True)"
   ]
  },
  {
   "cell_type": "code",
   "execution_count": 58,
   "metadata": {},
   "outputs": [
    {
     "name": "stdout",
     "output_type": "stream",
     "text": [
      "             precision    recall  f1-score   support\n",
      "\n",
      "          0       0.40      0.01      0.02      8804\n",
      "          1       0.83      1.00      0.90     41670\n",
      "\n",
      "avg / total       0.75      0.82      0.75     50474\n",
      "\n",
      "             precision    recall  f1-score   support\n",
      "\n",
      "          0       0.31      0.31      0.31      8804\n",
      "          1       0.85      0.85      0.85     41670\n",
      "\n",
      "avg / total       0.76      0.76      0.76     50474\n",
      "\n",
      "             precision    recall  f1-score   support\n",
      "\n",
      "          0       0.30      0.11      0.16      8804\n",
      "          1       0.83      0.94      0.89     41670\n",
      "\n",
      "avg / total       0.74      0.80      0.76     50474\n",
      "\n"
     ]
    }
   ],
   "source": [
    "# running PCA and then KMeans in our series of transformations reduces recall a bit compared to when we run these algs\n",
    "# on the entire feature space (non-reduced dimensions), including dummies of categorical faetures. however, these\n",
    "# are all still better than the baseline version that does not include these categorical features\n",
    "\n",
    "# this may not make sense, however.. since we remove the categorical dummy variables and insert 30 clusters which are \n",
    "# also transformed into dummy variables. may as well just keep the original categorical dummy variables? i.e., let's\n",
    "# also test the performance without clustering. (we still run PCA to reduce the dimension)\n",
    "\n",
    "lr = LogisticRegression().fit(features_train_F,targets_train)\n",
    "print(classification_report(targets_test,lr.predict(features_test_F)))\n",
    "GNB = GaussianNB().fit(features_train_F,targets_train)\n",
    "print(classification_report(targets_test,GNB.predict(features_test_F)))\n",
    "KNN = KNeighborsClassifier().fit(features_train_F,targets_train)\n",
    "print(classification_report(targets_test,KNN.predict(features_test_F)))"
   ]
  },
  {
   "cell_type": "code",
   "execution_count": 59,
   "metadata": {
    "collapsed": true
   },
   "outputs": [],
   "source": [
    "# run without bothering with clustering. still reduce categorical dummies to 12 dimensions."
   ]
  },
  {
   "cell_type": "code",
   "execution_count": 60,
   "metadata": {
    "collapsed": true
   },
   "outputs": [],
   "source": [
    "# this version uses the PCA-reduced categorical columns instead of the clusters. however, we also need to train the \n",
    "# models with the same features\n",
    "\n",
    "features_test_T = transform_categories(features_train,features_test,categories=catcolumns,cluster=False)"
   ]
  },
  {
   "cell_type": "code",
   "execution_count": 61,
   "metadata": {},
   "outputs": [
    {
     "name": "stdout",
     "output_type": "stream",
     "text": [
      "             precision    recall  f1-score   support\n",
      "\n",
      "          0       0.43      0.01      0.01      8804\n",
      "          1       0.83      1.00      0.90     41670\n",
      "\n",
      "avg / total       0.76      0.83      0.75     50474\n",
      "\n",
      "             precision    recall  f1-score   support\n",
      "\n",
      "          0       0.32      0.33      0.33      8804\n",
      "          1       0.86      0.85      0.85     41670\n",
      "\n",
      "avg / total       0.76      0.76      0.76     50474\n",
      "\n",
      "             precision    recall  f1-score   support\n",
      "\n",
      "          0       0.30      0.11      0.16      8804\n",
      "          1       0.83      0.94      0.89     41670\n",
      "\n",
      "avg / total       0.74      0.80      0.76     50474\n",
      "\n"
     ]
    }
   ],
   "source": [
    "# results are more or less the same as in the case with clustering. clustering has no benefit (it actually adds \n",
    "# computational expense, since we use 30 clusters rather than 12 PCA reduced dimensions)\n",
    "\n",
    "lr1 = LogisticRegression().fit(features_train_T,targets_train)\n",
    "print(classification_report(targets_test,lr1.predict(features_test_T)))\n",
    "GNB1 = GaussianNB().fit(features_train_T,targets_train)\n",
    "print(classification_report(targets_test,GNB1.predict(features_test_T)))\n",
    "KNN1 = KNeighborsClassifier().fit(features_train_T,targets_train)\n",
    "print(classification_report(targets_test,KNN1.predict(features_test_T)))"
   ]
  },
  {
   "cell_type": "markdown",
   "metadata": {},
   "source": [
    "---"
   ]
  },
  {
   "cell_type": "code",
   "execution_count": 62,
   "metadata": {
    "collapsed": true
   },
   "outputs": [],
   "source": [
    "# now, we can finally run the entire pipeline again. we will run it twice: once with clustering and once without clustering"
   ]
  },
  {
   "cell_type": "code",
   "execution_count": 63,
   "metadata": {
    "collapsed": true
   },
   "outputs": [],
   "source": [
    "# Random Forest will prob do poorly-- it takes a random subset of features for each tree, but much of the features (about half)\n",
    "# are dummy variables from the categorical conversion + PCA transformation. most of the trees in the ensemble would be\n",
    "# built on features that are not very undescriptive. these dummy variables can potentially aid in prediction if they are\n",
    "# used together with the main features, but have little predictive value on their own. \n",
    "\n",
    "algs = [('LR',LogisticRegression()),('GNB',GaussianNB()),('KNN',KNeighborsClassifier()),('RF',RandomForestClassifier())]"
   ]
  },
  {
   "cell_type": "code",
   "execution_count": 64,
   "metadata": {
    "collapsed": true
   },
   "outputs": [],
   "source": [
    "# features_train and features_test are used within the pipeline function, but not as arguments. they take the \n",
    "# data from the global scope, so we must assign to those variables the transformed versions\n",
    "# (features_train_T established while developing the transform_cateogries; features_test_T is obtained from running the func)\n",
    "\n",
    "features_train = features_train_F\n",
    "features_test = features_test_F"
   ]
  },
  {
   "cell_type": "code",
   "execution_count": 65,
   "metadata": {
    "collapsed": true
   },
   "outputs": [],
   "source": [
    "#cluster_results = PipelineLayer2(algs,metric='neg',ratios=ratios)"
   ]
  },
  {
   "cell_type": "code",
   "execution_count": 66,
   "metadata": {
    "collapsed": true
   },
   "outputs": [],
   "source": [
    "#cluster_results.to_csv('.\\data\\category-results-clustering.csv')\n",
    "\n",
    "cluster_results = pd.read_csv('.\\data\\category-results-clustering.csv').set_index('model')"
   ]
  },
  {
   "cell_type": "code",
   "execution_count": 67,
   "metadata": {
    "collapsed": true
   },
   "outputs": [],
   "source": [
    "# without clustering\n",
    "\n",
    "features_train = features_train_T\n",
    "features_test = features_test_T"
   ]
  },
  {
   "cell_type": "code",
   "execution_count": 68,
   "metadata": {
    "collapsed": true
   },
   "outputs": [],
   "source": [
    "#no_cluster_results = PipelineLayer2(algs,metric='neg',ratios=ratios)"
   ]
  },
  {
   "cell_type": "code",
   "execution_count": 69,
   "metadata": {
    "collapsed": true
   },
   "outputs": [],
   "source": [
    "#no_cluster_results.to_csv('.\\data\\category-results-no-clustering.csv')\n",
    "\n",
    "no_cluster_results = pd.read_csv('.\\data\\category-results-no-clustering.csv').set_index('model')"
   ]
  },
  {
   "cell_type": "markdown",
   "metadata": {},
   "source": [
    "---"
   ]
  },
  {
   "cell_type": "code",
   "execution_count": 136,
   "metadata": {
    "collapsed": true
   },
   "outputs": [],
   "source": [
    "pos = ['P_pre','P_rec','UnderSamp_P_pre','UnderSamp_P_rec','SMOTE_P_pre','SMOTE_P_rec','ADASYN_P_pre','ADASYN_P_rec']\n",
    "neg = ['N_pre','N_rec','UnderSamp_N_pre','UnderSamp_N_rec','SMOTE_N_pre','SMOTE_N_rec','ADASYN_N_pre','ADASYN_N_rec']"
   ]
  },
  {
   "cell_type": "code",
   "execution_count": 71,
   "metadata": {},
   "outputs": [
    {
     "data": {
      "text/html": [
       "<div>\n",
       "<style>\n",
       "    .dataframe thead tr:only-child th {\n",
       "        text-align: right;\n",
       "    }\n",
       "\n",
       "    .dataframe thead th {\n",
       "        text-align: left;\n",
       "    }\n",
       "\n",
       "    .dataframe tbody tr th {\n",
       "        vertical-align: top;\n",
       "    }\n",
       "</style>\n",
       "<table border=\"1\" class=\"dataframe\">\n",
       "  <thead>\n",
       "    <tr style=\"text-align: right;\">\n",
       "      <th></th>\n",
       "      <th>N_pre</th>\n",
       "      <th>N_rec</th>\n",
       "      <th>UnderSamp_N_pre</th>\n",
       "      <th>UnderSamp_N_rec</th>\n",
       "      <th>SMOTE_N_pre</th>\n",
       "      <th>SMOTE_N_rec</th>\n",
       "      <th>ADASYN_N_pre</th>\n",
       "      <th>ADASYN_N_rec</th>\n",
       "    </tr>\n",
       "    <tr>\n",
       "      <th>model</th>\n",
       "      <th></th>\n",
       "      <th></th>\n",
       "      <th></th>\n",
       "      <th></th>\n",
       "      <th></th>\n",
       "      <th></th>\n",
       "      <th></th>\n",
       "      <th></th>\n",
       "    </tr>\n",
       "  </thead>\n",
       "  <tbody>\n",
       "    <tr>\n",
       "      <th>LR</th>\n",
       "      <td>0.427136</td>\n",
       "      <td>0.019309</td>\n",
       "      <td>0.273490</td>\n",
       "      <td>0.625511</td>\n",
       "      <td>0.271991</td>\n",
       "      <td>0.629373</td>\n",
       "      <td>0.256371</td>\n",
       "      <td>0.708428</td>\n",
       "    </tr>\n",
       "    <tr>\n",
       "      <th>reLR</th>\n",
       "      <td>0.404494</td>\n",
       "      <td>0.008178</td>\n",
       "      <td>0.273836</td>\n",
       "      <td>0.625057</td>\n",
       "      <td>0.272186</td>\n",
       "      <td>0.627783</td>\n",
       "      <td>0.256325</td>\n",
       "      <td>0.708882</td>\n",
       "    </tr>\n",
       "    <tr>\n",
       "      <th>GNB</th>\n",
       "      <td>0.316061</td>\n",
       "      <td>0.320082</td>\n",
       "      <td>0.270894</td>\n",
       "      <td>0.566220</td>\n",
       "      <td>0.241990</td>\n",
       "      <td>0.727510</td>\n",
       "      <td>0.209674</td>\n",
       "      <td>0.825193</td>\n",
       "    </tr>\n",
       "    <tr>\n",
       "      <th>reGNB</th>\n",
       "      <td>0.270347</td>\n",
       "      <td>0.562926</td>\n",
       "      <td>0.256158</td>\n",
       "      <td>0.647319</td>\n",
       "      <td>0.227005</td>\n",
       "      <td>0.800886</td>\n",
       "      <td>0.200532</td>\n",
       "      <td>0.873807</td>\n",
       "    </tr>\n",
       "    <tr>\n",
       "      <th>KNN</th>\n",
       "      <td>0.297207</td>\n",
       "      <td>0.111199</td>\n",
       "      <td>0.227424</td>\n",
       "      <td>0.588142</td>\n",
       "      <td>0.223180</td>\n",
       "      <td>0.497160</td>\n",
       "      <td>0.242788</td>\n",
       "      <td>0.286801</td>\n",
       "    </tr>\n",
       "    <tr>\n",
       "      <th>reKNN</th>\n",
       "      <td>0.264309</td>\n",
       "      <td>0.251249</td>\n",
       "      <td>0.209091</td>\n",
       "      <td>0.735120</td>\n",
       "      <td>0.223570</td>\n",
       "      <td>0.445820</td>\n",
       "      <td>0.246706</td>\n",
       "      <td>0.287142</td>\n",
       "    </tr>\n",
       "    <tr>\n",
       "      <th>RF</th>\n",
       "      <td>0.302279</td>\n",
       "      <td>0.138573</td>\n",
       "      <td>0.227376</td>\n",
       "      <td>0.684348</td>\n",
       "      <td>0.302046</td>\n",
       "      <td>0.199568</td>\n",
       "      <td>0.292909</td>\n",
       "      <td>0.182985</td>\n",
       "    </tr>\n",
       "    <tr>\n",
       "      <th>reRF</th>\n",
       "      <td>0.308200</td>\n",
       "      <td>0.137892</td>\n",
       "      <td>0.259681</td>\n",
       "      <td>0.679464</td>\n",
       "      <td>0.328131</td>\n",
       "      <td>0.183894</td>\n",
       "      <td>0.315528</td>\n",
       "      <td>0.108019</td>\n",
       "    </tr>\n",
       "  </tbody>\n",
       "</table>\n",
       "</div>"
      ],
      "text/plain": [
       "          N_pre     N_rec  UnderSamp_N_pre  UnderSamp_N_rec  SMOTE_N_pre  \\\n",
       "model                                                                      \n",
       "LR     0.427136  0.019309         0.273490         0.625511     0.271991   \n",
       "reLR   0.404494  0.008178         0.273836         0.625057     0.272186   \n",
       "GNB    0.316061  0.320082         0.270894         0.566220     0.241990   \n",
       "reGNB  0.270347  0.562926         0.256158         0.647319     0.227005   \n",
       "KNN    0.297207  0.111199         0.227424         0.588142     0.223180   \n",
       "reKNN  0.264309  0.251249         0.209091         0.735120     0.223570   \n",
       "RF     0.302279  0.138573         0.227376         0.684348     0.302046   \n",
       "reRF   0.308200  0.137892         0.259681         0.679464     0.328131   \n",
       "\n",
       "       SMOTE_N_rec  ADASYN_N_pre  ADASYN_N_rec  \n",
       "model                                           \n",
       "LR        0.629373      0.256371      0.708428  \n",
       "reLR      0.627783      0.256325      0.708882  \n",
       "GNB       0.727510      0.209674      0.825193  \n",
       "reGNB     0.800886      0.200532      0.873807  \n",
       "KNN       0.497160      0.242788      0.286801  \n",
       "reKNN     0.445820      0.246706      0.287142  \n",
       "RF        0.199568      0.292909      0.182985  \n",
       "reRF      0.183894      0.315528      0.108019  "
      ]
     },
     "execution_count": 71,
     "metadata": {},
     "output_type": "execute_result"
    }
   ],
   "source": [
    "# woah.. clustering greatly improves model performance, in particular ADASYN GNB recall\n",
    "# note - this is all with a 1:1 ratio after resampling. we can still play with the ratios after establishing\n",
    "# desired (and feasible) levels of precision/recall\n",
    "\n",
    "cluster_results[neg]"
   ]
  },
  {
   "cell_type": "code",
   "execution_count": 137,
   "metadata": {},
   "outputs": [
    {
     "data": {
      "text/html": [
       "<div>\n",
       "<style>\n",
       "    .dataframe thead tr:only-child th {\n",
       "        text-align: right;\n",
       "    }\n",
       "\n",
       "    .dataframe thead th {\n",
       "        text-align: left;\n",
       "    }\n",
       "\n",
       "    .dataframe tbody tr th {\n",
       "        vertical-align: top;\n",
       "    }\n",
       "</style>\n",
       "<table border=\"1\" class=\"dataframe\">\n",
       "  <thead>\n",
       "    <tr style=\"text-align: right;\">\n",
       "      <th></th>\n",
       "      <th>P_pre</th>\n",
       "      <th>P_rec</th>\n",
       "      <th>UnderSamp_P_pre</th>\n",
       "      <th>UnderSamp_P_rec</th>\n",
       "      <th>SMOTE_P_pre</th>\n",
       "      <th>SMOTE_P_rec</th>\n",
       "      <th>ADASYN_P_pre</th>\n",
       "      <th>ADASYN_P_rec</th>\n",
       "    </tr>\n",
       "    <tr>\n",
       "      <th>model</th>\n",
       "      <th></th>\n",
       "      <th></th>\n",
       "      <th></th>\n",
       "      <th></th>\n",
       "      <th></th>\n",
       "      <th></th>\n",
       "      <th></th>\n",
       "      <th></th>\n",
       "    </tr>\n",
       "  </thead>\n",
       "  <tbody>\n",
       "    <tr>\n",
       "      <th>LR</th>\n",
       "      <td>0.827582</td>\n",
       "      <td>0.994528</td>\n",
       "      <td>0.891324</td>\n",
       "      <td>0.648932</td>\n",
       "      <td>0.891602</td>\n",
       "      <td>0.644084</td>\n",
       "      <td>0.901821</td>\n",
       "      <td>0.565851</td>\n",
       "    </tr>\n",
       "    <tr>\n",
       "      <th>reLR</th>\n",
       "      <td>0.826388</td>\n",
       "      <td>0.997456</td>\n",
       "      <td>0.891336</td>\n",
       "      <td>0.649796</td>\n",
       "      <td>0.891375</td>\n",
       "      <td>0.645332</td>\n",
       "      <td>0.901898</td>\n",
       "      <td>0.565467</td>\n",
       "    </tr>\n",
       "    <tr>\n",
       "      <th>GNB</th>\n",
       "      <td>0.855960</td>\n",
       "      <td>0.853660</td>\n",
       "      <td>0.880924</td>\n",
       "      <td>0.678018</td>\n",
       "      <td>0.900067</td>\n",
       "      <td>0.518527</td>\n",
       "      <td>0.902749</td>\n",
       "      <td>0.342837</td>\n",
       "    </tr>\n",
       "    <tr>\n",
       "      <th>reGNB</th>\n",
       "      <td>0.880281</td>\n",
       "      <td>0.679002</td>\n",
       "      <td>0.889995</td>\n",
       "      <td>0.602856</td>\n",
       "      <td>0.909700</td>\n",
       "      <td>0.423806</td>\n",
       "      <td>0.908265</td>\n",
       "      <td>0.263979</td>\n",
       "    </tr>\n",
       "    <tr>\n",
       "      <th>KNN</th>\n",
       "      <td>0.834146</td>\n",
       "      <td>0.944444</td>\n",
       "      <td>0.869126</td>\n",
       "      <td>0.577874</td>\n",
       "      <td>0.856555</td>\n",
       "      <td>0.634389</td>\n",
       "      <td>0.843315</td>\n",
       "      <td>0.811015</td>\n",
       "    </tr>\n",
       "    <tr>\n",
       "      <th>reKNN</th>\n",
       "      <td>0.843439</td>\n",
       "      <td>0.852244</td>\n",
       "      <td>0.880539</td>\n",
       "      <td>0.412503</td>\n",
       "      <td>0.851783</td>\n",
       "      <td>0.672882</td>\n",
       "      <td>0.843985</td>\n",
       "      <td>0.814759</td>\n",
       "    </tr>\n",
       "    <tr>\n",
       "      <th>RF</th>\n",
       "      <td>0.836685</td>\n",
       "      <td>0.932421</td>\n",
       "      <td>0.884092</td>\n",
       "      <td>0.508687</td>\n",
       "      <td>0.842197</td>\n",
       "      <td>0.902568</td>\n",
       "      <td>0.840063</td>\n",
       "      <td>0.906671</td>\n",
       "    </tr>\n",
       "    <tr>\n",
       "      <th>reRF</th>\n",
       "      <td>0.836897</td>\n",
       "      <td>0.934605</td>\n",
       "      <td>0.897150</td>\n",
       "      <td>0.590737</td>\n",
       "      <td>0.842227</td>\n",
       "      <td>0.920446</td>\n",
       "      <td>0.834534</td>\n",
       "      <td>0.950492</td>\n",
       "    </tr>\n",
       "  </tbody>\n",
       "</table>\n",
       "</div>"
      ],
      "text/plain": [
       "          P_pre     P_rec  UnderSamp_P_pre  UnderSamp_P_rec  SMOTE_P_pre  \\\n",
       "model                                                                      \n",
       "LR     0.827582  0.994528         0.891324         0.648932     0.891602   \n",
       "reLR   0.826388  0.997456         0.891336         0.649796     0.891375   \n",
       "GNB    0.855960  0.853660         0.880924         0.678018     0.900067   \n",
       "reGNB  0.880281  0.679002         0.889995         0.602856     0.909700   \n",
       "KNN    0.834146  0.944444         0.869126         0.577874     0.856555   \n",
       "reKNN  0.843439  0.852244         0.880539         0.412503     0.851783   \n",
       "RF     0.836685  0.932421         0.884092         0.508687     0.842197   \n",
       "reRF   0.836897  0.934605         0.897150         0.590737     0.842227   \n",
       "\n",
       "       SMOTE_P_rec  ADASYN_P_pre  ADASYN_P_rec  \n",
       "model                                           \n",
       "LR        0.644084      0.901821      0.565851  \n",
       "reLR      0.645332      0.901898      0.565467  \n",
       "GNB       0.518527      0.902749      0.342837  \n",
       "reGNB     0.423806      0.908265      0.263979  \n",
       "KNN       0.634389      0.843315      0.811015  \n",
       "reKNN     0.672882      0.843985      0.814759  \n",
       "RF        0.902568      0.840063      0.906671  \n",
       "reRF      0.920446      0.834534      0.950492  "
      ]
     },
     "execution_count": 137,
     "metadata": {},
     "output_type": "execute_result"
    }
   ],
   "source": [
    "cluster_results[pos]"
   ]
  },
  {
   "cell_type": "code",
   "execution_count": 72,
   "metadata": {},
   "outputs": [
    {
     "data": {
      "text/html": [
       "<div>\n",
       "<style>\n",
       "    .dataframe thead tr:only-child th {\n",
       "        text-align: right;\n",
       "    }\n",
       "\n",
       "    .dataframe thead th {\n",
       "        text-align: left;\n",
       "    }\n",
       "\n",
       "    .dataframe tbody tr th {\n",
       "        vertical-align: top;\n",
       "    }\n",
       "</style>\n",
       "<table border=\"1\" class=\"dataframe\">\n",
       "  <thead>\n",
       "    <tr style=\"text-align: right;\">\n",
       "      <th></th>\n",
       "      <th>N_pre</th>\n",
       "      <th>N_rec</th>\n",
       "      <th>UnderSamp_N_pre</th>\n",
       "      <th>UnderSamp_N_rec</th>\n",
       "      <th>SMOTE_N_pre</th>\n",
       "      <th>SMOTE_N_rec</th>\n",
       "      <th>ADASYN_N_pre</th>\n",
       "      <th>ADASYN_N_rec</th>\n",
       "    </tr>\n",
       "    <tr>\n",
       "      <th>model</th>\n",
       "      <th></th>\n",
       "      <th></th>\n",
       "      <th></th>\n",
       "      <th></th>\n",
       "      <th></th>\n",
       "      <th></th>\n",
       "      <th></th>\n",
       "      <th></th>\n",
       "    </tr>\n",
       "  </thead>\n",
       "  <tbody>\n",
       "    <tr>\n",
       "      <th>LR</th>\n",
       "      <td>0.426554</td>\n",
       "      <td>0.017151</td>\n",
       "      <td>0.274980</td>\n",
       "      <td>0.635166</td>\n",
       "      <td>0.274922</td>\n",
       "      <td>0.633689</td>\n",
       "      <td>0.257353</td>\n",
       "      <td>0.714562</td>\n",
       "    </tr>\n",
       "    <tr>\n",
       "      <th>reLR</th>\n",
       "      <td>0.402256</td>\n",
       "      <td>0.012154</td>\n",
       "      <td>0.274669</td>\n",
       "      <td>0.632326</td>\n",
       "      <td>0.271399</td>\n",
       "      <td>0.634939</td>\n",
       "      <td>0.255227</td>\n",
       "      <td>0.715470</td>\n",
       "    </tr>\n",
       "    <tr>\n",
       "      <th>GNB</th>\n",
       "      <td>0.318875</td>\n",
       "      <td>0.332349</td>\n",
       "      <td>0.274333</td>\n",
       "      <td>0.566333</td>\n",
       "      <td>0.262404</td>\n",
       "      <td>0.618128</td>\n",
       "      <td>0.231312</td>\n",
       "      <td>0.685711</td>\n",
       "    </tr>\n",
       "    <tr>\n",
       "      <th>reGNB</th>\n",
       "      <td>0.261056</td>\n",
       "      <td>0.644366</td>\n",
       "      <td>0.260950</td>\n",
       "      <td>0.642890</td>\n",
       "      <td>0.248248</td>\n",
       "      <td>0.696274</td>\n",
       "      <td>0.220014</td>\n",
       "      <td>0.760904</td>\n",
       "    </tr>\n",
       "    <tr>\n",
       "      <th>KNN</th>\n",
       "      <td>0.300030</td>\n",
       "      <td>0.111881</td>\n",
       "      <td>0.230889</td>\n",
       "      <td>0.587347</td>\n",
       "      <td>0.225715</td>\n",
       "      <td>0.508065</td>\n",
       "      <td>0.244896</td>\n",
       "      <td>0.290209</td>\n",
       "    </tr>\n",
       "    <tr>\n",
       "      <th>reKNN</th>\n",
       "      <td>0.265069</td>\n",
       "      <td>0.251249</td>\n",
       "      <td>0.208885</td>\n",
       "      <td>0.733303</td>\n",
       "      <td>0.223567</td>\n",
       "      <td>0.448887</td>\n",
       "      <td>0.244571</td>\n",
       "      <td>0.283962</td>\n",
       "    </tr>\n",
       "    <tr>\n",
       "      <th>RF</th>\n",
       "      <td>0.316195</td>\n",
       "      <td>0.144593</td>\n",
       "      <td>0.230510</td>\n",
       "      <td>0.690482</td>\n",
       "      <td>0.300139</td>\n",
       "      <td>0.196161</td>\n",
       "      <td>0.301639</td>\n",
       "      <td>0.177647</td>\n",
       "    </tr>\n",
       "    <tr>\n",
       "      <th>reRF</th>\n",
       "      <td>0.317656</td>\n",
       "      <td>0.149591</td>\n",
       "      <td>0.265471</td>\n",
       "      <td>0.647547</td>\n",
       "      <td>0.347698</td>\n",
       "      <td>0.120968</td>\n",
       "      <td>0.375723</td>\n",
       "      <td>0.066447</td>\n",
       "    </tr>\n",
       "  </tbody>\n",
       "</table>\n",
       "</div>"
      ],
      "text/plain": [
       "          N_pre     N_rec  UnderSamp_N_pre  UnderSamp_N_rec  SMOTE_N_pre  \\\n",
       "model                                                                      \n",
       "LR     0.426554  0.017151         0.274980         0.635166     0.274922   \n",
       "reLR   0.402256  0.012154         0.274669         0.632326     0.271399   \n",
       "GNB    0.318875  0.332349         0.274333         0.566333     0.262404   \n",
       "reGNB  0.261056  0.644366         0.260950         0.642890     0.248248   \n",
       "KNN    0.300030  0.111881         0.230889         0.587347     0.225715   \n",
       "reKNN  0.265069  0.251249         0.208885         0.733303     0.223567   \n",
       "RF     0.316195  0.144593         0.230510         0.690482     0.300139   \n",
       "reRF   0.317656  0.149591         0.265471         0.647547     0.347698   \n",
       "\n",
       "       SMOTE_N_rec  ADASYN_N_pre  ADASYN_N_rec  \n",
       "model                                           \n",
       "LR        0.633689      0.257353      0.714562  \n",
       "reLR      0.634939      0.255227      0.715470  \n",
       "GNB       0.618128      0.231312      0.685711  \n",
       "reGNB     0.696274      0.220014      0.760904  \n",
       "KNN       0.508065      0.244896      0.290209  \n",
       "reKNN     0.448887      0.244571      0.283962  \n",
       "RF        0.196161      0.301639      0.177647  \n",
       "reRF      0.120968      0.375723      0.066447  "
      ]
     },
     "execution_count": 72,
     "metadata": {},
     "output_type": "execute_result"
    }
   ],
   "source": [
    "# need to compare with the other pipeline results, but indeed..random forest seems to be performing very poorly\n",
    "\n",
    "no_cluster_results[neg]"
   ]
  },
  {
   "cell_type": "code",
   "execution_count": 138,
   "metadata": {},
   "outputs": [
    {
     "data": {
      "text/html": [
       "<div>\n",
       "<style>\n",
       "    .dataframe thead tr:only-child th {\n",
       "        text-align: right;\n",
       "    }\n",
       "\n",
       "    .dataframe thead th {\n",
       "        text-align: left;\n",
       "    }\n",
       "\n",
       "    .dataframe tbody tr th {\n",
       "        vertical-align: top;\n",
       "    }\n",
       "</style>\n",
       "<table border=\"1\" class=\"dataframe\">\n",
       "  <thead>\n",
       "    <tr style=\"text-align: right;\">\n",
       "      <th></th>\n",
       "      <th>P_pre</th>\n",
       "      <th>P_rec</th>\n",
       "      <th>UnderSamp_P_pre</th>\n",
       "      <th>UnderSamp_P_rec</th>\n",
       "      <th>SMOTE_P_pre</th>\n",
       "      <th>SMOTE_P_rec</th>\n",
       "      <th>ADASYN_P_pre</th>\n",
       "      <th>ADASYN_P_rec</th>\n",
       "    </tr>\n",
       "    <tr>\n",
       "      <th>model</th>\n",
       "      <th></th>\n",
       "      <th></th>\n",
       "      <th></th>\n",
       "      <th></th>\n",
       "      <th></th>\n",
       "      <th></th>\n",
       "      <th></th>\n",
       "      <th></th>\n",
       "    </tr>\n",
       "  </thead>\n",
       "  <tbody>\n",
       "    <tr>\n",
       "      <th>LR</th>\n",
       "      <td>0.827354</td>\n",
       "      <td>0.995128</td>\n",
       "      <td>0.893424</td>\n",
       "      <td>0.646172</td>\n",
       "      <td>0.893145</td>\n",
       "      <td>0.646892</td>\n",
       "      <td>0.903454</td>\n",
       "      <td>0.564339</td>\n",
       "    </tr>\n",
       "    <tr>\n",
       "      <th>reLR</th>\n",
       "      <td>0.826781</td>\n",
       "      <td>0.996184</td>\n",
       "      <td>0.892836</td>\n",
       "      <td>0.647204</td>\n",
       "      <td>0.892426</td>\n",
       "      <td>0.639861</td>\n",
       "      <td>0.902884</td>\n",
       "      <td>0.558891</td>\n",
       "    </tr>\n",
       "    <tr>\n",
       "      <th>GNB</th>\n",
       "      <td>0.857669</td>\n",
       "      <td>0.850012</td>\n",
       "      <td>0.881792</td>\n",
       "      <td>0.683489</td>\n",
       "      <td>0.886935</td>\n",
       "      <td>0.632901</td>\n",
       "      <td>0.886482</td>\n",
       "      <td>0.518551</td>\n",
       "    </tr>\n",
       "    <tr>\n",
       "      <th>reGNB</th>\n",
       "      <td>0.891069</td>\n",
       "      <td>0.614639</td>\n",
       "      <td>0.890773</td>\n",
       "      <td>0.615311</td>\n",
       "      <td>0.896280</td>\n",
       "      <td>0.554524</td>\n",
       "      <td>0.894887</td>\n",
       "      <td>0.430070</td>\n",
       "    </tr>\n",
       "    <tr>\n",
       "      <th>KNN</th>\n",
       "      <td>0.834312</td>\n",
       "      <td>0.944852</td>\n",
       "      <td>0.870610</td>\n",
       "      <td>0.586633</td>\n",
       "      <td>0.858727</td>\n",
       "      <td>0.631773</td>\n",
       "      <td>0.843935</td>\n",
       "      <td>0.810943</td>\n",
       "    </tr>\n",
       "    <tr>\n",
       "      <th>reKNN</th>\n",
       "      <td>0.843528</td>\n",
       "      <td>0.852820</td>\n",
       "      <td>0.880002</td>\n",
       "      <td>0.413223</td>\n",
       "      <td>0.852060</td>\n",
       "      <td>0.670626</td>\n",
       "      <td>0.843387</td>\n",
       "      <td>0.814687</td>\n",
       "    </tr>\n",
       "    <tr>\n",
       "      <th>RF</th>\n",
       "      <td>0.837862</td>\n",
       "      <td>0.933933</td>\n",
       "      <td>0.886939</td>\n",
       "      <td>0.513007</td>\n",
       "      <td>0.841749</td>\n",
       "      <td>0.903360</td>\n",
       "      <td>0.840138</td>\n",
       "      <td>0.913103</td>\n",
       "    </tr>\n",
       "    <tr>\n",
       "      <th>reRF</th>\n",
       "      <td>0.838391</td>\n",
       "      <td>0.932109</td>\n",
       "      <td>0.892996</td>\n",
       "      <td>0.621454</td>\n",
       "      <td>0.836768</td>\n",
       "      <td>0.952052</td>\n",
       "      <td>0.831981</td>\n",
       "      <td>0.976674</td>\n",
       "    </tr>\n",
       "  </tbody>\n",
       "</table>\n",
       "</div>"
      ],
      "text/plain": [
       "          P_pre     P_rec  UnderSamp_P_pre  UnderSamp_P_rec  SMOTE_P_pre  \\\n",
       "model                                                                      \n",
       "LR     0.827354  0.995128         0.893424         0.646172     0.893145   \n",
       "reLR   0.826781  0.996184         0.892836         0.647204     0.892426   \n",
       "GNB    0.857669  0.850012         0.881792         0.683489     0.886935   \n",
       "reGNB  0.891069  0.614639         0.890773         0.615311     0.896280   \n",
       "KNN    0.834312  0.944852         0.870610         0.586633     0.858727   \n",
       "reKNN  0.843528  0.852820         0.880002         0.413223     0.852060   \n",
       "RF     0.837862  0.933933         0.886939         0.513007     0.841749   \n",
       "reRF   0.838391  0.932109         0.892996         0.621454     0.836768   \n",
       "\n",
       "       SMOTE_P_rec  ADASYN_P_pre  ADASYN_P_rec  \n",
       "model                                           \n",
       "LR        0.646892      0.903454      0.564339  \n",
       "reLR      0.639861      0.902884      0.558891  \n",
       "GNB       0.632901      0.886482      0.518551  \n",
       "reGNB     0.554524      0.894887      0.430070  \n",
       "KNN       0.631773      0.843935      0.810943  \n",
       "reKNN     0.670626      0.843387      0.814687  \n",
       "RF        0.903360      0.840138      0.913103  \n",
       "reRF      0.952052      0.831981      0.976674  "
      ]
     },
     "execution_count": 138,
     "metadata": {},
     "output_type": "execute_result"
    }
   ],
   "source": [
    "no_cluster_results[pos]"
   ]
  },
  {
   "cell_type": "code",
   "execution_count": 73,
   "metadata": {
    "collapsed": true
   },
   "outputs": [],
   "source": [
    "#conn = sqlite3.connect('.\\data\\lending-club-loan-data\\database2.sqlite')\n",
    "\n",
    "#features_train_F.to_sql('final_cluster_features_train',conn,index=False)\n",
    "#features_test_F.to_sql('final_cluster_features_test',conn,index=False)\n",
    "\n",
    "#features_train_T.to_sql('final_cat_features_train',conn,index=False)\n",
    "#features_test_T.to_sql('final_cat_features_test',conn,index=False)\n",
    "\n",
    "#conn.close()"
   ]
  }
 ],
 "metadata": {
  "kernelspec": {
   "display_name": "Python 3",
   "language": "python",
   "name": "python3"
  }
 },
 "nbformat": 4,
 "nbformat_minor": 2
}
