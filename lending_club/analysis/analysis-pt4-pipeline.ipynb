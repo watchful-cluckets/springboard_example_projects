{
 "cells": [
  {
   "cell_type": "code",
   "execution_count": 1,
   "metadata": {
    "collapsed": true
   },
   "outputs": [],
   "source": [
    "import pandas as pd\n",
    "import numpy as np\n",
    "import matplotlib.pyplot as plt\n",
    "import seaborn as sns\n",
    "import sqlite3\n",
    "\n",
    "%matplotlib inline\n",
    "sns.set_style('whitegrid')\n",
    "sns.set_context('paper')"
   ]
  },
  {
   "cell_type": "code",
   "execution_count": 2,
   "metadata": {
    "collapsed": true
   },
   "outputs": [],
   "source": [
    "def select(query):\n",
    "    \n",
    "    conn = sqlite3.connect('./data/lending-club-loan-data/database2.sqlite')\n",
    "    cursor = conn.cursor()\n",
    "    temp_df = pd.DataFrame(cursor.execute(query).fetchall())\n",
    "    temp_df.columns = list(map(lambda x: x[0], cursor.description))\n",
    "    conn.close()\n",
    "    \n",
    "    return temp_df.copy()"
   ]
  },
  {
   "cell_type": "code",
   "execution_count": 3,
   "metadata": {
    "collapsed": true
   },
   "outputs": [],
   "source": [
    "features_train = select('SELECT * FROM FEATURES_TRAIN')\n",
    "targets_train = select('SELECT * FROM TARGETS_TRAIN').loan_status\n",
    "features_test = select('SELECT * FROM FEATURES_TEST')\n",
    "targets_test = select('SELECT * FROM TARGETS_TEST').loan_status"
   ]
  },
  {
   "cell_type": "code",
   "execution_count": 4,
   "metadata": {
    "collapsed": true
   },
   "outputs": [],
   "source": [
    "from imblearn.under_sampling import RandomUnderSampler\n",
    "from imblearn.over_sampling import SMOTE\n",
    "from imblearn.over_sampling import ADASYN\n",
    "\n",
    "from sklearn.linear_model import LogisticRegression\n",
    "from sklearn.naive_bayes import GaussianNB\n",
    "from sklearn.neighbors import KNeighborsClassifier\n",
    "from sklearn.ensemble import RandomForestClassifier\n",
    "from sklearn.metrics import confusion_matrix\n",
    "from sklearn.metrics import make_scorer\n",
    "from sklearn.model_selection import GridSearchCV"
   ]
  },
  {
   "cell_type": "code",
   "execution_count": 5,
   "metadata": {
    "collapsed": true
   },
   "outputs": [],
   "source": [
    "# undersampling ratio, SMOTE oversampling ratio, ADASYN oversampling ratio. all 1:1\n",
    "\n",
    "ratios = [{0:len(features_train[~targets_train.astype(bool)]),\\\n",
    "               1:len(features_train[~targets_train.astype(bool)])},\\\n",
    "         {0:len(features_train[targets_train.astype(bool)]),\\\n",
    "                1:len(features_train[targets_train.astype(bool)])},\\\n",
    "         {0:len(features_train[targets_train.astype(bool)]),\\\n",
    "                1:len(features_train[targets_train.astype(bool)])}]"
   ]
  },
  {
   "cell_type": "code",
   "execution_count": 6,
   "metadata": {
    "collapsed": true
   },
   "outputs": [],
   "source": [
    "# sklearn's Pipeline class requires that intermediary steps have fit and transform methods. our re-samplers\n",
    "# do not have transforms, so we must define a custom pipeline for this specific application.\n",
    "# the function will be fairly limited and specific to our needs for simplicity/effectiveness\n",
    "\n",
    "# the function runs through the whole pipeline twice: without hyperparam optimization and with hyperparam optimization\n",
    "\n",
    "# 'model' argument should be a tuple w/ the first entry as the model's name as a string; the second entry a class instance \n",
    "# model names should be: LR, GNB, KNN, or RF for the function to properly work..\n",
    "\n",
    "# 8 results for each algorithm. note that resampling is w/o a deterministic seed, so results may vary on the same call\n",
    "\n",
    "def Pipeline0(features,targets,model,resample_ratios,metric):\n",
    "    \n",
    "    resamplers = [None,RandomUnderSampler,SMOTE,ADASYN]\n",
    "    resampler_names = ['UnderSamp','SMOTE','ADASYN']\n",
    "    output = {}\n",
    "    output['model'] = model[0]\n",
    "    i = 0\n",
    "    \n",
    "    for resampler in resamplers:\n",
    "        if resampler == None:\n",
    "            final_features = features.copy()\n",
    "            final_targets = targets.copy()\n",
    "            tn,fp,fn,tp = confusion_matrix(targets_test,model[1].fit(final_features,final_targets).predict(features_test)).ravel()\n",
    "            \n",
    "            \n",
    "            output['N_pre'] = tn/(tn+fn)\n",
    "            output['N_rec'] = tn/(tn+fp)\n",
    "            \n",
    "            output['P_pre'] = tp/(tp+fp)\n",
    "            output['P_rec'] = tp/(tp+fn)\n",
    "            \n",
    "        else:\n",
    "            final_features, final_targets = resampler(ratio=resample_ratios[i]).fit_sample(features,targets)\n",
    "            tn,fp,fn,tp = confusion_matrix(targets_test,model[1].fit(final_features,final_targets).predict(features_test)).ravel()\n",
    "            \n",
    "            \n",
    "            output[resampler_names[i]+'_N_pre'] = tn/(tn+fn)\n",
    "            output[resampler_names[i]+'_N_rec'] = tn/(tn+fp)\n",
    "            \n",
    "            output[resampler_names[i]+'_P_pre'] = tp/(tp+fp)\n",
    "            output[resampler_names[i]+'_P_rec'] = tp/(tp+fn)\n",
    "                \n",
    "            i+=1\n",
    "    \n",
    "    return output"
   ]
  },
  {
   "cell_type": "code",
   "execution_count": 7,
   "metadata": {
    "collapsed": true
   },
   "outputs": [],
   "source": [
    "# optimize hyperparameters for F1 score on negative class, since that is the area we're looking to improve\n",
    "\n",
    "def neg_f1(targets_true,targets_predicted):\n",
    "    tn, fp, fn, tp = confusion_matrix(targets_true,targets_predicted).ravel()\n",
    "    precision = tn/(tn+fn)\n",
    "    recall = tn/(tn+fp)\n",
    "    return 2*(precision*recall)/(precision+recall)\n",
    "\n",
    "def pos_f1(targets_true,targets_predicted):\n",
    "    tn, fp, fn, tp = confusion_matrix(targets_true,targets_predicted).ravel()\n",
    "    precision = tp/(tp+fp)\n",
    "    recall = tp/(tp+fn)\n",
    "    return 2*(precision*recall)/(precision+recall)\n",
    "\n",
    "# the metric to optimize for in the regularized runs of the pipeline will determine the appropriate score function\n",
    "\n",
    "score_dict = {'neg':neg_f1,'pos':pos_f1}"
   ]
  },
  {
   "cell_type": "code",
   "execution_count": 8,
   "metadata": {
    "collapsed": true
   },
   "outputs": [],
   "source": [
    "# for RF, we will run grid search over max depth of the trees. we saw in the previous notebook that adjusting \n",
    "# min samples split and min samples leaf greatly reduces model performance\n",
    "\n",
    "# we can actually just incorporate this function into pipeline0, using control flow..\n",
    "\n",
    "def Pipeline1(features,targets,model,resample_ratios,metric):\n",
    "    \n",
    "    resamplers = [None,RandomUnderSampler,SMOTE,ADASYN]\n",
    "    resampler_names = ['UnderSamp','SMOTE','ADASYN']\n",
    "    output = {}\n",
    "    output['model'] = 're'+model[0]\n",
    "    i = 0\n",
    "    \n",
    "    if model[0] == 'LR':\n",
    "        params = {'C':[.001,.01,.1,1,10,100]}\n",
    "    elif model[0] == 'GNB': \n",
    "        params = {'priors':[[0.1,0.9],[0.2,0.8],[0.3,0.7],[0.4,0.6],[0.5,0.5],[0.6,0.4]]}\n",
    "    elif model[0] == 'KNN':\n",
    "        params = {'n_neighbors':list(range(3,8))}\n",
    "    elif model[0] == 'RF':\n",
    "        params = {'max_depth':[2,4,8,16,32,100]}\n",
    "    \n",
    "    for resampler in resamplers:\n",
    "        if resampler == None:\n",
    "            final_features = features.copy()\n",
    "            final_targets = targets.copy()\n",
    "            clf = GridSearchCV(model[1],param_grid=params,scoring=make_scorer(score_dict[metric]),return_train_score=True)\\\n",
    "                                .fit(final_features,final_targets)\n",
    "            tn,fp,fn,tp = confusion_matrix(targets_test,clf.best_estimator_.predict(features_test)).ravel()\n",
    "            \n",
    "            \n",
    "            output['N_pre'] = tn/(tn+fn)\n",
    "            output['N_rec'] = tn/(tn+fp)\n",
    "            \n",
    "            output['P_pre'] = tp/(tp+fp)\n",
    "            output['P_rec'] = tp/(tp+fn)\n",
    "            \n",
    "        else:\n",
    "            final_features, final_targets = resampler(ratio=resample_ratios[i]).fit_sample(features,targets)\n",
    "            clf = GridSearchCV(model[1],param_grid=params,scoring=make_scorer(score_dict[metric]),return_train_score=True)\\\n",
    "                                .fit(final_features,final_targets)\n",
    "            tn,fp,fn,tp = confusion_matrix(targets_test,clf.best_estimator_.predict(features_test)).ravel()\n",
    "            \n",
    "            \n",
    "            output[resampler_names[i]+'_N_pre'] = tn/(tn+fn)\n",
    "            output[resampler_names[i]+'_N_rec'] = tn/(tn+fp)\n",
    "            \n",
    "            output[resampler_names[i]+'_P_pre'] = tp/(tp+fp)\n",
    "            output[resampler_names[i]+'_P_rec'] = tp/(tp+fn)\n",
    "                \n",
    "            i+=1\n",
    "    \n",
    "    return output"
   ]
  },
  {
   "cell_type": "code",
   "execution_count": 9,
   "metadata": {
    "collapsed": true
   },
   "outputs": [],
   "source": [
    "# defines a pipeline process at a higher level of abstraction, which runs both the unregularized and regularized \n",
    "# version of the algorithm, returning the final desired 2x8 matrix with results across different sampling methods.\n",
    "\n",
    "# the column w/ the metric name as the column name is the un-resampled version\n",
    "\n",
    "def PipelineLayer1(model,metric,ratio_dicts):\n",
    "    unregularized = Pipeline0(features=features_train,targets=targets_train,\\\n",
    "                             model=model,resample_ratios=ratio_dicts,metric=metric)\n",
    "    \n",
    "    regularized = Pipeline1(features=features_train,targets=targets_train,\\\n",
    "                            model=model,resample_ratios=ratio_dicts,metric=metric)\n",
    "    return pd.DataFrame(unregularized,index=[0]).set_index('model')\\\n",
    "                    .append(pd.DataFrame(regularized,index=[0]).set_index('model')).copy()"
   ]
  },
  {
   "cell_type": "code",
   "execution_count": 10,
   "metadata": {
    "collapsed": true
   },
   "outputs": [],
   "source": [
    "# algs_list should be a list of tuples (tuples formatted as the 'model' argument are entered into the lower level pipelines)\n",
    "# e.g. ('LR',LogisticRegression())\n",
    "\n",
    "# 'metric' is changed to pos/neg. we always want to study precision and recall together. for the actual analysis,\n",
    "# we would run this function twice, to view study the performance of the models on negative classes and positive classes\n",
    "# we avoid returning all the metrics at once, because we're left with a table of 16 columns..too much information to\n",
    "# easily digest from a human standpoint\n",
    "\n",
    "def PipelineLayer2(model_list,metric,ratios):\n",
    "    \n",
    "    tempdf = pd.DataFrame()\n",
    "    \n",
    "    for model in model_list:\n",
    "        tempdf = tempdf.append(PipelineLayer1(model,metric,ratios))\n",
    "        \n",
    "    return tempdf.copy()\n"
   ]
  },
  {
   "cell_type": "code",
   "execution_count": 11,
   "metadata": {
    "collapsed": true
   },
   "outputs": [],
   "source": [
    "# as the functions are currently defined, they only provide a shallow evaluation of which algorithms perform\n",
    "# best on certain metrics. the best parameters are not output...\n",
    "\n",
    "\n",
    "# !!\n",
    "# perhaps we want to return two metrics at a time, so we can see how much we sacrifice in a metric's performance\n",
    "# in exchange for an optimal value in another metric. as defined now, FinalPipeline returns results for just one metric"
   ]
  },
  {
   "cell_type": "code",
   "execution_count": 12,
   "metadata": {
    "collapsed": true
   },
   "outputs": [],
   "source": [
    "algs = [('LR',LogisticRegression()),('GNB',GaussianNB()),('KNN',KNeighborsClassifier()),('RF',RandomForestClassifier())]"
   ]
  },
  {
   "cell_type": "code",
   "execution_count": 13,
   "metadata": {
    "collapsed": true
   },
   "outputs": [],
   "source": [
    "# results = PipelineLayer2(algs,metric='neg',ratios=ratios)"
   ]
  },
  {
   "cell_type": "code",
   "execution_count": 14,
   "metadata": {
    "collapsed": true
   },
   "outputs": [],
   "source": [
    "# results.to_csv('./pipeline-results.csv')"
   ]
  },
  {
   "cell_type": "code",
   "execution_count": 15,
   "metadata": {
    "collapsed": true
   },
   "outputs": [],
   "source": [
    "results = pd.read_csv('./pipeline-results.csv')"
   ]
  },
  {
   "cell_type": "code",
   "execution_count": 16,
   "metadata": {
    "collapsed": true
   },
   "outputs": [],
   "source": [
    "results.set_index('model',inplace=True)"
   ]
  },
  {
   "cell_type": "code",
   "execution_count": 17,
   "metadata": {
    "collapsed": true
   },
   "outputs": [],
   "source": [
    "neg = ['N_pre','N_rec','UnderSamp_N_pre','UnderSamp_N_rec','SMOTE_N_pre','SMOTE_N_rec','ADASYN_N_pre','ADASYN_N_rec']\n",
    "pos = ['P_pre','P_rec','UnderSamp_P_pre','UnderSamp_P_rec','SMOTE_P_pre','SMOTE_P_rec','ADASYN_P_pre','ADASYN_P_rec']"
   ]
  },
  {
   "cell_type": "code",
   "execution_count": 18,
   "metadata": {},
   "outputs": [
    {
     "data": {
      "text/html": [
       "<div>\n",
       "<style>\n",
       "    .dataframe thead tr:only-child th {\n",
       "        text-align: right;\n",
       "    }\n",
       "\n",
       "    .dataframe thead th {\n",
       "        text-align: left;\n",
       "    }\n",
       "\n",
       "    .dataframe tbody tr th {\n",
       "        vertical-align: top;\n",
       "    }\n",
       "</style>\n",
       "<table border=\"1\" class=\"dataframe\">\n",
       "  <thead>\n",
       "    <tr style=\"text-align: right;\">\n",
       "      <th></th>\n",
       "      <th>N_pre</th>\n",
       "      <th>N_rec</th>\n",
       "      <th>UnderSamp_N_pre</th>\n",
       "      <th>UnderSamp_N_rec</th>\n",
       "      <th>SMOTE_N_pre</th>\n",
       "      <th>SMOTE_N_rec</th>\n",
       "      <th>ADASYN_N_pre</th>\n",
       "      <th>ADASYN_N_rec</th>\n",
       "    </tr>\n",
       "    <tr>\n",
       "      <th>model</th>\n",
       "      <th></th>\n",
       "      <th></th>\n",
       "      <th></th>\n",
       "      <th></th>\n",
       "      <th></th>\n",
       "      <th></th>\n",
       "      <th></th>\n",
       "      <th></th>\n",
       "    </tr>\n",
       "  </thead>\n",
       "  <tbody>\n",
       "    <tr>\n",
       "      <th>LR</th>\n",
       "      <td>0.500000</td>\n",
       "      <td>0.000224</td>\n",
       "      <td>0.273209</td>\n",
       "      <td>0.640721</td>\n",
       "      <td>0.273460</td>\n",
       "      <td>0.630866</td>\n",
       "      <td>0.253973</td>\n",
       "      <td>0.726733</td>\n",
       "    </tr>\n",
       "    <tr>\n",
       "      <th>reLR</th>\n",
       "      <td>0.500000</td>\n",
       "      <td>0.000224</td>\n",
       "      <td>0.273283</td>\n",
       "      <td>0.640497</td>\n",
       "      <td>0.274015</td>\n",
       "      <td>0.634786</td>\n",
       "      <td>0.254445</td>\n",
       "      <td>0.719677</td>\n",
       "    </tr>\n",
       "    <tr>\n",
       "      <th>GNB</th>\n",
       "      <td>0.325714</td>\n",
       "      <td>0.307985</td>\n",
       "      <td>0.266798</td>\n",
       "      <td>0.607011</td>\n",
       "      <td>0.252503</td>\n",
       "      <td>0.669392</td>\n",
       "      <td>0.217562</td>\n",
       "      <td>0.726173</td>\n",
       "    </tr>\n",
       "    <tr>\n",
       "      <th>reGNB</th>\n",
       "      <td>0.263459</td>\n",
       "      <td>0.608915</td>\n",
       "      <td>0.256094</td>\n",
       "      <td>0.664800</td>\n",
       "      <td>0.236426</td>\n",
       "      <td>0.750028</td>\n",
       "      <td>0.208146</td>\n",
       "      <td>0.788106</td>\n",
       "    </tr>\n",
       "    <tr>\n",
       "      <th>KNN</th>\n",
       "      <td>0.229395</td>\n",
       "      <td>0.070445</td>\n",
       "      <td>0.203121</td>\n",
       "      <td>0.543734</td>\n",
       "      <td>0.196971</td>\n",
       "      <td>0.413596</td>\n",
       "      <td>0.183698</td>\n",
       "      <td>0.373054</td>\n",
       "    </tr>\n",
       "    <tr>\n",
       "      <th>reKNN</th>\n",
       "      <td>0.215069</td>\n",
       "      <td>0.191175</td>\n",
       "      <td>0.194014</td>\n",
       "      <td>0.706350</td>\n",
       "      <td>0.195092</td>\n",
       "      <td>0.370366</td>\n",
       "      <td>0.183156</td>\n",
       "      <td>0.517303</td>\n",
       "    </tr>\n",
       "    <tr>\n",
       "      <th>RF</th>\n",
       "      <td>0.335203</td>\n",
       "      <td>0.160600</td>\n",
       "      <td>0.238553</td>\n",
       "      <td>0.688543</td>\n",
       "      <td>0.311747</td>\n",
       "      <td>0.223205</td>\n",
       "      <td>0.304969</td>\n",
       "      <td>0.210326</td>\n",
       "    </tr>\n",
       "    <tr>\n",
       "      <th>reRF</th>\n",
       "      <td>0.331065</td>\n",
       "      <td>0.152537</td>\n",
       "      <td>0.259314</td>\n",
       "      <td>0.664128</td>\n",
       "      <td>0.314198</td>\n",
       "      <td>0.207190</td>\n",
       "      <td>0.311830</td>\n",
       "      <td>0.169448</td>\n",
       "    </tr>\n",
       "  </tbody>\n",
       "</table>\n",
       "</div>"
      ],
      "text/plain": [
       "          N_pre     N_rec  UnderSamp_N_pre  UnderSamp_N_rec  SMOTE_N_pre  \\\n",
       "model                                                                      \n",
       "LR     0.500000  0.000224         0.273209         0.640721     0.273460   \n",
       "reLR   0.500000  0.000224         0.273283         0.640497     0.274015   \n",
       "GNB    0.325714  0.307985         0.266798         0.607011     0.252503   \n",
       "reGNB  0.263459  0.608915         0.256094         0.664800     0.236426   \n",
       "KNN    0.229395  0.070445         0.203121         0.543734     0.196971   \n",
       "reKNN  0.215069  0.191175         0.194014         0.706350     0.195092   \n",
       "RF     0.335203  0.160600         0.238553         0.688543     0.311747   \n",
       "reRF   0.331065  0.152537         0.259314         0.664128     0.314198   \n",
       "\n",
       "       SMOTE_N_rec  ADASYN_N_pre  ADASYN_N_rec  \n",
       "model                                           \n",
       "LR        0.630866      0.253973      0.726733  \n",
       "reLR      0.634786      0.254445      0.719677  \n",
       "GNB       0.669392      0.217562      0.726173  \n",
       "reGNB     0.750028      0.208146      0.788106  \n",
       "KNN       0.413596      0.183698      0.373054  \n",
       "reKNN     0.370366      0.183156      0.517303  \n",
       "RF        0.223205      0.304969      0.210326  \n",
       "reRF      0.207190      0.311830      0.169448  "
      ]
     },
     "execution_count": 18,
     "metadata": {},
     "output_type": "execute_result"
    }
   ],
   "source": [
    "# RF does not seem to perform well when using SMOTE/ADASYN\n",
    "\n",
    "results[neg]"
   ]
  },
  {
   "cell_type": "code",
   "execution_count": 19,
   "metadata": {},
   "outputs": [
    {
     "data": {
      "text/html": [
       "<div>\n",
       "<style>\n",
       "    .dataframe thead tr:only-child th {\n",
       "        text-align: right;\n",
       "    }\n",
       "\n",
       "    .dataframe thead th {\n",
       "        text-align: left;\n",
       "    }\n",
       "\n",
       "    .dataframe tbody tr th {\n",
       "        vertical-align: top;\n",
       "    }\n",
       "</style>\n",
       "<table border=\"1\" class=\"dataframe\">\n",
       "  <thead>\n",
       "    <tr style=\"text-align: right;\">\n",
       "      <th></th>\n",
       "      <th>P_pre</th>\n",
       "      <th>P_rec</th>\n",
       "      <th>UnderSamp_P_pre</th>\n",
       "      <th>UnderSamp_P_rec</th>\n",
       "      <th>SMOTE_P_pre</th>\n",
       "      <th>SMOTE_P_rec</th>\n",
       "      <th>ADASYN_P_pre</th>\n",
       "      <th>ADASYN_P_rec</th>\n",
       "    </tr>\n",
       "    <tr>\n",
       "      <th>model</th>\n",
       "      <th></th>\n",
       "      <th></th>\n",
       "      <th></th>\n",
       "      <th></th>\n",
       "      <th></th>\n",
       "      <th></th>\n",
       "      <th></th>\n",
       "      <th></th>\n",
       "    </tr>\n",
       "  </thead>\n",
       "  <tbody>\n",
       "    <tr>\n",
       "      <th>LR</th>\n",
       "      <td>0.823123</td>\n",
       "      <td>0.999952</td>\n",
       "      <td>0.891379</td>\n",
       "      <td>0.633674</td>\n",
       "      <td>0.889674</td>\n",
       "      <td>0.639764</td>\n",
       "      <td>0.902102</td>\n",
       "      <td>0.541196</td>\n",
       "    </tr>\n",
       "    <tr>\n",
       "      <th>reLR</th>\n",
       "      <td>0.823123</td>\n",
       "      <td>0.999952</td>\n",
       "      <td>0.891360</td>\n",
       "      <td>0.633939</td>\n",
       "      <td>0.890530</td>\n",
       "      <td>0.638537</td>\n",
       "      <td>0.900749</td>\n",
       "      <td>0.546781</td>\n",
       "    </tr>\n",
       "    <tr>\n",
       "      <th>GNB</th>\n",
       "      <td>0.852989</td>\n",
       "      <td>0.862968</td>\n",
       "      <td>0.883650</td>\n",
       "      <td>0.641473</td>\n",
       "      <td>0.889863</td>\n",
       "      <td>0.574100</td>\n",
       "      <td>0.881718</td>\n",
       "      <td>0.438705</td>\n",
       "    </tr>\n",
       "    <tr>\n",
       "      <th>reGNB</th>\n",
       "      <td>0.882964</td>\n",
       "      <td>0.634132</td>\n",
       "      <td>0.890346</td>\n",
       "      <td>0.584956</td>\n",
       "      <td>0.899223</td>\n",
       "      <td>0.479384</td>\n",
       "      <td>0.886475</td>\n",
       "      <td>0.355614</td>\n",
       "    </tr>\n",
       "    <tr>\n",
       "      <th>KNN</th>\n",
       "      <td>0.826112</td>\n",
       "      <td>0.949139</td>\n",
       "      <td>0.846681</td>\n",
       "      <td>0.541533</td>\n",
       "      <td>0.834957</td>\n",
       "      <td>0.637598</td>\n",
       "      <td>0.826907</td>\n",
       "      <td>0.643712</td>\n",
       "    </tr>\n",
       "    <tr>\n",
       "      <th>reKNN</th>\n",
       "      <td>0.830218</td>\n",
       "      <td>0.850042</td>\n",
       "      <td>0.854058</td>\n",
       "      <td>0.369334</td>\n",
       "      <td>0.832294</td>\n",
       "      <td>0.671585</td>\n",
       "      <td>0.829341</td>\n",
       "      <td>0.504152</td>\n",
       "    </tr>\n",
       "    <tr>\n",
       "      <th>RF</th>\n",
       "      <td>0.837757</td>\n",
       "      <td>0.931544</td>\n",
       "      <td>0.887418</td>\n",
       "      <td>0.527645</td>\n",
       "      <td>0.842653</td>\n",
       "      <td>0.894091</td>\n",
       "      <td>0.840893</td>\n",
       "      <td>0.896979</td>\n",
       "    </tr>\n",
       "    <tr>\n",
       "      <th>reRF</th>\n",
       "      <td>0.836777</td>\n",
       "      <td>0.933759</td>\n",
       "      <td>0.891364</td>\n",
       "      <td>0.592298</td>\n",
       "      <td>0.841228</td>\n",
       "      <td>0.902804</td>\n",
       "      <td>0.837447</td>\n",
       "      <td>0.919629</td>\n",
       "    </tr>\n",
       "  </tbody>\n",
       "</table>\n",
       "</div>"
      ],
      "text/plain": [
       "          P_pre     P_rec  UnderSamp_P_pre  UnderSamp_P_rec  SMOTE_P_pre  \\\n",
       "model                                                                      \n",
       "LR     0.823123  0.999952         0.891379         0.633674     0.889674   \n",
       "reLR   0.823123  0.999952         0.891360         0.633939     0.890530   \n",
       "GNB    0.852989  0.862968         0.883650         0.641473     0.889863   \n",
       "reGNB  0.882964  0.634132         0.890346         0.584956     0.899223   \n",
       "KNN    0.826112  0.949139         0.846681         0.541533     0.834957   \n",
       "reKNN  0.830218  0.850042         0.854058         0.369334     0.832294   \n",
       "RF     0.837757  0.931544         0.887418         0.527645     0.842653   \n",
       "reRF   0.836777  0.933759         0.891364         0.592298     0.841228   \n",
       "\n",
       "       SMOTE_P_rec  ADASYN_P_pre  ADASYN_P_rec  \n",
       "model                                           \n",
       "LR        0.639764      0.902102      0.541196  \n",
       "reLR      0.638537      0.900749      0.546781  \n",
       "GNB       0.574100      0.881718      0.438705  \n",
       "reGNB     0.479384      0.886475      0.355614  \n",
       "KNN       0.637598      0.826907      0.643712  \n",
       "reKNN     0.671585      0.829341      0.504152  \n",
       "RF        0.894091      0.840893      0.896979  \n",
       "reRF      0.902804      0.837447      0.919629  "
      ]
     },
     "execution_count": 19,
     "metadata": {},
     "output_type": "execute_result"
    }
   ],
   "source": [
    "results[pos]"
   ]
  },
  {
   "cell_type": "code",
   "execution_count": 20,
   "metadata": {
    "collapsed": true
   },
   "outputs": [],
   "source": [
    "# we see below that for logistic regression, hyperparameter optimization does little to improve the model performance\n",
    "# the majority of change in the model's performance comes from resampling\n",
    "\n",
    "# PipelineLayer1(('LR',LogisticRegression()),'neg',ratios)"
   ]
  },
  {
   "cell_type": "code",
   "execution_count": 21,
   "metadata": {
    "collapsed": true
   },
   "outputs": [],
   "source": [
    "# for Gaussian NB, regularization has a more notable effect on the model's performance for both the following two metrics\n",
    "\n",
    "# PipelineLayer1(('GNB',GaussianNB()),'neg',ratios)"
   ]
  },
  {
   "cell_type": "code",
   "execution_count": 22,
   "metadata": {
    "collapsed": true
   },
   "outputs": [],
   "source": [
    "# negative precision seems to be the metric most difficult to optimize for.. we can \"artifically\" improve neg recall\n",
    "# by increasing the model's sensitivity to negative outputs (via resampling), but it's quite difficult for \n",
    "# the model to be precise in its prediction of negative classes"
   ]
  },
  {
   "cell_type": "code",
   "execution_count": 24,
   "metadata": {},
   "outputs": [
    {
     "data": {
      "text/plain": [
       "17"
      ]
     },
     "execution_count": 24,
     "metadata": {},
     "output_type": "execute_result"
    }
   ],
   "source": [
    "len(features_train.columns)"
   ]
  }
 ],
 "metadata": {
  "kernelspec": {
   "display_name": "Python 3",
   "language": "python",
   "name": "python3"
  },
  "language_info": {
   "codemirror_mode": {
    "name": "ipython",
    "version": 3
   },
   "file_extension": ".py",
   "mimetype": "text/x-python",
   "name": "python",
   "nbconvert_exporter": "python",
   "pygments_lexer": "ipython3",
   "version": "3.6.3"
  }
 },
 "nbformat": 4,
 "nbformat_minor": 2
}
