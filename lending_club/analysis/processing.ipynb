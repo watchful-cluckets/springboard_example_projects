{
 "cells": [
  {
   "cell_type": "code",
   "execution_count": 1,
   "metadata": {
    "collapsed": true
   },
   "outputs": [],
   "source": [
    "import pandas as pd\n",
    "import numpy as np\n",
    "import os.path\n",
    "import sqlite3\n",
    "import re"
   ]
  },
  {
   "cell_type": "code",
   "execution_count": 2,
   "metadata": {
    "collapsed": true
   },
   "outputs": [],
   "source": [
    "# feature engineering in separate notebook"
   ]
  },
  {
   "cell_type": "code",
   "execution_count": 3,
   "metadata": {
    "collapsed": true
   },
   "outputs": [],
   "source": [
    "# we esimate 400 values of revol_util and 70k values of tot_coll_amt\n",
    "# must compare prediction results later when we use or exclude these features"
   ]
  },
  {
   "cell_type": "code",
   "execution_count": 4,
   "metadata": {
    "collapsed": true
   },
   "outputs": [],
   "source": [
    "# select from sqlite database. function is specific to the file used in this project for simplicity\n",
    "\n",
    "def select(query,path):\n",
    "    \n",
    "    conn = sqlite3.connect(path)\n",
    "    cursor = conn.cursor()\n",
    "    temp_df = pd.DataFrame(cursor.execute(query).fetchall())\n",
    "    temp_df.columns = list(map(lambda x: x[0], cursor.description))\n",
    "    conn.close()\n",
    "    \n",
    "    return temp_df.copy()\n",
    "\n",
    "loans = select('SELECT * FROM LOAN',os.getcwd()+'\\data\\lending-club-loan-data\\database.sqlite')"
   ]
  },
  {
   "cell_type": "code",
   "execution_count": 54,
   "metadata": {},
   "outputs": [
    {
     "data": {
      "text/html": [
       "<div>\n",
       "<style>\n",
       "    .dataframe thead tr:only-child th {\n",
       "        text-align: right;\n",
       "    }\n",
       "\n",
       "    .dataframe thead th {\n",
       "        text-align: left;\n",
       "    }\n",
       "\n",
       "    .dataframe tbody tr th {\n",
       "        vertical-align: top;\n",
       "    }\n",
       "</style>\n",
       "<table border=\"1\" class=\"dataframe\">\n",
       "  <thead>\n",
       "    <tr style=\"text-align: right;\">\n",
       "      <th></th>\n",
       "      <th>index</th>\n",
       "      <th>id</th>\n",
       "      <th>member_id</th>\n",
       "      <th>loan_amnt</th>\n",
       "      <th>funded_amnt</th>\n",
       "      <th>funded_amnt_inv</th>\n",
       "      <th>term</th>\n",
       "      <th>int_rate</th>\n",
       "      <th>installment</th>\n",
       "      <th>grade</th>\n",
       "      <th>...</th>\n",
       "      <th>last_pymnt_d</th>\n",
       "      <th>last_pymnt_amnt</th>\n",
       "      <th>next_pymnt_d</th>\n",
       "      <th>last_credit_pull_d</th>\n",
       "      <th>collections_12_mths_ex_med</th>\n",
       "      <th>mths_since_last_major_derog</th>\n",
       "      <th>policy_code</th>\n",
       "      <th>application_type</th>\n",
       "      <th>acc_now_delinq</th>\n",
       "      <th>tot_coll_amt</th>\n",
       "    </tr>\n",
       "  </thead>\n",
       "  <tbody>\n",
       "    <tr>\n",
       "      <th>0</th>\n",
       "      <td>0</td>\n",
       "      <td>1077501</td>\n",
       "      <td>1296599.0</td>\n",
       "      <td>5000.0</td>\n",
       "      <td>5000.0</td>\n",
       "      <td>4975.0</td>\n",
       "      <td>36</td>\n",
       "      <td>10.65</td>\n",
       "      <td>162.87</td>\n",
       "      <td>6</td>\n",
       "      <td>...</td>\n",
       "      <td>Jan-2015</td>\n",
       "      <td>171.62</td>\n",
       "      <td>None</td>\n",
       "      <td>Jan-2016</td>\n",
       "      <td>0.0</td>\n",
       "      <td>NaN</td>\n",
       "      <td>1</td>\n",
       "      <td>INDIVIDUAL</td>\n",
       "      <td>0</td>\n",
       "      <td>NaN</td>\n",
       "    </tr>\n",
       "    <tr>\n",
       "      <th>1</th>\n",
       "      <td>1</td>\n",
       "      <td>1077430</td>\n",
       "      <td>1314167.0</td>\n",
       "      <td>2500.0</td>\n",
       "      <td>2500.0</td>\n",
       "      <td>2500.0</td>\n",
       "      <td>60</td>\n",
       "      <td>15.27</td>\n",
       "      <td>59.83</td>\n",
       "      <td>5</td>\n",
       "      <td>...</td>\n",
       "      <td>Apr-2013</td>\n",
       "      <td>119.66</td>\n",
       "      <td>None</td>\n",
       "      <td>Sep-2013</td>\n",
       "      <td>0.0</td>\n",
       "      <td>NaN</td>\n",
       "      <td>1</td>\n",
       "      <td>INDIVIDUAL</td>\n",
       "      <td>0</td>\n",
       "      <td>NaN</td>\n",
       "    </tr>\n",
       "    <tr>\n",
       "      <th>2</th>\n",
       "      <td>2</td>\n",
       "      <td>1077175</td>\n",
       "      <td>1313524.0</td>\n",
       "      <td>2400.0</td>\n",
       "      <td>2400.0</td>\n",
       "      <td>2400.0</td>\n",
       "      <td>36</td>\n",
       "      <td>15.96</td>\n",
       "      <td>84.33</td>\n",
       "      <td>5</td>\n",
       "      <td>...</td>\n",
       "      <td>Jun-2014</td>\n",
       "      <td>649.91</td>\n",
       "      <td>None</td>\n",
       "      <td>Jan-2016</td>\n",
       "      <td>0.0</td>\n",
       "      <td>NaN</td>\n",
       "      <td>1</td>\n",
       "      <td>INDIVIDUAL</td>\n",
       "      <td>0</td>\n",
       "      <td>NaN</td>\n",
       "    </tr>\n",
       "    <tr>\n",
       "      <th>3</th>\n",
       "      <td>3</td>\n",
       "      <td>1076863</td>\n",
       "      <td>1277178.0</td>\n",
       "      <td>10000.0</td>\n",
       "      <td>10000.0</td>\n",
       "      <td>10000.0</td>\n",
       "      <td>36</td>\n",
       "      <td>13.49</td>\n",
       "      <td>339.31</td>\n",
       "      <td>5</td>\n",
       "      <td>...</td>\n",
       "      <td>Jan-2015</td>\n",
       "      <td>357.48</td>\n",
       "      <td>None</td>\n",
       "      <td>Jan-2015</td>\n",
       "      <td>0.0</td>\n",
       "      <td>NaN</td>\n",
       "      <td>1</td>\n",
       "      <td>INDIVIDUAL</td>\n",
       "      <td>0</td>\n",
       "      <td>NaN</td>\n",
       "    </tr>\n",
       "    <tr>\n",
       "      <th>4</th>\n",
       "      <td>4</td>\n",
       "      <td>1075358</td>\n",
       "      <td>1311748.0</td>\n",
       "      <td>3000.0</td>\n",
       "      <td>3000.0</td>\n",
       "      <td>3000.0</td>\n",
       "      <td>60</td>\n",
       "      <td>12.69</td>\n",
       "      <td>67.79</td>\n",
       "      <td>6</td>\n",
       "      <td>...</td>\n",
       "      <td>Jan-2016</td>\n",
       "      <td>67.79</td>\n",
       "      <td>Feb-2016</td>\n",
       "      <td>Jan-2016</td>\n",
       "      <td>0.0</td>\n",
       "      <td>NaN</td>\n",
       "      <td>1</td>\n",
       "      <td>INDIVIDUAL</td>\n",
       "      <td>0</td>\n",
       "      <td>NaN</td>\n",
       "    </tr>\n",
       "  </tbody>\n",
       "</table>\n",
       "<p>5 rows × 54 columns</p>\n",
       "</div>"
      ],
      "text/plain": [
       "   index       id  member_id  loan_amnt  funded_amnt  funded_amnt_inv  term  \\\n",
       "0      0  1077501  1296599.0     5000.0       5000.0           4975.0    36   \n",
       "1      1  1077430  1314167.0     2500.0       2500.0           2500.0    60   \n",
       "2      2  1077175  1313524.0     2400.0       2400.0           2400.0    36   \n",
       "3      3  1076863  1277178.0    10000.0      10000.0          10000.0    36   \n",
       "4      4  1075358  1311748.0     3000.0       3000.0           3000.0    60   \n",
       "\n",
       "   int_rate  installment  grade     ...      last_pymnt_d  last_pymnt_amnt  \\\n",
       "0     10.65       162.87      6     ...          Jan-2015           171.62   \n",
       "1     15.27        59.83      5     ...          Apr-2013           119.66   \n",
       "2     15.96        84.33      5     ...          Jun-2014           649.91   \n",
       "3     13.49       339.31      5     ...          Jan-2015           357.48   \n",
       "4     12.69        67.79      6     ...          Jan-2016            67.79   \n",
       "\n",
       "  next_pymnt_d  last_credit_pull_d collections_12_mths_ex_med  \\\n",
       "0         None            Jan-2016                        0.0   \n",
       "1         None            Sep-2013                        0.0   \n",
       "2         None            Jan-2016                        0.0   \n",
       "3         None            Jan-2015                        0.0   \n",
       "4     Feb-2016            Jan-2016                        0.0   \n",
       "\n",
       "  mths_since_last_major_derog policy_code application_type acc_now_delinq  \\\n",
       "0                         NaN           1       INDIVIDUAL              0   \n",
       "1                         NaN           1       INDIVIDUAL              0   \n",
       "2                         NaN           1       INDIVIDUAL              0   \n",
       "3                         NaN           1       INDIVIDUAL              0   \n",
       "4                         NaN           1       INDIVIDUAL              0   \n",
       "\n",
       "  tot_coll_amt  \n",
       "0          NaN  \n",
       "1          NaN  \n",
       "2          NaN  \n",
       "3          NaN  \n",
       "4          NaN  \n",
       "\n",
       "[5 rows x 54 columns]"
      ]
     },
     "execution_count": 54,
     "metadata": {},
     "output_type": "execute_result"
    }
   ],
   "source": [
    "loans.head()"
   ]
  },
  {
   "cell_type": "code",
   "execution_count": 6,
   "metadata": {
    "collapsed": true
   },
   "outputs": [],
   "source": [
    "# term has 1 NaN value. remove the datapoint - negligible reduction in total data \n",
    "# remove 'months' appended in term and convert to numerical (integers)\n",
    "\n",
    "loans = loans[loans.term.notnull()]\n",
    "loans.loc[:,'term'] = loans.term.apply(lambda x : int(re.findall(r\"\\D(\\d{2})\\D\",x)[0]))"
   ]
  },
  {
   "cell_type": "code",
   "execution_count": 7,
   "metadata": {
    "collapsed": true
   },
   "outputs": [],
   "source": [
    "# remove % sign from int_rate and convert to float\n",
    "\n",
    "loans.loc[:,'int_rate'] = loans.int_rate.apply(lambda x : float(x[:-1]))"
   ]
  },
  {
   "cell_type": "code",
   "execution_count": 8,
   "metadata": {
    "collapsed": true
   },
   "outputs": [],
   "source": [
    "# apply simple linear transformation on classes to numerical values. \n",
    "# **important note** this is altering the underlying data (interpreting it in a way that may not be completely justified)\n",
    "# must be careful about conclusions arrived at from this column\n",
    "# may want to leave this as categorical, or create a new column entirely with this transformation\n",
    "\n",
    "grade_map = {'A':7,'B':6,'C':5,'D':4,'E':3,'F':2,'G':1}\n",
    "loans.grade = loans.grade.apply(lambda x: grade_map[x])"
   ]
  },
  {
   "cell_type": "code",
   "execution_count": 9,
   "metadata": {
    "collapsed": true
   },
   "outputs": [],
   "source": [
    "# drop sub_grade. sub_grades correspond to interest rates--redundant information.\n",
    "\n",
    "loans = loans.drop('sub_grade',axis=1)"
   ]
  },
  {
   "cell_type": "code",
   "execution_count": 10,
   "metadata": {
    "collapsed": true
   },
   "outputs": [],
   "source": [
    "# create mapping from strings to employed length. replace 'n/a' with the mean of the data set. dropping would del 40k vectors\n",
    "# mean is 6.009. round as 6 to save storage cost on float (20 is an intermediate filler value for the transformation)\n",
    "\n",
    "keys = list(np.unique(loans['emp_length'].values))\n",
    "values = [1,10,2,3,4,5,6,7,8,9,0,20]\n",
    "mappings = dict(zip(keys,values))\n",
    "loans.emp_length = loans.emp_length.apply(lambda x: mappings[x]).replace(20,6)"
   ]
  },
  {
   "cell_type": "code",
   "execution_count": 11,
   "metadata": {
    "collapsed": true
   },
   "outputs": [],
   "source": [
    "# annual_inc has 4 NaN values.\n",
    "# !! make sure column is written to and read from SQL DB as int. otherwise do dtype conversion after processing\n",
    "\n",
    "loans = loans[loans.annual_inc.notnull()]\n",
    "loans.annual_inc = loans.annual_inc.astype(int)"
   ]
  },
  {
   "cell_type": "code",
   "execution_count": 12,
   "metadata": {
    "collapsed": true
   },
   "outputs": [],
   "source": [
    "# also check this column (dtype is properly preserved?) remove this step if not\n",
    "\n",
    "loans.issue_d = pd.to_datetime(loans.issue_d)"
   ]
  },
  {
   "cell_type": "code",
   "execution_count": 13,
   "metadata": {
    "collapsed": true
   },
   "outputs": [],
   "source": [
    "# 25 null values\n",
    "\n",
    "loans = loans[loans.delinq_2yrs.notnull()]\n",
    "loans.delinq_2yrs = loans.delinq_2yrs.astype(int)"
   ]
  },
  {
   "cell_type": "code",
   "execution_count": 14,
   "metadata": {
    "collapsed": true
   },
   "outputs": [],
   "source": [
    "# do this after processing if datatype is not properly maintained between read/writes to SQL database\n",
    "\n",
    "loans.inq_last_6mths = loans.inq_last_6mths.astype(int)"
   ]
  },
  {
   "cell_type": "code",
   "execution_count": 15,
   "metadata": {},
   "outputs": [
    {
     "data": {
      "text/plain": [
       "454284"
      ]
     },
     "execution_count": 15,
     "metadata": {},
     "output_type": "execute_result"
    }
   ],
   "source": [
    "# going to leave NaN values alone. likely implies the loan never went delinquent?\n",
    "\n",
    "loans['mths_since_last_delinq'].isnull().sum()"
   ]
  },
  {
   "cell_type": "code",
   "execution_count": 16,
   "metadata": {
    "collapsed": true
   },
   "outputs": [],
   "source": [
    "# too many NaN values to be useful\n",
    "\n",
    "loans = loans.drop('mths_since_last_record', axis=1)"
   ]
  },
  {
   "cell_type": "code",
   "execution_count": 17,
   "metadata": {
    "collapsed": true
   },
   "outputs": [],
   "source": [
    "loans.pub_rec = loans.pub_rec.astype(int)"
   ]
  },
  {
   "cell_type": "code",
   "execution_count": 18,
   "metadata": {
    "collapsed": true
   },
   "outputs": [],
   "source": [
    "loans.revol_bal = loans.revol_bal.astype(int)"
   ]
  },
  {
   "cell_type": "code",
   "execution_count": 19,
   "metadata": {
    "collapsed": true
   },
   "outputs": [],
   "source": [
    "# remove percentage sign and convert to float\n",
    "# ~450 NaN values\n",
    "\n",
    "def f(x):\n",
    "    if x is not None:\n",
    "        return x[:-1]\n",
    "    else:\n",
    "        return np.NaN\n",
    "\n",
    "loans.revol_util = loans.revol_util.apply(f).astype(float)"
   ]
  },
  {
   "cell_type": "code",
   "execution_count": 20,
   "metadata": {
    "collapsed": true
   },
   "outputs": [],
   "source": [
    "loans.total_acc = loans.total_acc.astype(int)"
   ]
  },
  {
   "cell_type": "code",
   "execution_count": 21,
   "metadata": {
    "collapsed": true
   },
   "outputs": [],
   "source": [
    "# 17.6k null values..can't fill these values based on values of other loans.... drop for now. check at the end\n",
    "# that we didn't lose too many data points for a single target output. i.e. hope the loss in data is evenly spread,\n",
    "# in which case it represents about 2% loss of the dataset\n",
    "\n",
    "loans = loans[loans.last_pymnt_d.notnull()]"
   ]
  },
  {
   "cell_type": "code",
   "execution_count": 22,
   "metadata": {},
   "outputs": [
    {
     "data": {
      "text/plain": [
       "252445"
      ]
     },
     "execution_count": 22,
     "metadata": {},
     "output_type": "execute_result"
    }
   ],
   "source": [
    "# \"completed\" loans have no next pymnt day. remove this column for those\n",
    "\n",
    "loans.next_pymnt_d.isnull().sum()"
   ]
  },
  {
   "cell_type": "code",
   "execution_count": 23,
   "metadata": {},
   "outputs": [
    {
     "data": {
      "text/plain": [
       "0"
      ]
     },
     "execution_count": 23,
     "metadata": {},
     "output_type": "execute_result"
    }
   ],
   "source": [
    "# no null values for \"in progress\" loans\n",
    "\n",
    "loans[(loans.loan_status!=('Fully Paid')) & (loans.loan_status!=('Charged Off'))].next_pymnt_d.isnull().sum()"
   ]
  },
  {
   "cell_type": "code",
   "execution_count": 24,
   "metadata": {
    "collapsed": true
   },
   "outputs": [],
   "source": [
    "# 51 null values\n",
    "\n",
    "loans = loans[loans.last_credit_pull_d.notnull()]"
   ]
  },
  {
   "cell_type": "code",
   "execution_count": 25,
   "metadata": {
    "collapsed": true
   },
   "outputs": [],
   "source": [
    "# 115 null values\n",
    "\n",
    "loans = loans[loans.collections_12_mths_ex_med.notnull()]"
   ]
  },
  {
   "cell_type": "code",
   "execution_count": 26,
   "metadata": {},
   "outputs": [
    {
     "data": {
      "text/plain": [
       "652962"
      ]
     },
     "execution_count": 26,
     "metadata": {},
     "output_type": "execute_result"
    }
   ],
   "source": [
    "# NaN likely implies bad rating was never reached. leave values as null; decide later how to handle NaN\n",
    "\n",
    "loans.mths_since_last_major_derog.isnull().sum()"
   ]
  },
  {
   "cell_type": "code",
   "execution_count": 27,
   "metadata": {
    "collapsed": true
   },
   "outputs": [],
   "source": [
    "loans.policy_code = loans.policy_code.astype(int)"
   ]
  },
  {
   "cell_type": "code",
   "execution_count": 28,
   "metadata": {
    "collapsed": true
   },
   "outputs": [],
   "source": [
    "loans = loans.drop('annual_inc_joint',axis=1)\n",
    "loans = loans.drop('dti_joint',axis=1)\n",
    "loans = loans.drop('verification_status_joint',axis=1)"
   ]
  },
  {
   "cell_type": "code",
   "execution_count": 29,
   "metadata": {
    "collapsed": true
   },
   "outputs": [],
   "source": [
    "loans.acc_now_delinq = loans.acc_now_delinq.astype(int)"
   ]
  },
  {
   "cell_type": "code",
   "execution_count": 30,
   "metadata": {
    "collapsed": true
   },
   "outputs": [],
   "source": [
    "# FILLING 70K MISSING VALUES FOR THIS COLUMN\n",
    "\n",
    "# loans = loans.drop('tot_coll_amt',axis=1)"
   ]
  },
  {
   "cell_type": "code",
   "execution_count": 31,
   "metadata": {
    "collapsed": true
   },
   "outputs": [],
   "source": [
    "# about 70k null values. description seems very similar to revol_bal; will not bother with filling values\n",
    "\n",
    "loans = loans.drop('tot_cur_bal',axis=1)"
   ]
  },
  {
   "cell_type": "code",
   "execution_count": 32,
   "metadata": {
    "collapsed": true
   },
   "outputs": [],
   "source": [
    "# all have about 860k null values. cannot reasonably estimate\n",
    "\n",
    "loans = loans.drop('open_acc_6m',axis=1)\n",
    "loans = loans.drop('open_il_6m',axis=1)\n",
    "loans = loans.drop('open_il_12m',axis=1)\n",
    "loans = loans.drop('open_il_24m',axis=1)\n",
    "loans = loans.drop('mths_since_rcnt_il',axis=1)\n",
    "loans = loans.drop('total_bal_il',axis=1)\n",
    "loans = loans.drop('il_util',axis=1)\n",
    "loans = loans.drop('open_rv_12m',axis=1)\n",
    "loans = loans.drop('open_rv_24m',axis=1)\n",
    "loans = loans.drop('max_bal_bc',axis=1)\n",
    "loans = loans.drop('all_util',axis=1)\n",
    "loans = loans.drop('inq_fi',axis=1)\n",
    "loans = loans.drop('total_cu_tl',axis=1)\n",
    "loans = loans.drop('inq_last_12m',axis=1)"
   ]
  },
  {
   "cell_type": "code",
   "execution_count": 33,
   "metadata": {
    "collapsed": true
   },
   "outputs": [],
   "source": [
    "# not in data dictionary, about 70k null values. we will drop this since we don't know how to interpret the data anyway\n",
    "# (in practice, leave it. this is for the sake of illustration within the project)\n",
    "\n",
    "loans = loans.drop('total_rev_hi_lim',axis=1)"
   ]
  },
  {
   "cell_type": "code",
   "execution_count": 34,
   "metadata": {
    "collapsed": true
   },
   "outputs": [],
   "source": [
    "# index is unnecessary. df handles this\n",
    "\n",
    "loans = loans.drop('index',axis=1)\n",
    "loans = loans.reset_index()"
   ]
  },
  {
   "cell_type": "code",
   "execution_count": 35,
   "metadata": {
    "collapsed": true
   },
   "outputs": [],
   "source": [
    "# leaving database.sqlite untouched as the raw database provided by lending club\n",
    "# alternatively, could write the table to the same SQLite db\n",
    "\n",
    "# conn = sqlite3.connect(os.getcwd()+'\\data\\lending-club-loan-data\\database2.sqlite')\n",
    "# loans.to_sql('loan_clean',conn,index=False)\n",
    "# conn.close()"
   ]
  },
  {
   "cell_type": "code",
   "execution_count": 36,
   "metadata": {
    "collapsed": true
   },
   "outputs": [],
   "source": [
    "loans_clean = select('SELECT * FROM LOAN_CLEAN',os.getcwd()+'\\data\\lending-club-loan-data\\database2.sqlite')"
   ]
  },
  {
   "cell_type": "code",
   "execution_count": 37,
   "metadata": {},
   "outputs": [
    {
     "data": {
      "text/plain": [
       "index                               0\n",
       "id                                  0\n",
       "member_id                           0\n",
       "loan_amnt                           0\n",
       "funded_amnt                         0\n",
       "funded_amnt_inv                     0\n",
       "term                                0\n",
       "int_rate                            0\n",
       "installment                         0\n",
       "grade                               0\n",
       "emp_title                       50193\n",
       "emp_length                          0\n",
       "home_ownership                      0\n",
       "annual_inc                          0\n",
       "verification_status                 0\n",
       "issue_d                             0\n",
       "loan_status                         0\n",
       "pymnt_plan                          0\n",
       "url                                 0\n",
       "desc                           743762\n",
       "purpose                             0\n",
       "title                              28\n",
       "zip_code                            0\n",
       "addr_state                          0\n",
       "dti                                 0\n",
       "delinq_2yrs                         0\n",
       "earliest_cr_line                    0\n",
       "inq_last_6mths                      0\n",
       "mths_since_last_delinq         445779\n",
       "open_acc                            0\n",
       "pub_rec                             0\n",
       "revol_bal                           0\n",
       "revol_util                        456\n",
       "total_acc                           0\n",
       "initial_list_status                 0\n",
       "out_prncp                           0\n",
       "out_prncp_inv                       0\n",
       "total_pymnt                         0\n",
       "total_pymnt_inv                     0\n",
       "total_rec_prncp                     0\n",
       "total_rec_int                       0\n",
       "total_rec_late_fee                  0\n",
       "recoveries                          0\n",
       "collection_recovery_fee             0\n",
       "last_pymnt_d                        0\n",
       "last_pymnt_amnt                     0\n",
       "next_pymnt_d                   252368\n",
       "last_credit_pull_d                  0\n",
       "collections_12_mths_ex_med          0\n",
       "mths_since_last_major_derog    652962\n",
       "policy_code                         0\n",
       "application_type                    0\n",
       "acc_now_delinq                      0\n",
       "tot_coll_amt                    70015\n",
       "dtype: int64"
      ]
     },
     "execution_count": 37,
     "metadata": {},
     "output_type": "execute_result"
    }
   ],
   "source": [
    "# features left as NaN: \n",
    "# either unimportant features for modeling e.g. emp_title or have meaning in themselves as NaN e.g. mths_since_last_delinq\n",
    "\n",
    "loans_clean.isnull().sum()"
   ]
  },
  {
   "cell_type": "code",
   "execution_count": 38,
   "metadata": {
    "collapsed": true
   },
   "outputs": [],
   "source": [
    "# seems the datetime conversion is not maintained through write/read to SQL db, but float to int is\n",
    "# datetime conversion must be done in next reads (during feature engineering and analyses steps)"
   ]
  },
  {
   "cell_type": "code",
   "execution_count": 39,
   "metadata": {},
   "outputs": [
    {
     "data": {
      "text/plain": [
       "0    2011-12-01 00:00:00\n",
       "1    2011-12-01 00:00:00\n",
       "2    2011-12-01 00:00:00\n",
       "3    2011-12-01 00:00:00\n",
       "4    2011-12-01 00:00:00\n",
       "Name: issue_d, dtype: object"
      ]
     },
     "execution_count": 39,
     "metadata": {},
     "output_type": "execute_result"
    }
   ],
   "source": [
    "loans_clean.issue_d.head()"
   ]
  },
  {
   "cell_type": "code",
   "execution_count": 40,
   "metadata": {},
   "outputs": [
    {
     "data": {
      "text/plain": [
       "0    1\n",
       "1    5\n",
       "2    2\n",
       "3    1\n",
       "4    0\n",
       "Name: inq_last_6mths, dtype: int64"
      ]
     },
     "execution_count": 40,
     "metadata": {},
     "output_type": "execute_result"
    }
   ],
   "source": [
    "loans_clean.inq_last_6mths.head()"
   ]
  },
  {
   "cell_type": "markdown",
   "metadata": {},
   "source": [
    "---\n",
    "#### train-test split 12-28-17 of binary classification problem (all relevant inputs, including categorical features)"
   ]
  },
  {
   "cell_type": "code",
   "execution_count": 41,
   "metadata": {
    "collapsed": true
   },
   "outputs": [],
   "source": [
    "loansB = select('SELECT * FROM LOAN_FINAL',os.getcwd()+'\\data\\lending-club-loan-data\\database2.sqlite')\n",
    "loansB = loans[(loans.loan_status=='Fully Paid')|(loans.loan_status=='Charged Off')]"
   ]
  },
  {
   "cell_type": "code",
   "execution_count": 42,
   "metadata": {
    "collapsed": true
   },
   "outputs": [],
   "source": [
    "# develop lists which split up features into numerical and non-numerical values\n",
    "\n",
    "numerical = []\n",
    "strings = []\n",
    "\n",
    "for i in range(len(loansB.dtypes)):\n",
    "    if (loansB.dtypes[i] == 'int64') or (loansB.dtypes[i] == 'float64'):\n",
    "        numerical = numerical + [loansB.dtypes.index[i]]\n",
    "        \n",
    "    if (loansB.dtypes[i] == 'O') and (loansB.dtypes.index[i]!='loan_status'):\n",
    "        strings = strings + [loansB.dtypes.index[i]]"
   ]
  },
  {
   "cell_type": "code",
   "execution_count": 43,
   "metadata": {
    "collapsed": true
   },
   "outputs": [],
   "source": [
    "numerical.remove('mths_since_last_delinq')\n",
    "numerical.remove('mths_since_last_major_derog')\n",
    "numerical.remove('member_id')\n",
    "numerical.remove('out_prncp')\n",
    "numerical.remove('out_prncp_inv')\n",
    "numerical.remove('total_pymnt')\n",
    "numerical.remove('total_pymnt_inv')\n",
    "numerical.remove('total_rec_prncp')\n",
    "numerical.remove('total_rec_int')\n",
    "numerical.remove('total_rec_late_fee')\n",
    "numerical.remove('recoveries')\n",
    "numerical.remove('collection_recovery_fee')\n",
    "numerical.remove('last_pymnt_amnt')\n",
    "numerical.remove('collections_12_mths_ex_med')\n",
    "numerical.remove('tot_coll_amt')\n",
    "\n",
    "strings.remove('emp_title')\n",
    "strings.remove('title')\n",
    "strings.remove('desc')\n",
    "strings.remove('url')\n",
    "strings.remove('next_pymnt_d')\n",
    "strings.remove('id')\n",
    "strings.remove('earliest_cr_line')\n",
    "strings.remove('last_pymnt_d')\n",
    "strings.remove('last_credit_pull_d')"
   ]
  },
  {
   "cell_type": "code",
   "execution_count": 44,
   "metadata": {},
   "outputs": [
    {
     "name": "stderr",
     "output_type": "stream",
     "text": [
      "C:\\Users\\Pablo\\AppData\\Local\\Continuum\\anaconda3\\lib\\site-packages\\pandas\\core\\indexing.py:517: SettingWithCopyWarning: \n",
      "A value is trying to be set on a copy of a slice from a DataFrame.\n",
      "Try using .loc[row_indexer,col_indexer] = value instead\n",
      "\n",
      "See the caveats in the documentation: http://pandas.pydata.org/pandas-docs/stable/indexing.html#indexing-view-versus-copy\n",
      "  self.obj[item] = s\n"
     ]
    }
   ],
   "source": [
    "# fill NaN revol_util with the average of each class\n",
    "\n",
    "RUavgs = loansB.groupby('loan_status').mean()['revol_util']\n",
    "\n",
    "loansB.loc[loansB[(loansB.loan_status=='Fully Paid')&(loansB.revol_util.isnull())].index,'revol_util'] = \\\n",
    "    RUavgs.loc['Fully Paid']\n",
    "loansB.loc[loansB[(loansB.loan_status=='Charged Off')&(loansB.revol_util.isnull())].index,'revol_util'] = \\\n",
    "    RUavgs.loc['Charged Off']"
   ]
  },
  {
   "cell_type": "code",
   "execution_count": 45,
   "metadata": {},
   "outputs": [
    {
     "data": {
      "text/plain": [
       "index              0\n",
       "loan_amnt          0\n",
       "funded_amnt        0\n",
       "funded_amnt_inv    0\n",
       "term               0\n",
       "int_rate           0\n",
       "installment        0\n",
       "grade              0\n",
       "emp_length         0\n",
       "dti                0\n",
       "open_acc           0\n",
       "revol_util         0\n",
       "dtype: int64"
      ]
     },
     "execution_count": 45,
     "metadata": {},
     "output_type": "execute_result"
    }
   ],
   "source": [
    "loansB[numerical].isnull().sum()"
   ]
  },
  {
   "cell_type": "code",
   "execution_count": 46,
   "metadata": {},
   "outputs": [
    {
     "data": {
      "text/plain": [
       "home_ownership         0\n",
       "verification_status    0\n",
       "pymnt_plan             0\n",
       "purpose                0\n",
       "zip_code               0\n",
       "addr_state             0\n",
       "initial_list_status    0\n",
       "application_type       0\n",
       "dtype: int64"
      ]
     },
     "execution_count": 46,
     "metadata": {},
     "output_type": "execute_result"
    }
   ],
   "source": [
    "loansB[strings].isnull().sum()"
   ]
  },
  {
   "cell_type": "code",
   "execution_count": 47,
   "metadata": {
    "collapsed": true
   },
   "outputs": [],
   "source": [
    "# convert the categorical columns to dummy numerical variables and merge.\n",
    "\n",
    "final = loansB[numerical+['loan_status']].merge(pd.get_dummies(loansB[strings]),left_index=True,right_index=True).copy()"
   ]
  },
  {
   "cell_type": "code",
   "execution_count": 48,
   "metadata": {
    "collapsed": true
   },
   "outputs": [],
   "source": [
    "final = final.drop('index',axis=1)"
   ]
  },
  {
   "cell_type": "code",
   "execution_count": 49,
   "metadata": {
    "collapsed": true
   },
   "outputs": [],
   "source": [
    "from sklearn.model_selection import train_test_split"
   ]
  },
  {
   "cell_type": "code",
   "execution_count": 50,
   "metadata": {
    "collapsed": true
   },
   "outputs": [],
   "source": [
    "# unfortunately, at this point in the project it'd be too much of a hassle to reverse this map to match the standard\n",
    "# convention..\n",
    "\n",
    "outputmap = {'Charged Off':0,'Fully Paid':1}\n",
    "final.loan_status = final.loan_status.apply(lambda x: outputmap[x])"
   ]
  },
  {
   "cell_type": "code",
   "execution_count": 51,
   "metadata": {
    "collapsed": true
   },
   "outputs": [],
   "source": [
    "x_train, x_test, y_train, y_test = train_test_split(final.drop('loan_status',axis=1),\\\n",
    "                                                    final.loan_status,random_state=2,test_size=0.2)"
   ]
  },
  {
   "cell_type": "code",
   "execution_count": 52,
   "metadata": {},
   "outputs": [
    {
     "data": {
      "text/html": [
       "<div>\n",
       "<style>\n",
       "    .dataframe thead tr:only-child th {\n",
       "        text-align: right;\n",
       "    }\n",
       "\n",
       "    .dataframe thead th {\n",
       "        text-align: left;\n",
       "    }\n",
       "\n",
       "    .dataframe tbody tr th {\n",
       "        vertical-align: top;\n",
       "    }\n",
       "</style>\n",
       "<table border=\"1\" class=\"dataframe\">\n",
       "  <thead>\n",
       "    <tr style=\"text-align: right;\">\n",
       "      <th></th>\n",
       "      <th>type</th>\n",
       "      <th>name</th>\n",
       "      <th>tbl_name</th>\n",
       "      <th>rootpage</th>\n",
       "      <th>sql</th>\n",
       "    </tr>\n",
       "  </thead>\n",
       "  <tbody>\n",
       "    <tr>\n",
       "      <th>0</th>\n",
       "      <td>table</td>\n",
       "      <td>loan_clean</td>\n",
       "      <td>loan_clean</td>\n",
       "      <td>2</td>\n",
       "      <td>CREATE TABLE \"loan_clean\" (\\n\"index\" INTEGER,\\...</td>\n",
       "    </tr>\n",
       "    <tr>\n",
       "      <th>1</th>\n",
       "      <td>table</td>\n",
       "      <td>loan_final</td>\n",
       "      <td>loan_final</td>\n",
       "      <td>94847</td>\n",
       "      <td>CREATE TABLE \"loan_final\" (\\n\"index\" INTEGER,\\...</td>\n",
       "    </tr>\n",
       "    <tr>\n",
       "      <th>2</th>\n",
       "      <td>table</td>\n",
       "      <td>features_train</td>\n",
       "      <td>features_train</td>\n",
       "      <td>191453</td>\n",
       "      <td>CREATE TABLE \"features_train\" (\\n\"loan_amnt\" R...</td>\n",
       "    </tr>\n",
       "    <tr>\n",
       "      <th>3</th>\n",
       "      <td>table</td>\n",
       "      <td>targets_train</td>\n",
       "      <td>targets_train</td>\n",
       "      <td>194999</td>\n",
       "      <td>CREATE TABLE \"targets_train\" (\\n\"loan_status\" ...</td>\n",
       "    </tr>\n",
       "    <tr>\n",
       "      <th>4</th>\n",
       "      <td>table</td>\n",
       "      <td>features_test</td>\n",
       "      <td>features_test</td>\n",
       "      <td>195392</td>\n",
       "      <td>CREATE TABLE \"features_test\" (\\n\"loan_amnt\" RE...</td>\n",
       "    </tr>\n",
       "    <tr>\n",
       "      <th>5</th>\n",
       "      <td>table</td>\n",
       "      <td>targets_test</td>\n",
       "      <td>targets_test</td>\n",
       "      <td>196276</td>\n",
       "      <td>CREATE TABLE \"targets_test\" (\\n\"loan_status\" I...</td>\n",
       "    </tr>\n",
       "    <tr>\n",
       "      <th>6</th>\n",
       "      <td>table</td>\n",
       "      <td>final_features_train</td>\n",
       "      <td>final_features_train</td>\n",
       "      <td>196372</td>\n",
       "      <td>CREATE TABLE \"final_features_train\" (\\n\"loan_a...</td>\n",
       "    </tr>\n",
       "    <tr>\n",
       "      <th>7</th>\n",
       "      <td>table</td>\n",
       "      <td>final_features_test</td>\n",
       "      <td>final_features_test</td>\n",
       "      <td>263784</td>\n",
       "      <td>CREATE TABLE \"final_features_test\" (\\n\"loan_am...</td>\n",
       "    </tr>\n",
       "    <tr>\n",
       "      <th>8</th>\n",
       "      <td>table</td>\n",
       "      <td>final_targets_train</td>\n",
       "      <td>final_targets_train</td>\n",
       "      <td>280620</td>\n",
       "      <td>CREATE TABLE \"final_targets_train\" (\\n\"loan_st...</td>\n",
       "    </tr>\n",
       "    <tr>\n",
       "      <th>9</th>\n",
       "      <td>table</td>\n",
       "      <td>final_targets_test</td>\n",
       "      <td>final_targets_test</td>\n",
       "      <td>281013</td>\n",
       "      <td>CREATE TABLE \"final_targets_test\" (\\n\"loan_sta...</td>\n",
       "    </tr>\n",
       "    <tr>\n",
       "      <th>10</th>\n",
       "      <td>table</td>\n",
       "      <td>final_cluster_features_train</td>\n",
       "      <td>final_cluster_features_train</td>\n",
       "      <td>281109</td>\n",
       "      <td>CREATE TABLE \"final_cluster_features_train\" (\\...</td>\n",
       "    </tr>\n",
       "    <tr>\n",
       "      <th>11</th>\n",
       "      <td>table</td>\n",
       "      <td>final_cluster_features_test</td>\n",
       "      <td>final_cluster_features_test</td>\n",
       "      <td>285571</td>\n",
       "      <td>CREATE TABLE \"final_cluster_features_test\" (\\n...</td>\n",
       "    </tr>\n",
       "    <tr>\n",
       "      <th>12</th>\n",
       "      <td>table</td>\n",
       "      <td>final_cat_features_train</td>\n",
       "      <td>final_cat_features_train</td>\n",
       "      <td>286684</td>\n",
       "      <td>CREATE TABLE \"final_cat_features_train\" (\\n\"gr...</td>\n",
       "    </tr>\n",
       "    <tr>\n",
       "      <th>13</th>\n",
       "      <td>table</td>\n",
       "      <td>final_cat_features_test</td>\n",
       "      <td>final_cat_features_test</td>\n",
       "      <td>295119</td>\n",
       "      <td>CREATE TABLE \"final_cat_features_test\" (\\n\"gra...</td>\n",
       "    </tr>\n",
       "  </tbody>\n",
       "</table>\n",
       "</div>"
      ],
      "text/plain": [
       "     type                          name                      tbl_name  \\\n",
       "0   table                    loan_clean                    loan_clean   \n",
       "1   table                    loan_final                    loan_final   \n",
       "2   table                features_train                features_train   \n",
       "3   table                 targets_train                 targets_train   \n",
       "4   table                 features_test                 features_test   \n",
       "5   table                  targets_test                  targets_test   \n",
       "6   table          final_features_train          final_features_train   \n",
       "7   table           final_features_test           final_features_test   \n",
       "8   table           final_targets_train           final_targets_train   \n",
       "9   table            final_targets_test            final_targets_test   \n",
       "10  table  final_cluster_features_train  final_cluster_features_train   \n",
       "11  table   final_cluster_features_test   final_cluster_features_test   \n",
       "12  table      final_cat_features_train      final_cat_features_train   \n",
       "13  table       final_cat_features_test       final_cat_features_test   \n",
       "\n",
       "    rootpage                                                sql  \n",
       "0          2  CREATE TABLE \"loan_clean\" (\\n\"index\" INTEGER,\\...  \n",
       "1      94847  CREATE TABLE \"loan_final\" (\\n\"index\" INTEGER,\\...  \n",
       "2     191453  CREATE TABLE \"features_train\" (\\n\"loan_amnt\" R...  \n",
       "3     194999  CREATE TABLE \"targets_train\" (\\n\"loan_status\" ...  \n",
       "4     195392  CREATE TABLE \"features_test\" (\\n\"loan_amnt\" RE...  \n",
       "5     196276  CREATE TABLE \"targets_test\" (\\n\"loan_status\" I...  \n",
       "6     196372  CREATE TABLE \"final_features_train\" (\\n\"loan_a...  \n",
       "7     263784  CREATE TABLE \"final_features_test\" (\\n\"loan_am...  \n",
       "8     280620  CREATE TABLE \"final_targets_train\" (\\n\"loan_st...  \n",
       "9     281013  CREATE TABLE \"final_targets_test\" (\\n\"loan_sta...  \n",
       "10    281109  CREATE TABLE \"final_cluster_features_train\" (\\...  \n",
       "11    285571  CREATE TABLE \"final_cluster_features_test\" (\\n...  \n",
       "12    286684  CREATE TABLE \"final_cat_features_train\" (\\n\"gr...  \n",
       "13    295119  CREATE TABLE \"final_cat_features_test\" (\\n\"gra...  "
      ]
     },
     "execution_count": 52,
     "metadata": {},
     "output_type": "execute_result"
    }
   ],
   "source": [
    "select('select * from sqlite_master','.\\data\\lending-club-loan-data\\database2.sqlite')"
   ]
  },
  {
   "cell_type": "code",
   "execution_count": 53,
   "metadata": {},
   "outputs": [],
   "source": [
    "#conn = sqlite3.connect('.\\data\\lending-club-loan-data\\database2.sqlite')\n",
    "#x_train.to_sql('final_features_train',conn,index=False)\n",
    "#x_test.to_sql('final_features_test',conn,index=False)\n",
    "#y_train.to_sql('final_targets_train',conn,index=False)\n",
    "#y_test.to_sql('final_targets_test',conn,index=False)\n",
    "#conn.close()"
   ]
  }
 ],
 "metadata": {
  "kernelspec": {
   "display_name": "Python 3",
   "language": "python",
   "name": "python3"
  },
  "language_info": {
   "codemirror_mode": {
    "name": "ipython",
    "version": 3
   },
   "file_extension": ".py",
   "mimetype": "text/x-python",
   "name": "python",
   "nbconvert_exporter": "python",
   "pygments_lexer": "ipython3",
   "version": "3.6.3"
  }
 },
 "nbformat": 4,
 "nbformat_minor": 2
}
