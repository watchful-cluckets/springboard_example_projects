{
 "cells": [
  {
   "cell_type": "markdown",
   "metadata": {},
   "source": [
    "## Regularization and Hyperparamter Optimization"
   ]
  },
  {
   "cell_type": "code",
   "execution_count": 1,
   "metadata": {
    "collapsed": true
   },
   "outputs": [],
   "source": [
    "import pandas as pd\n",
    "import numpy as np\n",
    "import matplotlib.pyplot as plt\n",
    "import sqlite3\n",
    "\n",
    "%matplotlib inline\n",
    "plt.style.use('ggplot')"
   ]
  },
  {
   "cell_type": "code",
   "execution_count": 2,
   "metadata": {
    "collapsed": true
   },
   "outputs": [],
   "source": [
    "def select(query):\n",
    "    \n",
    "    conn = sqlite3.connect('./data/lending-club-loan-data/database2.sqlite')\n",
    "    cursor = conn.cursor()\n",
    "    temp_df = pd.DataFrame(cursor.execute(query).fetchall())\n",
    "    temp_df.columns = list(map(lambda x: x[0], cursor.description))\n",
    "    conn.close()\n",
    "    \n",
    "    return temp_df.copy()"
   ]
  },
  {
   "cell_type": "code",
   "execution_count": 3,
   "metadata": {
    "collapsed": true
   },
   "outputs": [],
   "source": [
    "features_train = select('SELECT * FROM FEATURES_TRAIN')\n",
    "targets_train = select('SELECT * FROM TARGETS_TRAIN')\n",
    "features_test = select('SELECT * FROM FEATURES_TEST')\n",
    "targets_test = select('SELECT * FROM TARGETS_TEST')"
   ]
  },
  {
   "cell_type": "code",
   "execution_count": 4,
   "metadata": {
    "collapsed": true
   },
   "outputs": [],
   "source": [
    "from sklearn.linear_model import LogisticRegression\n",
    "from sklearn.model_selection import GridSearchCV\n",
    "from sklearn.metrics import confusion_matrix\n",
    "from sklearn.metrics import make_scorer"
   ]
  },
  {
   "cell_type": "code",
   "execution_count": 5,
   "metadata": {
    "collapsed": true
   },
   "outputs": [],
   "source": [
    "# our scoring functions will all focus on the negative class -- we already know the model performs well on the positive class\n",
    "# we are looking to optimize model performance on the negative examples. we will eventually have to consider model\n",
    "# performance on the positive class as well -- can't sacrifice too much of the predictability on positives\n",
    "\n",
    "# F1 score on the negative class may intuitively seem to be the best metric to optimize for, but in the context of loan\n",
    "# portfolio optimization, it may be more important to detect bad loans -- i.e. maximize recall on the negative class,\n",
    "# even if it means reduced precision and F1 (classifying many good loans as bad)\n",
    "\n",
    "def neg_f1(targets_true,targets_predicted):\n",
    "    tn, fp, fn, tp = confusion_matrix(targets_true,targets_predicted).ravel()\n",
    "    precision = tn/(tn+fn)\n",
    "    recall = tn/(tn+fp)\n",
    "    return 2*(precision*recall)/(precision+recall)\n",
    "\n",
    "def neg_precision(targets_true,targets_predicted):\n",
    "    tn, fp, fn, tp = confusion_matrix(targets_true,targets_predicted).ravel()\n",
    "    return tn/(tn+fn)\n",
    "\n",
    "def neg_recall(targets_true,targets_predicted):\n",
    "    tn, fp, fn, tp = confusion_matrix(targets_true,targets_predicted).ravel()\n",
    "    return tn/(tn+fp)"
   ]
  },
  {
   "cell_type": "markdown",
   "metadata": {},
   "source": [
    "---\n",
    "### Logistic Regression"
   ]
  },
  {
   "cell_type": "code",
   "execution_count": 6,
   "metadata": {},
   "outputs": [
    {
     "data": {
      "text/plain": [
       "0.00044777790216052836"
      ]
     },
     "execution_count": 6,
     "metadata": {},
     "output_type": "execute_result"
    }
   ],
   "source": [
    "lr = LogisticRegression().fit(features_train,targets_train.loan_status)\n",
    "neg_f1(targets_test.loan_status,lr.predict(features_test))"
   ]
  },
  {
   "cell_type": "code",
   "execution_count": 7,
   "metadata": {
    "collapsed": true
   },
   "outputs": [],
   "source": [
    "# optimize for F1, precision, recall\n",
    "\n",
    "params = {'C':[.000001,.00001,.0001,.001,.01,.1,1,10,100,1000,10000,100000]}\n",
    "\n",
    "lr = LogisticRegression()\n",
    "\n",
    "#clfF1 = GridSearchCV(lr,param_grid=params,scoring=make_scorer(neg_f1),return_train_score=True)\\\n",
    "#    .fit(features_train,targets_train.loan_status)\n",
    "#clfPREC = GridSearchCV(lr,param_grid=params,scoring=make_scorer(neg_precision),return_train_score=True)\\\n",
    "#    .fit(features_train,targets_train.loan_status)\n",
    "#clfREC = GridSearchCV(lr,param_grid=params,scoring=make_scorer(neg_recall),return_train_score=True)\\\n",
    "#    .fit(features_train,targets_train.loan_status)"
   ]
  },
  {
   "cell_type": "code",
   "execution_count": 8,
   "metadata": {
    "collapsed": true
   },
   "outputs": [],
   "source": [
    "#pd.DataFrame(clfF1.cv_results_).to_csv('./data/re-lr-f1.csv')\n",
    "#pd.DataFrame(clfPREC.cv_results_).to_csv('./data/re-lr-prec.csv')\n",
    "#pd.DataFrame(clfREC.cv_results_).to_csv('./data/re-lr-rec.csv')"
   ]
  },
  {
   "cell_type": "code",
   "execution_count": 9,
   "metadata": {},
   "outputs": [
    {
     "data": {
      "text/html": [
       "<div>\n",
       "<style>\n",
       "    .dataframe thead tr:only-child th {\n",
       "        text-align: right;\n",
       "    }\n",
       "\n",
       "    .dataframe thead th {\n",
       "        text-align: left;\n",
       "    }\n",
       "\n",
       "    .dataframe tbody tr th {\n",
       "        vertical-align: top;\n",
       "    }\n",
       "</style>\n",
       "<table border=\"1\" class=\"dataframe\">\n",
       "  <thead>\n",
       "    <tr style=\"text-align: right;\">\n",
       "      <th></th>\n",
       "      <th>mean_test_score</th>\n",
       "      <th>param_C</th>\n",
       "    </tr>\n",
       "  </thead>\n",
       "  <tbody>\n",
       "    <tr>\n",
       "      <th>2</th>\n",
       "      <td>0.020515</td>\n",
       "      <td>0.000100</td>\n",
       "    </tr>\n",
       "    <tr>\n",
       "      <th>6</th>\n",
       "      <td>0.013888</td>\n",
       "      <td>1.000000</td>\n",
       "    </tr>\n",
       "    <tr>\n",
       "      <th>3</th>\n",
       "      <td>0.012683</td>\n",
       "      <td>0.001000</td>\n",
       "    </tr>\n",
       "    <tr>\n",
       "      <th>10</th>\n",
       "      <td>0.009634</td>\n",
       "      <td>10000.000000</td>\n",
       "    </tr>\n",
       "    <tr>\n",
       "      <th>5</th>\n",
       "      <td>0.006705</td>\n",
       "      <td>0.100000</td>\n",
       "    </tr>\n",
       "    <tr>\n",
       "      <th>11</th>\n",
       "      <td>0.006033</td>\n",
       "      <td>100000.000000</td>\n",
       "    </tr>\n",
       "    <tr>\n",
       "      <th>9</th>\n",
       "      <td>0.002282</td>\n",
       "      <td>1000.000000</td>\n",
       "    </tr>\n",
       "    <tr>\n",
       "      <th>7</th>\n",
       "      <td>0.002172</td>\n",
       "      <td>10.000000</td>\n",
       "    </tr>\n",
       "    <tr>\n",
       "      <th>1</th>\n",
       "      <td>0.001172</td>\n",
       "      <td>0.000010</td>\n",
       "    </tr>\n",
       "    <tr>\n",
       "      <th>8</th>\n",
       "      <td>0.001117</td>\n",
       "      <td>100.000000</td>\n",
       "    </tr>\n",
       "    <tr>\n",
       "      <th>4</th>\n",
       "      <td>0.000838</td>\n",
       "      <td>0.010000</td>\n",
       "    </tr>\n",
       "    <tr>\n",
       "      <th>0</th>\n",
       "      <td>0.000614</td>\n",
       "      <td>0.000001</td>\n",
       "    </tr>\n",
       "  </tbody>\n",
       "</table>\n",
       "</div>"
      ],
      "text/plain": [
       "    mean_test_score        param_C\n",
       "2          0.020515       0.000100\n",
       "6          0.013888       1.000000\n",
       "3          0.012683       0.001000\n",
       "10         0.009634   10000.000000\n",
       "5          0.006705       0.100000\n",
       "11         0.006033  100000.000000\n",
       "9          0.002282    1000.000000\n",
       "7          0.002172      10.000000\n",
       "1          0.001172       0.000010\n",
       "8          0.001117     100.000000\n",
       "4          0.000838       0.010000\n",
       "0          0.000614       0.000001"
      ]
     },
     "execution_count": 9,
     "metadata": {},
     "output_type": "execute_result"
    }
   ],
   "source": [
    "# we see in the three cells below that regularization on logistic regression does not do much to help the performance\n",
    "# of the model. the effect of the inherent data imbalance greatly limits performance\n",
    "\n",
    "pd.read_csv('./data/re-lr-f1.csv').drop('Unnamed: 0',axis=1)\\\n",
    "    .sort_values('mean_test_score',ascending=False)[['mean_test_score','param_C']]"
   ]
  },
  {
   "cell_type": "code",
   "execution_count": 10,
   "metadata": {},
   "outputs": [
    {
     "data": {
      "text/html": [
       "<div>\n",
       "<style>\n",
       "    .dataframe thead tr:only-child th {\n",
       "        text-align: right;\n",
       "    }\n",
       "\n",
       "    .dataframe thead th {\n",
       "        text-align: left;\n",
       "    }\n",
       "\n",
       "    .dataframe tbody tr th {\n",
       "        vertical-align: top;\n",
       "    }\n",
       "</style>\n",
       "<table border=\"1\" class=\"dataframe\">\n",
       "  <thead>\n",
       "    <tr style=\"text-align: right;\">\n",
       "      <th></th>\n",
       "      <th>mean_test_score</th>\n",
       "      <th>param_C</th>\n",
       "    </tr>\n",
       "  </thead>\n",
       "  <tbody>\n",
       "    <tr>\n",
       "      <th>9</th>\n",
       "      <td>0.598389</td>\n",
       "      <td>1000.000000</td>\n",
       "    </tr>\n",
       "    <tr>\n",
       "      <th>3</th>\n",
       "      <td>0.548325</td>\n",
       "      <td>0.001000</td>\n",
       "    </tr>\n",
       "    <tr>\n",
       "      <th>8</th>\n",
       "      <td>0.539683</td>\n",
       "      <td>100.000000</td>\n",
       "    </tr>\n",
       "    <tr>\n",
       "      <th>1</th>\n",
       "      <td>0.535405</td>\n",
       "      <td>0.000010</td>\n",
       "    </tr>\n",
       "    <tr>\n",
       "      <th>11</th>\n",
       "      <td>0.507672</td>\n",
       "      <td>100000.000000</td>\n",
       "    </tr>\n",
       "    <tr>\n",
       "      <th>4</th>\n",
       "      <td>0.498932</td>\n",
       "      <td>0.010000</td>\n",
       "    </tr>\n",
       "    <tr>\n",
       "      <th>5</th>\n",
       "      <td>0.480212</td>\n",
       "      <td>0.100000</td>\n",
       "    </tr>\n",
       "    <tr>\n",
       "      <th>2</th>\n",
       "      <td>0.473994</td>\n",
       "      <td>0.000100</td>\n",
       "    </tr>\n",
       "    <tr>\n",
       "      <th>7</th>\n",
       "      <td>0.451000</td>\n",
       "      <td>10.000000</td>\n",
       "    </tr>\n",
       "    <tr>\n",
       "      <th>10</th>\n",
       "      <td>0.440134</td>\n",
       "      <td>10000.000000</td>\n",
       "    </tr>\n",
       "    <tr>\n",
       "      <th>6</th>\n",
       "      <td>0.437638</td>\n",
       "      <td>1.000000</td>\n",
       "    </tr>\n",
       "    <tr>\n",
       "      <th>0</th>\n",
       "      <td>0.407409</td>\n",
       "      <td>0.000001</td>\n",
       "    </tr>\n",
       "  </tbody>\n",
       "</table>\n",
       "</div>"
      ],
      "text/plain": [
       "    mean_test_score        param_C\n",
       "9          0.598389    1000.000000\n",
       "3          0.548325       0.001000\n",
       "8          0.539683     100.000000\n",
       "1          0.535405       0.000010\n",
       "11         0.507672  100000.000000\n",
       "4          0.498932       0.010000\n",
       "5          0.480212       0.100000\n",
       "2          0.473994       0.000100\n",
       "7          0.451000      10.000000\n",
       "10         0.440134   10000.000000\n",
       "6          0.437638       1.000000\n",
       "0          0.407409       0.000001"
      ]
     },
     "execution_count": 10,
     "metadata": {},
     "output_type": "execute_result"
    }
   ],
   "source": [
    "# the two best C values are the opposite edge cases.. odd behavior\n",
    "\n",
    "pd.read_csv('./data/re-lr-prec.csv').drop('Unnamed: 0',axis=1)\\\n",
    "    .sort_values('mean_test_score',ascending=False)[['mean_test_score','param_C']]"
   ]
  },
  {
   "cell_type": "code",
   "execution_count": 11,
   "metadata": {},
   "outputs": [
    {
     "data": {
      "text/html": [
       "<div>\n",
       "<style>\n",
       "    .dataframe thead tr:only-child th {\n",
       "        text-align: right;\n",
       "    }\n",
       "\n",
       "    .dataframe thead th {\n",
       "        text-align: left;\n",
       "    }\n",
       "\n",
       "    .dataframe tbody tr th {\n",
       "        vertical-align: top;\n",
       "    }\n",
       "</style>\n",
       "<table border=\"1\" class=\"dataframe\">\n",
       "  <thead>\n",
       "    <tr style=\"text-align: right;\">\n",
       "      <th></th>\n",
       "      <th>mean_test_score</th>\n",
       "      <th>param_C</th>\n",
       "    </tr>\n",
       "  </thead>\n",
       "  <tbody>\n",
       "    <tr>\n",
       "      <th>2</th>\n",
       "      <td>0.010705</td>\n",
       "      <td>0.000100</td>\n",
       "    </tr>\n",
       "    <tr>\n",
       "      <th>6</th>\n",
       "      <td>0.007239</td>\n",
       "      <td>1.000000</td>\n",
       "    </tr>\n",
       "    <tr>\n",
       "      <th>3</th>\n",
       "      <td>0.006596</td>\n",
       "      <td>0.001000</td>\n",
       "    </tr>\n",
       "    <tr>\n",
       "      <th>10</th>\n",
       "      <td>0.004891</td>\n",
       "      <td>10000.000000</td>\n",
       "    </tr>\n",
       "    <tr>\n",
       "      <th>5</th>\n",
       "      <td>0.003410</td>\n",
       "      <td>0.100000</td>\n",
       "    </tr>\n",
       "    <tr>\n",
       "      <th>11</th>\n",
       "      <td>0.003046</td>\n",
       "      <td>100000.000000</td>\n",
       "    </tr>\n",
       "    <tr>\n",
       "      <th>9</th>\n",
       "      <td>0.001146</td>\n",
       "      <td>1000.000000</td>\n",
       "    </tr>\n",
       "    <tr>\n",
       "      <th>7</th>\n",
       "      <td>0.001090</td>\n",
       "      <td>10.000000</td>\n",
       "    </tr>\n",
       "    <tr>\n",
       "      <th>1</th>\n",
       "      <td>0.000587</td>\n",
       "      <td>0.000010</td>\n",
       "    </tr>\n",
       "    <tr>\n",
       "      <th>8</th>\n",
       "      <td>0.000559</td>\n",
       "      <td>100.000000</td>\n",
       "    </tr>\n",
       "    <tr>\n",
       "      <th>4</th>\n",
       "      <td>0.000419</td>\n",
       "      <td>0.010000</td>\n",
       "    </tr>\n",
       "    <tr>\n",
       "      <th>0</th>\n",
       "      <td>0.000307</td>\n",
       "      <td>0.000001</td>\n",
       "    </tr>\n",
       "  </tbody>\n",
       "</table>\n",
       "</div>"
      ],
      "text/plain": [
       "    mean_test_score        param_C\n",
       "2          0.010705       0.000100\n",
       "6          0.007239       1.000000\n",
       "3          0.006596       0.001000\n",
       "10         0.004891   10000.000000\n",
       "5          0.003410       0.100000\n",
       "11         0.003046  100000.000000\n",
       "9          0.001146    1000.000000\n",
       "7          0.001090      10.000000\n",
       "1          0.000587       0.000010\n",
       "8          0.000559     100.000000\n",
       "4          0.000419       0.010000\n",
       "0          0.000307       0.000001"
      ]
     },
     "execution_count": 11,
     "metadata": {},
     "output_type": "execute_result"
    }
   ],
   "source": [
    "pd.read_csv('./data/re-lr-rec.csv').drop('Unnamed: 0',axis=1)\\\n",
    "    .sort_values('mean_test_score',ascending=False)[['mean_test_score','param_C']]"
   ]
  },
  {
   "cell_type": "code",
   "execution_count": 12,
   "metadata": {
    "collapsed": true
   },
   "outputs": [],
   "source": [
    "# test set results\n",
    "\n",
    "test_neg_pre = []\n",
    "test_neg_rec = []\n",
    "\n",
    "train_neg_pre = []\n",
    "train_neg_rec = []\n",
    "\n",
    "for C in params['C']:\n",
    "    \n",
    "    lr = LogisticRegression(C=C).fit(features_train,targets_train.loan_status)\n",
    "    \n",
    "    test_neg_pre.append(neg_precision(targets_test,lr.predict(features_test)))\n",
    "    test_neg_rec.append(neg_recall(targets_test,lr.predict(features_test)))\n",
    "    \n",
    "    train_neg_pre.append(neg_precision(targets_train,lr.predict(features_train)))\n",
    "    train_neg_rec.append(neg_recall(targets_train,lr.predict(features_train)))\n",
    "    "
   ]
  },
  {
   "cell_type": "code",
   "execution_count": 13,
   "metadata": {},
   "outputs": [
    {
     "data": {
      "text/plain": [
       "Text(0.5,1,'Logistic Regression Precision: Defaults')"
      ]
     },
     "execution_count": 13,
     "metadata": {},
     "output_type": "execute_result"
    },
    {
     "data": {
      "image/png": "[encoded data removed]",
      "text/plain": [
       "<matplotlib.figure.Figure at 0x24699da9668>"
      ]
     },
     "metadata": {},
     "output_type": "display_data"
    }
   ],
   "source": [
    "# the plots have the same scale on the y-axis to show the degree of difference in model performance variation\n",
    "\n",
    "fig = plt.figure(figsize=(14,4))\n",
    "\n",
    "ax1 = fig.add_subplot(1,2,2)\n",
    "ax1.plot(pd.read_csv('./data/re-lr-rec.csv').drop('Unnamed: 0',axis=1)['param_C'].apply(lambda x: np.log10(x))\\\n",
    "        ,pd.read_csv('./data/re-lr-rec.csv').drop('Unnamed: 0',axis=1)['mean_test_score'],'X-',color='#00176d')\n",
    "ax1.plot(pd.read_csv('./data/re-lr-rec.csv').drop('Unnamed: 0',axis=1)['param_C'].apply(lambda x: np.log10(x))\\\n",
    "        ,test_neg_rec,'--',color='#00176d')\n",
    "ax1.plot(pd.read_csv('./data/re-lr-rec.csv').drop('Unnamed: 0',axis=1)['param_C'].apply(lambda x: np.log10(x))\\\n",
    "        ,train_neg_rec,'k')\n",
    "ax1.legend(['Recall KFold','Recall Test','Recall Train'],fontsize=12)\n",
    "ax1.set_ylim([-0.05,0.05])\n",
    "ax1.set_xlabel('log-scale C values',fontsize=14)\n",
    "ax1.set_title('Logistic Regression Recall: Defaults',fontsize=16)\n",
    "\n",
    "ax2 = fig.add_subplot(1,2,1)\n",
    "ax2.plot(pd.read_csv('./data/re-lr-prec.csv').drop('Unnamed: 0',axis=1)['param_C'].apply(lambda x: np.log10(x))\\\n",
    "        ,pd.read_csv('./data/re-lr-prec.csv').drop('Unnamed: 0',axis=1)['mean_test_score'],'X-',color='#0085f9')\n",
    "ax2.legend(['Precision'],fontsize=12)\n",
    "ax2.plot(pd.read_csv('./data/re-lr-prec.csv').drop('Unnamed: 0',axis=1)['param_C'].apply(lambda x: np.log10(x))\\\n",
    "        ,test_neg_pre,'--',color='#0085f9')\n",
    "ax2.plot(pd.read_csv('./data/re-lr-rec.csv').drop('Unnamed: 0',axis=1)['param_C'].apply(lambda x: np.log10(x))\\\n",
    "        ,train_neg_pre,'k')\n",
    "ax2.legend(['Precision KFold','Precision Test','Precision Train'],fontsize=12)\n",
    "ax2.set_ylim([0.2,1.1])\n",
    "ax2.set_xlabel('log-scale C values',fontsize=14)\n",
    "ax2.set_title('Logistic Regression Precision: Defaults',fontsize=16)\n",
    "\n",
    "#plt.savefig('./report/hyperparams-lr.jpg')"
   ]
  },
  {
   "cell_type": "code",
   "execution_count": 14,
   "metadata": {},
   "outputs": [
    {
     "data": {
      "text/plain": [
       "Text(0.5,1,'Logistic Regression Precision: Defaults')"
      ]
     },
     "execution_count": 14,
     "metadata": {},
     "output_type": "execute_result"
    },
    {
     "data": {
      "image/png": "[encoded data removed]",
      "text/plain": [
       "<matplotlib.figure.Figure at 0x2469c18d550>"
      ]
     },
     "metadata": {},
     "output_type": "display_data"
    }
   ],
   "source": [
    "# the plots have the same scale on the y-axis to show the degree of difference in model performance variation\n",
    "\n",
    "fig = plt.figure(figsize=(14,4))\n",
    "\n",
    "ax1 = fig.add_subplot(1,2,2)\n",
    "ax1.plot(pd.read_csv('./data/re-lr-rec.csv').drop('Unnamed: 0',axis=1)['param_C'].apply(lambda x: np.log10(x))\\\n",
    "        ,pd.read_csv('./data/re-lr-rec.csv').drop('Unnamed: 0',axis=1)['mean_test_score'],'X-',color='#00176d')\n",
    "ax1.plot(pd.read_csv('./data/re-lr-rec.csv').drop('Unnamed: 0',axis=1)['param_C'].apply(lambda x: np.log10(x))\\\n",
    "        ,test_neg_rec,'--',color='#00176d')\n",
    "ax1.legend(['Recall KFold','Recall Test'],fontsize=12)\n",
    "ax1.set_ylim([-0.05,0.05])\n",
    "ax1.set_xlabel('log-scale C values',fontsize=14)\n",
    "ax1.set_title('Logistic Regression Recall: Defaults',fontsize=16)\n",
    "\n",
    "ax2 = fig.add_subplot(1,2,1)\n",
    "ax2.plot(pd.read_csv('./data/re-lr-prec.csv').drop('Unnamed: 0',axis=1)['param_C'].apply(lambda x: np.log10(x))\\\n",
    "        ,pd.read_csv('./data/re-lr-prec.csv').drop('Unnamed: 0',axis=1)['mean_test_score'],'X-',color='#0085f9')\n",
    "ax2.legend(['Precision'],fontsize=12)\n",
    "ax2.plot(pd.read_csv('./data/re-lr-prec.csv').drop('Unnamed: 0',axis=1)['param_C'].apply(lambda x: np.log10(x))\\\n",
    "        ,test_neg_pre,'--',color='#0085f9')\n",
    "ax2.legend(['Precision KFold','Precision Test'],fontsize=12)\n",
    "ax2.set_ylim([0.2,1.1])\n",
    "ax2.set_xlabel('log-scale C values',fontsize=14)\n",
    "ax2.set_title('Logistic Regression Precision: Defaults',fontsize=16)\n",
    "\n",
    "#plt.savefig('./report/hyperparams/hyperparams-lr.jpg')"
   ]
  },
  {
   "cell_type": "markdown",
   "metadata": {},
   "source": [
    "---\n",
    "### Gaussian Naive-Bayes"
   ]
  },
  {
   "cell_type": "code",
   "execution_count": 15,
   "metadata": {
    "collapsed": true
   },
   "outputs": [],
   "source": [
    "from sklearn.naive_bayes import GaussianNB"
   ]
  },
  {
   "cell_type": "code",
   "execution_count": 16,
   "metadata": {
    "collapsed": true
   },
   "outputs": [],
   "source": [
    "# when estimated by the data (by default), class prior probabilities of GNB are the proportions of each class\n",
    "# we can tinker with the prior probabilities to increase the model's sensitivity to certain classes. this should\n",
    "# intuitively have a similar effect as resampling the dataset input to GNB without adjusting the default priors\n",
    "\n",
    "# the first value in each pair is the prior probability of the negative class\n",
    "\n",
    "defaultprob = list(np.linspace(0.1,0.7,13))\n",
    "payoffprob = []\n",
    "\n",
    "for x in list(np.linspace(0.1,0.7,13)):\n",
    "    payoffprob.append(1-x)\n",
    "\n",
    "params = {'priors':list(zip(defaultprob,payoffprob))}\n",
    "\n",
    "GNB = GaussianNB()\n",
    "\n",
    "clfF1 = GridSearchCV(GNB,param_grid=params,scoring=make_scorer(neg_f1),return_train_score=True)\\\n",
    "    .fit(features_train,targets_train.loan_status)\n",
    "clfPREC = GridSearchCV(GNB,param_grid=params,scoring=make_scorer(neg_precision),return_train_score=True)\\\n",
    "    .fit(features_train,targets_train.loan_status)\n",
    "clfREC = GridSearchCV(GNB,param_grid=params,scoring=make_scorer(neg_recall),return_train_score=True)\\\n",
    "    .fit(features_train,targets_train.loan_status)"
   ]
  },
  {
   "cell_type": "code",
   "execution_count": 17,
   "metadata": {
    "collapsed": true
   },
   "outputs": [],
   "source": [
    "gnb_ratios = []\n",
    "\n",
    "for i in list(zip(defaultprob,payoffprob)):\n",
    "    gnb_ratios.append(i[0]/i[1])"
   ]
  },
  {
   "cell_type": "code",
   "execution_count": 18,
   "metadata": {},
   "outputs": [
    {
     "data": {
      "text/html": [
       "<div>\n",
       "<style>\n",
       "    .dataframe thead tr:only-child th {\n",
       "        text-align: right;\n",
       "    }\n",
       "\n",
       "    .dataframe thead th {\n",
       "        text-align: left;\n",
       "    }\n",
       "\n",
       "    .dataframe tbody tr th {\n",
       "        vertical-align: top;\n",
       "    }\n",
       "</style>\n",
       "<table border=\"1\" class=\"dataframe\">\n",
       "  <thead>\n",
       "    <tr style=\"text-align: right;\">\n",
       "      <th></th>\n",
       "      <th>mean_test_score</th>\n",
       "      <th>param_priors</th>\n",
       "    </tr>\n",
       "  </thead>\n",
       "  <tbody>\n",
       "    <tr>\n",
       "      <th>8</th>\n",
       "      <td>0.373224</td>\n",
       "      <td>(0.5, 0.5)</td>\n",
       "    </tr>\n",
       "    <tr>\n",
       "      <th>9</th>\n",
       "      <td>0.372245</td>\n",
       "      <td>(0.55, 0.45)</td>\n",
       "    </tr>\n",
       "    <tr>\n",
       "      <th>7</th>\n",
       "      <td>0.371225</td>\n",
       "      <td>(0.45, 0.55)</td>\n",
       "    </tr>\n",
       "    <tr>\n",
       "      <th>10</th>\n",
       "      <td>0.367746</td>\n",
       "      <td>(0.6, 0.4)</td>\n",
       "    </tr>\n",
       "    <tr>\n",
       "      <th>6</th>\n",
       "      <td>0.367621</td>\n",
       "      <td>(0.4, 0.6)</td>\n",
       "    </tr>\n",
       "    <tr>\n",
       "      <th>11</th>\n",
       "      <td>0.361796</td>\n",
       "      <td>(0.65, 0.35)</td>\n",
       "    </tr>\n",
       "    <tr>\n",
       "      <th>5</th>\n",
       "      <td>0.360923</td>\n",
       "      <td>(0.35, 0.65)</td>\n",
       "    </tr>\n",
       "    <tr>\n",
       "      <th>12</th>\n",
       "      <td>0.353996</td>\n",
       "      <td>(0.7, 0.3)</td>\n",
       "    </tr>\n",
       "    <tr>\n",
       "      <th>4</th>\n",
       "      <td>0.351018</td>\n",
       "      <td>(0.3, 0.7)</td>\n",
       "    </tr>\n",
       "    <tr>\n",
       "      <th>3</th>\n",
       "      <td>0.340710</td>\n",
       "      <td>(0.25, 0.75)</td>\n",
       "    </tr>\n",
       "    <tr>\n",
       "      <th>2</th>\n",
       "      <td>0.327848</td>\n",
       "      <td>(0.2, 0.8)</td>\n",
       "    </tr>\n",
       "    <tr>\n",
       "      <th>1</th>\n",
       "      <td>0.308354</td>\n",
       "      <td>(0.15, 0.85)</td>\n",
       "    </tr>\n",
       "    <tr>\n",
       "      <th>0</th>\n",
       "      <td>0.268723</td>\n",
       "      <td>(0.1, 0.9)</td>\n",
       "    </tr>\n",
       "  </tbody>\n",
       "</table>\n",
       "</div>"
      ],
      "text/plain": [
       "    mean_test_score  param_priors\n",
       "8          0.373224    (0.5, 0.5)\n",
       "9          0.372245  (0.55, 0.45)\n",
       "7          0.371225  (0.45, 0.55)\n",
       "10         0.367746    (0.6, 0.4)\n",
       "6          0.367621    (0.4, 0.6)\n",
       "11         0.361796  (0.65, 0.35)\n",
       "5          0.360923  (0.35, 0.65)\n",
       "12         0.353996    (0.7, 0.3)\n",
       "4          0.351018    (0.3, 0.7)\n",
       "3          0.340710  (0.25, 0.75)\n",
       "2          0.327848    (0.2, 0.8)\n",
       "1          0.308354  (0.15, 0.85)\n",
       "0          0.268723    (0.1, 0.9)"
      ]
     },
     "execution_count": 18,
     "metadata": {},
     "output_type": "execute_result"
    }
   ],
   "source": [
    "# for a balance between precision and recall, it seems about an even balance on prior probabilities is optimal\n",
    "\n",
    "pd.DataFrame(clfF1.cv_results_).sort_values('mean_test_score',ascending=False)[['mean_test_score','param_priors']]"
   ]
  },
  {
   "cell_type": "code",
   "execution_count": 19,
   "metadata": {},
   "outputs": [
    {
     "data": {
      "text/html": [
       "<div>\n",
       "<style>\n",
       "    .dataframe thead tr:only-child th {\n",
       "        text-align: right;\n",
       "    }\n",
       "\n",
       "    .dataframe thead th {\n",
       "        text-align: left;\n",
       "    }\n",
       "\n",
       "    .dataframe tbody tr th {\n",
       "        vertical-align: top;\n",
       "    }\n",
       "</style>\n",
       "<table border=\"1\" class=\"dataframe\">\n",
       "  <thead>\n",
       "    <tr style=\"text-align: right;\">\n",
       "      <th></th>\n",
       "      <th>mean_test_score</th>\n",
       "      <th>param_priors</th>\n",
       "    </tr>\n",
       "  </thead>\n",
       "  <tbody>\n",
       "    <tr>\n",
       "      <th>0</th>\n",
       "      <td>0.357363</td>\n",
       "      <td>(0.1, 0.9)</td>\n",
       "    </tr>\n",
       "    <tr>\n",
       "      <th>1</th>\n",
       "      <td>0.340814</td>\n",
       "      <td>(0.15, 0.85)</td>\n",
       "    </tr>\n",
       "    <tr>\n",
       "      <th>2</th>\n",
       "      <td>0.325372</td>\n",
       "      <td>(0.2, 0.8)</td>\n",
       "    </tr>\n",
       "    <tr>\n",
       "      <th>3</th>\n",
       "      <td>0.312656</td>\n",
       "      <td>(0.25, 0.75)</td>\n",
       "    </tr>\n",
       "    <tr>\n",
       "      <th>4</th>\n",
       "      <td>0.302458</td>\n",
       "      <td>(0.3, 0.7)</td>\n",
       "    </tr>\n",
       "    <tr>\n",
       "      <th>5</th>\n",
       "      <td>0.294756</td>\n",
       "      <td>(0.35, 0.65)</td>\n",
       "    </tr>\n",
       "    <tr>\n",
       "      <th>6</th>\n",
       "      <td>0.285865</td>\n",
       "      <td>(0.4, 0.6)</td>\n",
       "    </tr>\n",
       "    <tr>\n",
       "      <th>7</th>\n",
       "      <td>0.276339</td>\n",
       "      <td>(0.45, 0.55)</td>\n",
       "    </tr>\n",
       "    <tr>\n",
       "      <th>8</th>\n",
       "      <td>0.267287</td>\n",
       "      <td>(0.5, 0.5)</td>\n",
       "    </tr>\n",
       "    <tr>\n",
       "      <th>9</th>\n",
       "      <td>0.257206</td>\n",
       "      <td>(0.55, 0.45)</td>\n",
       "    </tr>\n",
       "    <tr>\n",
       "      <th>10</th>\n",
       "      <td>0.246101</td>\n",
       "      <td>(0.6, 0.4)</td>\n",
       "    </tr>\n",
       "    <tr>\n",
       "      <th>11</th>\n",
       "      <td>0.235433</td>\n",
       "      <td>(0.65, 0.35)</td>\n",
       "    </tr>\n",
       "    <tr>\n",
       "      <th>12</th>\n",
       "      <td>0.224849</td>\n",
       "      <td>(0.7, 0.3)</td>\n",
       "    </tr>\n",
       "  </tbody>\n",
       "</table>\n",
       "</div>"
      ],
      "text/plain": [
       "    mean_test_score  param_priors\n",
       "0          0.357363    (0.1, 0.9)\n",
       "1          0.340814  (0.15, 0.85)\n",
       "2          0.325372    (0.2, 0.8)\n",
       "3          0.312656  (0.25, 0.75)\n",
       "4          0.302458    (0.3, 0.7)\n",
       "5          0.294756  (0.35, 0.65)\n",
       "6          0.285865    (0.4, 0.6)\n",
       "7          0.276339  (0.45, 0.55)\n",
       "8          0.267287    (0.5, 0.5)\n",
       "9          0.257206  (0.55, 0.45)\n",
       "10         0.246101    (0.6, 0.4)\n",
       "11         0.235433  (0.65, 0.35)\n",
       "12         0.224849    (0.7, 0.3)"
      ]
     },
     "execution_count": 19,
     "metadata": {},
     "output_type": "execute_result"
    }
   ],
   "source": [
    "# precision and recall have opposite orderings of param values. it seems that we can reduce precision for greater recall\n",
    "# and vice versa. indeed, this is a very similar result to what happened with undersampling\n",
    "\n",
    "pd.DataFrame(clfPREC.cv_results_).sort_values('mean_test_score',ascending=False)[['mean_test_score','param_priors']]"
   ]
  },
  {
   "cell_type": "code",
   "execution_count": 20,
   "metadata": {},
   "outputs": [
    {
     "data": {
      "text/html": [
       "<div>\n",
       "<style>\n",
       "    .dataframe thead tr:only-child th {\n",
       "        text-align: right;\n",
       "    }\n",
       "\n",
       "    .dataframe thead th {\n",
       "        text-align: left;\n",
       "    }\n",
       "\n",
       "    .dataframe tbody tr th {\n",
       "        vertical-align: top;\n",
       "    }\n",
       "</style>\n",
       "<table border=\"1\" class=\"dataframe\">\n",
       "  <thead>\n",
       "    <tr style=\"text-align: right;\">\n",
       "      <th></th>\n",
       "      <th>mean_test_score</th>\n",
       "      <th>param_priors</th>\n",
       "    </tr>\n",
       "  </thead>\n",
       "  <tbody>\n",
       "    <tr>\n",
       "      <th>12</th>\n",
       "      <td>0.832392</td>\n",
       "      <td>(0.7, 0.3)</td>\n",
       "    </tr>\n",
       "    <tr>\n",
       "      <th>11</th>\n",
       "      <td>0.781805</td>\n",
       "      <td>(0.65, 0.35)</td>\n",
       "    </tr>\n",
       "    <tr>\n",
       "      <th>10</th>\n",
       "      <td>0.728144</td>\n",
       "      <td>(0.6, 0.4)</td>\n",
       "    </tr>\n",
       "    <tr>\n",
       "      <th>9</th>\n",
       "      <td>0.674343</td>\n",
       "      <td>(0.55, 0.45)</td>\n",
       "    </tr>\n",
       "    <tr>\n",
       "      <th>8</th>\n",
       "      <td>0.619088</td>\n",
       "      <td>(0.5, 0.5)</td>\n",
       "    </tr>\n",
       "    <tr>\n",
       "      <th>7</th>\n",
       "      <td>0.566014</td>\n",
       "      <td>(0.45, 0.55)</td>\n",
       "    </tr>\n",
       "    <tr>\n",
       "      <th>6</th>\n",
       "      <td>0.515315</td>\n",
       "      <td>(0.4, 0.6)</td>\n",
       "    </tr>\n",
       "    <tr>\n",
       "      <th>5</th>\n",
       "      <td>0.465679</td>\n",
       "      <td>(0.35, 0.65)</td>\n",
       "    </tr>\n",
       "    <tr>\n",
       "      <th>4</th>\n",
       "      <td>0.418306</td>\n",
       "      <td>(0.3, 0.7)</td>\n",
       "    </tr>\n",
       "    <tr>\n",
       "      <th>3</th>\n",
       "      <td>0.374399</td>\n",
       "      <td>(0.25, 0.75)</td>\n",
       "    </tr>\n",
       "    <tr>\n",
       "      <th>2</th>\n",
       "      <td>0.330436</td>\n",
       "      <td>(0.2, 0.8)</td>\n",
       "    </tr>\n",
       "    <tr>\n",
       "      <th>1</th>\n",
       "      <td>0.281582</td>\n",
       "      <td>(0.15, 0.85)</td>\n",
       "    </tr>\n",
       "    <tr>\n",
       "      <th>0</th>\n",
       "      <td>0.215344</td>\n",
       "      <td>(0.1, 0.9)</td>\n",
       "    </tr>\n",
       "  </tbody>\n",
       "</table>\n",
       "</div>"
      ],
      "text/plain": [
       "    mean_test_score  param_priors\n",
       "12         0.832392    (0.7, 0.3)\n",
       "11         0.781805  (0.65, 0.35)\n",
       "10         0.728144    (0.6, 0.4)\n",
       "9          0.674343  (0.55, 0.45)\n",
       "8          0.619088    (0.5, 0.5)\n",
       "7          0.566014  (0.45, 0.55)\n",
       "6          0.515315    (0.4, 0.6)\n",
       "5          0.465679  (0.35, 0.65)\n",
       "4          0.418306    (0.3, 0.7)\n",
       "3          0.374399  (0.25, 0.75)\n",
       "2          0.330436    (0.2, 0.8)\n",
       "1          0.281582  (0.15, 0.85)\n",
       "0          0.215344    (0.1, 0.9)"
      ]
     },
     "execution_count": 20,
     "metadata": {},
     "output_type": "execute_result"
    }
   ],
   "source": [
    "pd.DataFrame(clfREC.cv_results_).sort_values('mean_test_score',ascending=False)[['mean_test_score','param_priors']]"
   ]
  },
  {
   "cell_type": "code",
   "execution_count": 21,
   "metadata": {
    "collapsed": true
   },
   "outputs": [],
   "source": [
    "# test set results\n",
    "\n",
    "gnb_test_neg_pre = []\n",
    "gnb_test_neg_rec = []\n",
    "\n",
    "gnb_train_neg_pre = []\n",
    "gnb_train_neg_rec = []\n",
    "\n",
    "for k in params['priors']:\n",
    "    \n",
    "    gnb = GaussianNB(priors=k).fit(features_train,targets_train.loan_status)\n",
    "    \n",
    "    predictions = gnb.predict(features_test)\n",
    "    gnb_test_neg_pre.append(neg_precision(targets_test,predictions))\n",
    "    gnb_test_neg_rec.append(neg_recall(targets_test,predictions))\n",
    "    \n",
    "    predictions = gnb.predict(features_train)\n",
    "    gnb_train_neg_pre.append(neg_precision(targets_train,predictions))\n",
    "    gnb_train_neg_rec.append(neg_recall(targets_train,predictions))"
   ]
  },
  {
   "cell_type": "code",
   "execution_count": 22,
   "metadata": {},
   "outputs": [
    {
     "data": {
      "text/plain": [
       "Text(0.5,1,'Gaussian Naive-Bayes: Defaults')"
      ]
     },
     "execution_count": 22,
     "metadata": {},
     "output_type": "execute_result"
    },
    {
     "data": {
      "image/png": "[encoded data removed]",
      "text/plain": [
       "<matplotlib.figure.Figure at 0x2469bf9c6d8>"
      ]
     },
     "metadata": {},
     "output_type": "display_data"
    }
   ],
   "source": [
    "# the plots have the same scale on the y-axis to show the degree of difference in model performance variation\n",
    "\n",
    "fig = plt.figure(figsize=(10,5))\n",
    "\n",
    "ax1 = fig.add_subplot(1,1,1)\n",
    "ax1.plot(gnb_ratios,pd.DataFrame(clfPREC.cv_results_)['mean_test_score'],'X-',color='#00ddff')\n",
    "ax1.plot(gnb_ratios,pd.DataFrame(clfREC.cv_results_)['mean_test_score'],'X-',color='#00176d')\n",
    "ax1.plot(gnb_ratios,gnb_test_neg_pre,'--',color='#00ddff')\n",
    "ax1.plot(gnb_ratios,gnb_test_neg_rec,'--',color='#00176d')\n",
    "ax1.plot(gnb_ratios,gnb_train_neg_pre,'k')\n",
    "ax1.plot(gnb_ratios,gnb_train_neg_rec,'k')\n",
    "\n",
    "ax1.legend(['Precision KFold','Recall KFold','Precision Test','Recall Test','Precision Train','Recall Train'])\n",
    "ax1.set_xlabel('Minority/Majority Class Priors Ratio',fontsize=14)\n",
    "ax1.set_title('Gaussian Naive-Bayes: Defaults',fontsize=16)"
   ]
  },
  {
   "cell_type": "code",
   "execution_count": 23,
   "metadata": {},
   "outputs": [
    {
     "data": {
      "text/plain": [
       "Text(0.5,1,'Gaussian Naive-Bayes: Defaults')"
      ]
     },
     "execution_count": 23,
     "metadata": {},
     "output_type": "execute_result"
    },
    {
     "data": {
      "image/png": "[encoded data removed]",
      "text/plain": [
       "<matplotlib.figure.Figure at 0x2469c175128>"
      ]
     },
     "metadata": {},
     "output_type": "display_data"
    }
   ],
   "source": [
    "# the plots have the same scale on the y-axis to show the degree of difference in model performance variation\n",
    "\n",
    "fig = plt.figure(figsize=(10,5))\n",
    "\n",
    "ax1 = fig.add_subplot(1,1,1)\n",
    "ax1.plot(gnb_ratios,pd.DataFrame(clfPREC.cv_results_)['mean_test_score'],'X-',color='#00ddff')\n",
    "ax1.plot(gnb_ratios,pd.DataFrame(clfREC.cv_results_)['mean_test_score'],'X-',color='#00176d')\n",
    "ax1.plot(gnb_ratios,gnb_test_neg_pre,'--',color='#00ddff')\n",
    "ax1.plot(gnb_ratios,gnb_test_neg_rec,'--',color='#00176d')\n",
    "ax1.legend(['Precision KFold','Recall KFold','Precision Test','Recall Test'])\n",
    "ax1.set_xlabel('Minority/Majority Class Priors Ratio',fontsize=14)\n",
    "ax1.set_title('Gaussian Naive-Bayes: Defaults',fontsize=16)\n",
    "\n",
    "#plt.savefig('./report/hyperparams/hyperparams-gnb.jpg')"
   ]
  },
  {
   "cell_type": "code",
   "execution_count": 24,
   "metadata": {},
   "outputs": [
    {
     "name": "stdout",
     "output_type": "stream",
     "text": [
      "0.367787323277\n",
      "0.35449833395\n",
      "0.822264531302\n"
     ]
    }
   ],
   "source": [
    "# f1 and recall are much better than in logistic regression, as seen in the baseline model w/o resampling\n",
    "\n",
    "print(neg_f1(targets_test.loan_status,clfF1.best_estimator_.predict(features_test)))\n",
    "print(neg_precision(targets_test.loan_status,clfPREC.best_estimator_.predict(features_test)))\n",
    "print(neg_recall(targets_test.loan_status,clfREC.best_estimator_.predict(features_test)))"
   ]
  },
  {
   "cell_type": "code",
   "execution_count": 25,
   "metadata": {
    "collapsed": true
   },
   "outputs": [],
   "source": [
    "GNBF1 = neg_f1(targets_test.loan_status,clfF1.best_estimator_.predict(features_test))\n",
    "GNBPREC = neg_precision(targets_test.loan_status,clfPREC.best_estimator_.predict(features_test))\n",
    "GNBREC = neg_recall(targets_test.loan_status,clfREC.best_estimator_.predict(features_test))"
   ]
  },
  {
   "cell_type": "markdown",
   "metadata": {},
   "source": [
    "---\n",
    "### k Nearest Neighbors"
   ]
  },
  {
   "cell_type": "code",
   "execution_count": 26,
   "metadata": {
    "collapsed": true
   },
   "outputs": [],
   "source": [
    "from sklearn.neighbors import KNeighborsClassifier"
   ]
  },
  {
   "cell_type": "code",
   "execution_count": 27,
   "metadata": {
    "collapsed": true
   },
   "outputs": [],
   "source": [
    "# this takes a while to compute.. commenting to remove code from future runs\n",
    "\n",
    "params = {'n_neighbors':list(range(1,11))+[12,15,20,27,35]}\n",
    "\n",
    "kNN = KNeighborsClassifier()\n",
    "\n",
    "#clfF1 = GridSearchCV(kNN,param_grid=params,scoring=make_scorer(neg_f1),return_train_score=True)\\\n",
    "#    .fit(features_train,targets_train.loan_status)\n",
    "#clfPREC = GridSearchCV(kNN,param_grid=params,scoring=make_scorer(neg_precision),return_train_score=True)\\\n",
    "#    .fit(features_train,targets_train.loan_status)\n",
    "#clfREC = GridSearchCV(kNN,param_grid=params,scoring=make_scorer(neg_recall),return_train_score=True)\\\n",
    "#    .fit(features_train,targets_train.loan_status)"
   ]
  },
  {
   "cell_type": "code",
   "execution_count": 28,
   "metadata": {
    "collapsed": true
   },
   "outputs": [],
   "source": [
    "#pd.DataFrame(clfF1.cv_results_).to_csv('./data/re-knn-f1.csv')\n",
    "#pd.DataFrame(clfPREC.cv_results_).to_csv('./data/re-knn-prec.csv')\n",
    "#pd.DataFrame(clfREC.cv_results_).to_csv('./data/re-knn-rec.csv')"
   ]
  },
  {
   "cell_type": "code",
   "execution_count": 29,
   "metadata": {},
   "outputs": [
    {
     "data": {
      "text/html": [
       "<div>\n",
       "<style>\n",
       "    .dataframe thead tr:only-child th {\n",
       "        text-align: right;\n",
       "    }\n",
       "\n",
       "    .dataframe thead th {\n",
       "        text-align: left;\n",
       "    }\n",
       "\n",
       "    .dataframe tbody tr th {\n",
       "        vertical-align: top;\n",
       "    }\n",
       "</style>\n",
       "<table border=\"1\" class=\"dataframe\">\n",
       "  <thead>\n",
       "    <tr style=\"text-align: right;\">\n",
       "      <th></th>\n",
       "      <th>mean_test_score</th>\n",
       "      <th>param_n_neighbors</th>\n",
       "    </tr>\n",
       "  </thead>\n",
       "  <tbody>\n",
       "    <tr>\n",
       "      <th>1</th>\n",
       "      <td>0.255185</td>\n",
       "      <td>2</td>\n",
       "    </tr>\n",
       "    <tr>\n",
       "      <th>3</th>\n",
       "      <td>0.205052</td>\n",
       "      <td>4</td>\n",
       "    </tr>\n",
       "    <tr>\n",
       "      <th>0</th>\n",
       "      <td>0.203513</td>\n",
       "      <td>1</td>\n",
       "    </tr>\n",
       "    <tr>\n",
       "      <th>5</th>\n",
       "      <td>0.152544</td>\n",
       "      <td>6</td>\n",
       "    </tr>\n",
       "    <tr>\n",
       "      <th>2</th>\n",
       "      <td>0.150728</td>\n",
       "      <td>3</td>\n",
       "    </tr>\n",
       "    <tr>\n",
       "      <th>7</th>\n",
       "      <td>0.119035</td>\n",
       "      <td>8</td>\n",
       "    </tr>\n",
       "    <tr>\n",
       "      <th>4</th>\n",
       "      <td>0.107831</td>\n",
       "      <td>5</td>\n",
       "    </tr>\n",
       "    <tr>\n",
       "      <th>9</th>\n",
       "      <td>0.091316</td>\n",
       "      <td>10</td>\n",
       "    </tr>\n",
       "    <tr>\n",
       "      <th>6</th>\n",
       "      <td>0.081866</td>\n",
       "      <td>7</td>\n",
       "    </tr>\n",
       "    <tr>\n",
       "      <th>10</th>\n",
       "      <td>0.071858</td>\n",
       "      <td>12</td>\n",
       "    </tr>\n",
       "    <tr>\n",
       "      <th>8</th>\n",
       "      <td>0.062036</td>\n",
       "      <td>9</td>\n",
       "    </tr>\n",
       "    <tr>\n",
       "      <th>11</th>\n",
       "      <td>0.031110</td>\n",
       "      <td>15</td>\n",
       "    </tr>\n",
       "    <tr>\n",
       "      <th>12</th>\n",
       "      <td>0.029244</td>\n",
       "      <td>20</td>\n",
       "    </tr>\n",
       "    <tr>\n",
       "      <th>13</th>\n",
       "      <td>0.009676</td>\n",
       "      <td>27</td>\n",
       "    </tr>\n",
       "    <tr>\n",
       "      <th>14</th>\n",
       "      <td>0.005047</td>\n",
       "      <td>35</td>\n",
       "    </tr>\n",
       "  </tbody>\n",
       "</table>\n",
       "</div>"
      ],
      "text/plain": [
       "    mean_test_score  param_n_neighbors\n",
       "1          0.255185                  2\n",
       "3          0.205052                  4\n",
       "0          0.203513                  1\n",
       "5          0.152544                  6\n",
       "2          0.150728                  3\n",
       "7          0.119035                  8\n",
       "4          0.107831                  5\n",
       "9          0.091316                 10\n",
       "6          0.081866                  7\n",
       "10         0.071858                 12\n",
       "8          0.062036                  9\n",
       "11         0.031110                 15\n",
       "12         0.029244                 20\n",
       "13         0.009676                 27\n",
       "14         0.005047                 35"
      ]
     },
     "execution_count": 29,
     "metadata": {},
     "output_type": "execute_result"
    }
   ],
   "source": [
    "# overall performance is much weaker than Gaussian Naive-Bayes\n",
    "\n",
    "pd.read_csv('./data/re-knn-f1.csv').drop('Unnamed: 0',axis=1)\\\n",
    "    .sort_values('mean_test_score',ascending=False)[['mean_test_score','param_n_neighbors']]"
   ]
  },
  {
   "cell_type": "code",
   "execution_count": 30,
   "metadata": {},
   "outputs": [
    {
     "data": {
      "text/html": [
       "<div>\n",
       "<style>\n",
       "    .dataframe thead tr:only-child th {\n",
       "        text-align: right;\n",
       "    }\n",
       "\n",
       "    .dataframe thead th {\n",
       "        text-align: left;\n",
       "    }\n",
       "\n",
       "    .dataframe tbody tr th {\n",
       "        vertical-align: top;\n",
       "    }\n",
       "</style>\n",
       "<table border=\"1\" class=\"dataframe\">\n",
       "  <thead>\n",
       "    <tr style=\"text-align: right;\">\n",
       "      <th></th>\n",
       "      <th>mean_test_score</th>\n",
       "      <th>param_n_neighbors</th>\n",
       "    </tr>\n",
       "  </thead>\n",
       "  <tbody>\n",
       "    <tr>\n",
       "      <th>14</th>\n",
       "      <td>0.337669</td>\n",
       "      <td>35</td>\n",
       "    </tr>\n",
       "    <tr>\n",
       "      <th>12</th>\n",
       "      <td>0.300189</td>\n",
       "      <td>20</td>\n",
       "    </tr>\n",
       "    <tr>\n",
       "      <th>13</th>\n",
       "      <td>0.297018</td>\n",
       "      <td>27</td>\n",
       "    </tr>\n",
       "    <tr>\n",
       "      <th>11</th>\n",
       "      <td>0.282426</td>\n",
       "      <td>15</td>\n",
       "    </tr>\n",
       "    <tr>\n",
       "      <th>10</th>\n",
       "      <td>0.269905</td>\n",
       "      <td>12</td>\n",
       "    </tr>\n",
       "    <tr>\n",
       "      <th>9</th>\n",
       "      <td>0.259177</td>\n",
       "      <td>10</td>\n",
       "    </tr>\n",
       "    <tr>\n",
       "      <th>8</th>\n",
       "      <td>0.257330</td>\n",
       "      <td>9</td>\n",
       "    </tr>\n",
       "    <tr>\n",
       "      <th>6</th>\n",
       "      <td>0.248811</td>\n",
       "      <td>7</td>\n",
       "    </tr>\n",
       "    <tr>\n",
       "      <th>7</th>\n",
       "      <td>0.246623</td>\n",
       "      <td>8</td>\n",
       "    </tr>\n",
       "    <tr>\n",
       "      <th>4</th>\n",
       "      <td>0.230260</td>\n",
       "      <td>5</td>\n",
       "    </tr>\n",
       "    <tr>\n",
       "      <th>5</th>\n",
       "      <td>0.228096</td>\n",
       "      <td>6</td>\n",
       "    </tr>\n",
       "    <tr>\n",
       "      <th>2</th>\n",
       "      <td>0.221454</td>\n",
       "      <td>3</td>\n",
       "    </tr>\n",
       "    <tr>\n",
       "      <th>3</th>\n",
       "      <td>0.218699</td>\n",
       "      <td>4</td>\n",
       "    </tr>\n",
       "    <tr>\n",
       "      <th>0</th>\n",
       "      <td>0.203898</td>\n",
       "      <td>1</td>\n",
       "    </tr>\n",
       "    <tr>\n",
       "      <th>1</th>\n",
       "      <td>0.198596</td>\n",
       "      <td>2</td>\n",
       "    </tr>\n",
       "  </tbody>\n",
       "</table>\n",
       "</div>"
      ],
      "text/plain": [
       "    mean_test_score  param_n_neighbors\n",
       "14         0.337669                 35\n",
       "12         0.300189                 20\n",
       "13         0.297018                 27\n",
       "11         0.282426                 15\n",
       "10         0.269905                 12\n",
       "9          0.259177                 10\n",
       "8          0.257330                  9\n",
       "6          0.248811                  7\n",
       "7          0.246623                  8\n",
       "4          0.230260                  5\n",
       "5          0.228096                  6\n",
       "2          0.221454                  3\n",
       "3          0.218699                  4\n",
       "0          0.203898                  1\n",
       "1          0.198596                  2"
      ]
     },
     "execution_count": 30,
     "metadata": {},
     "output_type": "execute_result"
    }
   ],
   "source": [
    "# greater number of neighbors tends to increase precision of model\n",
    "\n",
    "pd.read_csv('./data/re-knn-prec.csv').drop('Unnamed: 0',axis=1)\\\n",
    "    .sort_values('mean_test_score',ascending=False)[['mean_test_score','param_n_neighbors']]"
   ]
  },
  {
   "cell_type": "code",
   "execution_count": 31,
   "metadata": {},
   "outputs": [
    {
     "data": {
      "text/html": [
       "<div>\n",
       "<style>\n",
       "    .dataframe thead tr:only-child th {\n",
       "        text-align: right;\n",
       "    }\n",
       "\n",
       "    .dataframe thead th {\n",
       "        text-align: left;\n",
       "    }\n",
       "\n",
       "    .dataframe tbody tr th {\n",
       "        vertical-align: top;\n",
       "    }\n",
       "</style>\n",
       "<table border=\"1\" class=\"dataframe\">\n",
       "  <thead>\n",
       "    <tr style=\"text-align: right;\">\n",
       "      <th></th>\n",
       "      <th>mean_test_score</th>\n",
       "      <th>param_n_neighbors</th>\n",
       "    </tr>\n",
       "  </thead>\n",
       "  <tbody>\n",
       "    <tr>\n",
       "      <th>1</th>\n",
       "      <td>0.356875</td>\n",
       "      <td>2</td>\n",
       "    </tr>\n",
       "    <tr>\n",
       "      <th>0</th>\n",
       "      <td>0.203130</td>\n",
       "      <td>1</td>\n",
       "    </tr>\n",
       "    <tr>\n",
       "      <th>3</th>\n",
       "      <td>0.193013</td>\n",
       "      <td>4</td>\n",
       "    </tr>\n",
       "    <tr>\n",
       "      <th>5</th>\n",
       "      <td>0.114589</td>\n",
       "      <td>6</td>\n",
       "    </tr>\n",
       "    <tr>\n",
       "      <th>2</th>\n",
       "      <td>0.114254</td>\n",
       "      <td>3</td>\n",
       "    </tr>\n",
       "    <tr>\n",
       "      <th>7</th>\n",
       "      <td>0.078452</td>\n",
       "      <td>8</td>\n",
       "    </tr>\n",
       "    <tr>\n",
       "      <th>4</th>\n",
       "      <td>0.070402</td>\n",
       "      <td>5</td>\n",
       "    </tr>\n",
       "    <tr>\n",
       "      <th>9</th>\n",
       "      <td>0.055422</td>\n",
       "      <td>10</td>\n",
       "    </tr>\n",
       "    <tr>\n",
       "      <th>6</th>\n",
       "      <td>0.048994</td>\n",
       "      <td>7</td>\n",
       "    </tr>\n",
       "    <tr>\n",
       "      <th>10</th>\n",
       "      <td>0.041448</td>\n",
       "      <td>12</td>\n",
       "    </tr>\n",
       "    <tr>\n",
       "      <th>8</th>\n",
       "      <td>0.035271</td>\n",
       "      <td>9</td>\n",
       "    </tr>\n",
       "    <tr>\n",
       "      <th>11</th>\n",
       "      <td>0.016462</td>\n",
       "      <td>15</td>\n",
       "    </tr>\n",
       "    <tr>\n",
       "      <th>12</th>\n",
       "      <td>0.015372</td>\n",
       "      <td>20</td>\n",
       "    </tr>\n",
       "    <tr>\n",
       "      <th>13</th>\n",
       "      <td>0.004919</td>\n",
       "      <td>27</td>\n",
       "    </tr>\n",
       "    <tr>\n",
       "      <th>14</th>\n",
       "      <td>0.002543</td>\n",
       "      <td>35</td>\n",
       "    </tr>\n",
       "  </tbody>\n",
       "</table>\n",
       "</div>"
      ],
      "text/plain": [
       "    mean_test_score  param_n_neighbors\n",
       "1          0.356875                  2\n",
       "0          0.203130                  1\n",
       "3          0.193013                  4\n",
       "5          0.114589                  6\n",
       "2          0.114254                  3\n",
       "7          0.078452                  8\n",
       "4          0.070402                  5\n",
       "9          0.055422                 10\n",
       "6          0.048994                  7\n",
       "10         0.041448                 12\n",
       "8          0.035271                  9\n",
       "11         0.016462                 15\n",
       "12         0.015372                 20\n",
       "13         0.004919                 27\n",
       "14         0.002543                 35"
      ]
     },
     "execution_count": 31,
     "metadata": {},
     "output_type": "execute_result"
    }
   ],
   "source": [
    "pd.read_csv('./data/re-knn-rec.csv').drop('Unnamed: 0',axis=1)\\\n",
    "    .sort_values('mean_test_score',ascending=False)[['mean_test_score','param_n_neighbors']]"
   ]
  },
  {
   "cell_type": "code",
   "execution_count": 32,
   "metadata": {
    "collapsed": true
   },
   "outputs": [],
   "source": [
    "# test set results\n",
    "\n",
    "import time\n",
    "\n",
    "knn_test_neg_pre = []\n",
    "knn_test_neg_rec = []\n",
    "testtime = []\n",
    "\n",
    "for k in params['n_neighbors']:\n",
    "    \n",
    "    knn = KNeighborsClassifier(n_neighbors=k).fit(features_train,targets_train.loan_status)\n",
    "    \n",
    "    tic = time.time()\n",
    "    predictions = knn.predict(features_test)\n",
    "    toc = time.time()\n",
    "    testtime.append(toc-tic)\n",
    "    \n",
    "    knn_test_neg_pre.append(neg_precision(targets_test,predictions))\n",
    "    knn_test_neg_rec.append(neg_recall(targets_test,predictions))\n",
    "    "
   ]
  },
  {
   "cell_type": "code",
   "execution_count": 33,
   "metadata": {},
   "outputs": [
    {
     "data": {
      "text/plain": [
       "Text(0.5,1,'k-NN Prediction Time')"
      ]
     },
     "execution_count": 33,
     "metadata": {},
     "output_type": "execute_result"
    },
    {
     "data": {
      "image/png": "[encoded data removed]",
      "text/plain": [
       "<matplotlib.figure.Figure at 0x2469d453240>"
      ]
     },
     "metadata": {},
     "output_type": "display_data"
    }
   ],
   "source": [
    "# as we increase k, the recall approaches 0. this is very likely because of the class imbalance. since there are so few\n",
    "# minority class samples (dispersed in a sea of majority class samples), most of their neighbors will be majority class samples. \n",
    "# thus, only the samples in the very densest regions of the minority class will get classified correctly.\n",
    "\n",
    "# it would be interesting to apply resampling and test this idea ^ (this is definitely worth doing--as an exploration of\n",
    "# combining resampling with hyperparameter optimization)\n",
    "\n",
    "fig = plt.figure(figsize=(16,4))\n",
    "\n",
    "ax = fig.add_subplot(1,2,1)\n",
    "ax.plot(pd.read_csv('./data/re-knn-prec.csv')['param_n_neighbors'],\\\n",
    "        pd.read_csv('./data/re-knn-prec.csv')['mean_test_score'],'X-',color='#00fff2')\n",
    "ax.plot(pd.read_csv('./data/re-knn-rec.csv')['param_n_neighbors'],\\\n",
    "        pd.read_csv('./data/re-knn-rec.csv')['mean_test_score'],'X-',color='#001e14')\n",
    "ax.plot(pd.read_csv('./data/re-knn-prec.csv')['param_n_neighbors'],\\\n",
    "        knn_test_neg_pre,'--',color='#00fff2')\n",
    "ax.plot(pd.read_csv('./data/re-knn-rec.csv')['param_n_neighbors'],\\\n",
    "        knn_test_neg_rec,'--',color='#001e14')\n",
    "ax.legend(['Precision KFold','Recall KFold','Precision Test','Recall Test'])\n",
    "ax.set_xlabel('Number of Neighbors: k',fontsize=14)\n",
    "ax.set_title('k-NN: Defaults',fontsize=16)\n",
    "\n",
    "ax1 = fig.add_subplot(1,2,2)\n",
    "ax1.plot(params['n_neighbors'],\\\n",
    "        testtime,'X-',color='k')\n",
    "ax1.set_ylabel('Seconds',fontsize=14)\n",
    "ax1.set_xlabel('Number of Neighbor: k',fontsize=14)\n",
    "ax1.set_title('k-NN Prediction Time',fontsize=16)\n",
    "\n",
    "#plt.savefig('./report/hyperparams/hyperparams-knn-time.jpg')"
   ]
  },
  {
   "cell_type": "code",
   "execution_count": 34,
   "metadata": {},
   "outputs": [
    {
     "name": "stdout",
     "output_type": "stream",
     "text": [
      "0.428571428571\n",
      "0.333333333333\n",
      "\n",
      "0.000167691447736\n",
      "0.000111994624258\n"
     ]
    }
   ],
   "source": [
    "# increases in precision seem to diminish quickly on both the test set and training set\n",
    "\n",
    "kNN1 = KNeighborsClassifier(n_neighbors=70).fit(features_train,targets_train.loan_status)\n",
    "print(neg_precision(targets_train.loan_status,kNN1.predict(features_train)))\n",
    "print(neg_precision(targets_test.loan_status,kNN1.predict(features_test)))\n",
    "print('')\n",
    "print(neg_recall(targets_train.loan_status,kNN1.predict(features_train)))\n",
    "print(neg_recall(targets_test.loan_status,kNN1.predict(features_test)))"
   ]
  },
  {
   "cell_type": "code",
   "execution_count": 35,
   "metadata": {},
   "outputs": [
    {
     "name": "stdout",
     "output_type": "stream",
     "text": [
      "0.367787323277\n",
      "0.35449833395\n",
      "0.822264531302\n"
     ]
    }
   ],
   "source": [
    "print(neg_f1(targets_test.loan_status,clfF1.best_estimator_.predict(features_test)))\n",
    "print(neg_precision(targets_test.loan_status,clfPREC.best_estimator_.predict(features_test)))\n",
    "print(neg_recall(targets_test.loan_status,clfREC.best_estimator_.predict(features_test)))"
   ]
  },
  {
   "cell_type": "code",
   "execution_count": 36,
   "metadata": {
    "collapsed": true
   },
   "outputs": [],
   "source": [
    "kNNF1 = neg_f1(targets_test.loan_status,clfF1.best_estimator_.predict(features_test))\n",
    "kNNPREC = neg_precision(targets_test.loan_status,clfPREC.best_estimator_.predict(features_test))\n",
    "kNNREC = neg_recall(targets_test.loan_status,clfREC.best_estimator_.predict(features_test))"
   ]
  },
  {
   "cell_type": "markdown",
   "metadata": {},
   "source": [
    "---\n",
    "### Random Forest"
   ]
  },
  {
   "cell_type": "code",
   "execution_count": 37,
   "metadata": {
    "collapsed": true
   },
   "outputs": [],
   "source": [
    "from sklearn.ensemble import RandomForestClassifier"
   ]
  },
  {
   "cell_type": "code",
   "execution_count": null,
   "metadata": {
    "collapsed": true
   },
   "outputs": [],
   "source": []
  },
  {
   "cell_type": "code",
   "execution_count": 38,
   "metadata": {
    "collapsed": true
   },
   "outputs": [],
   "source": [
    "params = {'n_estimators':[5,10,15,20,30,40,60,80,100,140]}\n",
    "\n",
    "RF = RandomForestClassifier()\n",
    "\n",
    "#clfF1 = GridSearchCV(RF,param_grid=params,scoring=make_scorer(neg_f1),return_train_score=True)\\\n",
    "#    .fit(features_train,targets_train.loan_status)\n",
    "#clfPREC = GridSearchCV(RF,param_grid=params,scoring=make_scorer(neg_precision),return_train_score=True)\\\n",
    "#    .fit(features_train,targets_train.loan_status)\n",
    "#clfREC = GridSearchCV(RF,param_grid=params,scoring=make_scorer(neg_recall),return_train_score=True)\\\n",
    "#    .fit(features_train,targets_train.loan_status)"
   ]
  },
  {
   "cell_type": "code",
   "execution_count": 39,
   "metadata": {
    "collapsed": true
   },
   "outputs": [],
   "source": [
    "#pd.DataFrame(clfF1.cv_results_).to_csv('./data/re-rf0-f1.csv')\n",
    "#pd.DataFrame(clfPREC.cv_results_).to_csv('./data/re-rf0-prec.csv')\n",
    "#pd.DataFrame(clfREC.cv_results_).to_csv('./data/re-rf0-rec.csv')"
   ]
  },
  {
   "cell_type": "code",
   "execution_count": 40,
   "metadata": {},
   "outputs": [
    {
     "data": {
      "text/html": [
       "<div>\n",
       "<style>\n",
       "    .dataframe thead tr:only-child th {\n",
       "        text-align: right;\n",
       "    }\n",
       "\n",
       "    .dataframe thead th {\n",
       "        text-align: left;\n",
       "    }\n",
       "\n",
       "    .dataframe tbody tr th {\n",
       "        vertical-align: top;\n",
       "    }\n",
       "</style>\n",
       "<table border=\"1\" class=\"dataframe\">\n",
       "  <thead>\n",
       "    <tr style=\"text-align: right;\">\n",
       "      <th></th>\n",
       "      <th>mean_test_score</th>\n",
       "      <th>param_n_estimators</th>\n",
       "    </tr>\n",
       "  </thead>\n",
       "  <tbody>\n",
       "    <tr>\n",
       "      <th>0</th>\n",
       "      <td>0.200684</td>\n",
       "      <td>5</td>\n",
       "    </tr>\n",
       "    <tr>\n",
       "      <th>1</th>\n",
       "      <td>0.215840</td>\n",
       "      <td>10</td>\n",
       "    </tr>\n",
       "    <tr>\n",
       "      <th>2</th>\n",
       "      <td>0.144222</td>\n",
       "      <td>15</td>\n",
       "    </tr>\n",
       "    <tr>\n",
       "      <th>3</th>\n",
       "      <td>0.159215</td>\n",
       "      <td>20</td>\n",
       "    </tr>\n",
       "    <tr>\n",
       "      <th>4</th>\n",
       "      <td>0.133465</td>\n",
       "      <td>30</td>\n",
       "    </tr>\n",
       "    <tr>\n",
       "      <th>5</th>\n",
       "      <td>0.118068</td>\n",
       "      <td>40</td>\n",
       "    </tr>\n",
       "    <tr>\n",
       "      <th>6</th>\n",
       "      <td>0.102185</td>\n",
       "      <td>60</td>\n",
       "    </tr>\n",
       "    <tr>\n",
       "      <th>7</th>\n",
       "      <td>0.100176</td>\n",
       "      <td>80</td>\n",
       "    </tr>\n",
       "    <tr>\n",
       "      <th>8</th>\n",
       "      <td>0.092723</td>\n",
       "      <td>100</td>\n",
       "    </tr>\n",
       "    <tr>\n",
       "      <th>9</th>\n",
       "      <td>0.087181</td>\n",
       "      <td>140</td>\n",
       "    </tr>\n",
       "  </tbody>\n",
       "</table>\n",
       "</div>"
      ],
      "text/plain": [
       "   mean_test_score  param_n_estimators\n",
       "0         0.200684                   5\n",
       "1         0.215840                  10\n",
       "2         0.144222                  15\n",
       "3         0.159215                  20\n",
       "4         0.133465                  30\n",
       "5         0.118068                  40\n",
       "6         0.102185                  60\n",
       "7         0.100176                  80\n",
       "8         0.092723                 100\n",
       "9         0.087181                 140"
      ]
     },
     "execution_count": 40,
     "metadata": {},
     "output_type": "execute_result"
    }
   ],
   "source": [
    "pd.read_csv('./data/re-rf0-f1.csv').drop('Unnamed: 0',axis=1)[['mean_test_score','param_n_estimators']]"
   ]
  },
  {
   "cell_type": "code",
   "execution_count": 41,
   "metadata": {},
   "outputs": [
    {
     "data": {
      "text/html": [
       "<div>\n",
       "<style>\n",
       "    .dataframe thead tr:only-child th {\n",
       "        text-align: right;\n",
       "    }\n",
       "\n",
       "    .dataframe thead th {\n",
       "        text-align: left;\n",
       "    }\n",
       "\n",
       "    .dataframe tbody tr th {\n",
       "        vertical-align: top;\n",
       "    }\n",
       "</style>\n",
       "<table border=\"1\" class=\"dataframe\">\n",
       "  <thead>\n",
       "    <tr style=\"text-align: right;\">\n",
       "      <th></th>\n",
       "      <th>mean_test_score</th>\n",
       "      <th>param_n_estimators</th>\n",
       "    </tr>\n",
       "  </thead>\n",
       "  <tbody>\n",
       "    <tr>\n",
       "      <th>0</th>\n",
       "      <td>0.312814</td>\n",
       "      <td>5</td>\n",
       "    </tr>\n",
       "    <tr>\n",
       "      <th>1</th>\n",
       "      <td>0.337066</td>\n",
       "      <td>10</td>\n",
       "    </tr>\n",
       "    <tr>\n",
       "      <th>2</th>\n",
       "      <td>0.379159</td>\n",
       "      <td>15</td>\n",
       "    </tr>\n",
       "    <tr>\n",
       "      <th>3</th>\n",
       "      <td>0.387320</td>\n",
       "      <td>20</td>\n",
       "    </tr>\n",
       "    <tr>\n",
       "      <th>4</th>\n",
       "      <td>0.401790</td>\n",
       "      <td>30</td>\n",
       "    </tr>\n",
       "    <tr>\n",
       "      <th>5</th>\n",
       "      <td>0.416069</td>\n",
       "      <td>40</td>\n",
       "    </tr>\n",
       "    <tr>\n",
       "      <th>6</th>\n",
       "      <td>0.446324</td>\n",
       "      <td>60</td>\n",
       "    </tr>\n",
       "    <tr>\n",
       "      <th>7</th>\n",
       "      <td>0.445317</td>\n",
       "      <td>80</td>\n",
       "    </tr>\n",
       "    <tr>\n",
       "      <th>8</th>\n",
       "      <td>0.455874</td>\n",
       "      <td>100</td>\n",
       "    </tr>\n",
       "    <tr>\n",
       "      <th>9</th>\n",
       "      <td>0.457509</td>\n",
       "      <td>140</td>\n",
       "    </tr>\n",
       "  </tbody>\n",
       "</table>\n",
       "</div>"
      ],
      "text/plain": [
       "   mean_test_score  param_n_estimators\n",
       "0         0.312814                   5\n",
       "1         0.337066                  10\n",
       "2         0.379159                  15\n",
       "3         0.387320                  20\n",
       "4         0.401790                  30\n",
       "5         0.416069                  40\n",
       "6         0.446324                  60\n",
       "7         0.445317                  80\n",
       "8         0.455874                 100\n",
       "9         0.457509                 140"
      ]
     },
     "execution_count": 41,
     "metadata": {},
     "output_type": "execute_result"
    }
   ],
   "source": [
    "pd.read_csv('./data/re-rf0-prec.csv').drop('Unnamed: 0',axis=1)[['mean_test_score','param_n_estimators']]"
   ]
  },
  {
   "cell_type": "code",
   "execution_count": 42,
   "metadata": {},
   "outputs": [
    {
     "data": {
      "text/html": [
       "<div>\n",
       "<style>\n",
       "    .dataframe thead tr:only-child th {\n",
       "        text-align: right;\n",
       "    }\n",
       "\n",
       "    .dataframe thead th {\n",
       "        text-align: left;\n",
       "    }\n",
       "\n",
       "    .dataframe tbody tr th {\n",
       "        vertical-align: top;\n",
       "    }\n",
       "</style>\n",
       "<table border=\"1\" class=\"dataframe\">\n",
       "  <thead>\n",
       "    <tr style=\"text-align: right;\">\n",
       "      <th></th>\n",
       "      <th>mean_test_score</th>\n",
       "      <th>param_n_estimators</th>\n",
       "    </tr>\n",
       "  </thead>\n",
       "  <tbody>\n",
       "    <tr>\n",
       "      <th>0</th>\n",
       "      <td>0.151649</td>\n",
       "      <td>5</td>\n",
       "    </tr>\n",
       "    <tr>\n",
       "      <th>1</th>\n",
       "      <td>0.157378</td>\n",
       "      <td>10</td>\n",
       "    </tr>\n",
       "    <tr>\n",
       "      <th>2</th>\n",
       "      <td>0.089631</td>\n",
       "      <td>15</td>\n",
       "    </tr>\n",
       "    <tr>\n",
       "      <th>3</th>\n",
       "      <td>0.099413</td>\n",
       "      <td>20</td>\n",
       "    </tr>\n",
       "    <tr>\n",
       "      <th>4</th>\n",
       "      <td>0.081191</td>\n",
       "      <td>30</td>\n",
       "    </tr>\n",
       "    <tr>\n",
       "      <th>5</th>\n",
       "      <td>0.070794</td>\n",
       "      <td>40</td>\n",
       "    </tr>\n",
       "    <tr>\n",
       "      <th>6</th>\n",
       "      <td>0.059726</td>\n",
       "      <td>60</td>\n",
       "    </tr>\n",
       "    <tr>\n",
       "      <th>7</th>\n",
       "      <td>0.055757</td>\n",
       "      <td>80</td>\n",
       "    </tr>\n",
       "    <tr>\n",
       "      <th>8</th>\n",
       "      <td>0.051817</td>\n",
       "      <td>100</td>\n",
       "    </tr>\n",
       "    <tr>\n",
       "      <th>9</th>\n",
       "      <td>0.047233</td>\n",
       "      <td>140</td>\n",
       "    </tr>\n",
       "  </tbody>\n",
       "</table>\n",
       "</div>"
      ],
      "text/plain": [
       "   mean_test_score  param_n_estimators\n",
       "0         0.151649                   5\n",
       "1         0.157378                  10\n",
       "2         0.089631                  15\n",
       "3         0.099413                  20\n",
       "4         0.081191                  30\n",
       "5         0.070794                  40\n",
       "6         0.059726                  60\n",
       "7         0.055757                  80\n",
       "8         0.051817                 100\n",
       "9         0.047233                 140"
      ]
     },
     "execution_count": 42,
     "metadata": {},
     "output_type": "execute_result"
    }
   ],
   "source": [
    "pd.read_csv('./data/re-rf0-rec.csv').drop('Unnamed: 0',axis=1)[['mean_test_score','param_n_estimators']]"
   ]
  },
  {
   "cell_type": "code",
   "execution_count": 43,
   "metadata": {
    "collapsed": true
   },
   "outputs": [],
   "source": [
    "# test set results\n",
    "\n",
    "rf_test_neg_pre = []\n",
    "rf_test_neg_rec = []\n",
    "trainingtime = []\n",
    "\n",
    "for k in params['n_estimators']:\n",
    "    tic = time.time()\n",
    "    rf = RandomForestClassifier(n_estimators=k).fit(features_train,targets_train.loan_status)\n",
    "    toc = time.time()\n",
    "    trainingtime.append(toc-tic)\n",
    "    \n",
    "    predictions = rf.predict(features_test)\n",
    "    rf_test_neg_pre.append(neg_precision(targets_test,predictions))\n",
    "    rf_test_neg_rec.append(neg_recall(targets_test,predictions))"
   ]
  },
  {
   "cell_type": "code",
   "execution_count": 85,
   "metadata": {},
   "outputs": [],
   "source": [
    "oob_scores = pd.read_csv('./data/oob-scores.csv').drop('Unnamed: 0', axis=1)\n",
    "\n",
    "#for k in params['n_estimators']:\n",
    "#    rf = RandomForestClassifier(n_estimators=k,oob_score=True).fit(features_train,targets_train.loan_status)\n",
    "#    oob_scores.append(1-rf.oob_score_)"
   ]
  },
  {
   "cell_type": "code",
   "execution_count": 86,
   "metadata": {},
   "outputs": [],
   "source": [
    "#pd.DataFrame(oob_scores).to_csv('./data/oob-scores.csv')"
   ]
  },
  {
   "cell_type": "code",
   "execution_count": 98,
   "metadata": {},
   "outputs": [
    {
     "data": {
      "image/png": "[encoded data removed]",
      "text/plain": [
       "<matplotlib.figure.Figure at 0x24680138eb8>"
      ]
     },
     "metadata": {},
     "output_type": "display_data"
    }
   ],
   "source": [
    "fig = plt.figure(figsize=(8,4))\n",
    "\n",
    "ax = fig.add_subplot(1,1,1)\n",
    "ax.plot(params['n_estimators'],oob_scores,'X-')\n",
    "ax.set_title('OOB Prediction Error',fontsize=18)\n",
    "ax.set_xlabel('Number of Decision Trees',fontsize=14)\n",
    "\n",
    "#plt.savefig('./report/oob-error.jpg')"
   ]
  },
  {
   "cell_type": "code",
   "execution_count": 44,
   "metadata": {
    "collapsed": true
   },
   "outputs": [],
   "source": [
    "#pd.DataFrame(rf_test_neg_pre).to_csv('./data/re-rf0-prec-test.csv')\n",
    "#pd.DataFrame(rf_test_neg_rec).to_csv('./data/re-rf0-rec-test.csv')"
   ]
  },
  {
   "cell_type": "code",
   "execution_count": 45,
   "metadata": {},
   "outputs": [
    {
     "data": {
      "text/plain": [
       "Text(0.5,1,'Random Forest Training Time')"
      ]
     },
     "execution_count": 45,
     "metadata": {},
     "output_type": "execute_result"
    },
    {
     "data": {
      "image/png": "[encoded data removed]",
      "text/plain": [
       "<matplotlib.figure.Figure at 0x2469d8e3b00>"
      ]
     },
     "metadata": {},
     "output_type": "display_data"
    }
   ],
   "source": [
    "# recall may be decreasing because of the class imbalance. as we increase the tree count, it's more likely \n",
    "# that the majority count will be in favor of the positive class. with a resampling approach applied, recall may actually\n",
    "# increase as we increase the tree count\n",
    "\n",
    "fig = plt.figure(figsize=(16,4))\n",
    "\n",
    "ax = fig.add_subplot(1,2,1)\n",
    "ax.plot(pd.read_csv('./data/re-rf0-prec.csv')['param_n_estimators'],\\\n",
    "        pd.read_csv('./data/re-rf0-prec.csv')['mean_test_score'],'X-',color='#00ffb2')\n",
    "\n",
    "ax.plot(pd.read_csv('./data/re-rf0-rec.csv')['param_n_estimators'],\\\n",
    "        pd.read_csv('./data/re-rf0-rec.csv')['mean_test_score'],'X-',color='#000c00')\n",
    "\n",
    "ax.plot(pd.read_csv('./data/re-rf0-prec.csv')['param_n_estimators'],\\\n",
    "        pd.read_csv('./data/re-rf0-prec-test.csv').drop('Unnamed: 0',axis=1),'--',color='#00ffb2')\n",
    "\n",
    "ax.plot(pd.read_csv('./data/re-rf0-rec.csv')['param_n_estimators'],\\\n",
    "        pd.read_csv('./data/re-rf0-rec-test.csv').drop('Unnamed: 0',axis=1),'--',color='#000c00')\n",
    "\n",
    "ax.set_xlabel('Number of Decision Trees',fontsize=14)\n",
    "ax.legend(['Precision KFold','Recall KFold','Precision Test','Recall Test'])\n",
    "ax.set_title('Random Forest: Defaults',fontsize=16)\n",
    "\n",
    "ax1 = fig.add_subplot(1,2,2)\n",
    "ax1.plot(pd.read_csv('./data/re-rf0-prec.csv')['param_n_estimators'],\\\n",
    "        trainingtime,'X-',color='k')\n",
    "ax1.set_ylabel('Seconds',fontsize=14)\n",
    "ax1.set_xlabel('Number of Decision Trees',fontsize=14)\n",
    "ax1.set_title('Random Forest Training Time',fontsize=16)\n",
    "\n",
    "#plt.savefig('./report/hyperparams/hyperparams-rf.jpg')"
   ]
  },
  {
   "cell_type": "code",
   "execution_count": 46,
   "metadata": {
    "collapsed": true
   },
   "outputs": [],
   "source": [
    "# more estimators (trees) in a RF generally result in better performance, at computational expense. we leave this out\n",
    "# of the grid search (too long to compute, otherwise) and isolate the other parameters\n",
    "# param values are chosen somewhat haphazardly for this initial run. simply want to see trends w/ varying values\n",
    "# choosing few values because this is too computationally expensive to run on more\n",
    "\n",
    "# also commenting to remove from future runs\n",
    "\n",
    "params = {'min_samples_split':[2,8,32],'min_samples_leaf':[1,16,32]}\n",
    "\n",
    "RF = RandomForestClassifier()\n",
    "\n",
    "#clfF1 = GridSearchCV(RF,param_grid=params,scoring=make_scorer(neg_f1),return_train_score=True)\\\n",
    "#    .fit(features_train,targets_train.loan_status)\n",
    "#clfPREC = GridSearchCV(RF,param_grid=params,scoring=make_scorer(neg_precision),return_train_score=True)\\\n",
    "#    .fit(features_train,targets_train.loan_status)\n",
    "#clfREC = GridSearchCV(RF,param_grid=params,scoring=make_scorer(neg_recall),return_train_score=True)\\\n",
    "#    .fit(features_train,targets_train.loan_status)"
   ]
  },
  {
   "cell_type": "code",
   "execution_count": 47,
   "metadata": {
    "collapsed": true
   },
   "outputs": [],
   "source": [
    "#pd.DataFrame(clfF1.cv_results_).to_csv('./data/re-rf-f1.csv')\n",
    "#pd.DataFrame(clfPREC.cv_results_).to_csv('./data/re-rf-prec.csv')\n",
    "#pd.DataFrame(clfREC.cv_results_).to_csv('./data/re-rf-rec.csv')"
   ]
  },
  {
   "cell_type": "code",
   "execution_count": 48,
   "metadata": {},
   "outputs": [
    {
     "data": {
      "text/html": [
       "<div>\n",
       "<style>\n",
       "    .dataframe thead tr:only-child th {\n",
       "        text-align: right;\n",
       "    }\n",
       "\n",
       "    .dataframe thead th {\n",
       "        text-align: left;\n",
       "    }\n",
       "\n",
       "    .dataframe tbody tr th {\n",
       "        vertical-align: top;\n",
       "    }\n",
       "</style>\n",
       "<table border=\"1\" class=\"dataframe\">\n",
       "  <thead>\n",
       "    <tr style=\"text-align: right;\">\n",
       "      <th></th>\n",
       "      <th>mean_test_score</th>\n",
       "      <th>param_min_samples_leaf</th>\n",
       "      <th>param_min_samples_split</th>\n",
       "    </tr>\n",
       "  </thead>\n",
       "  <tbody>\n",
       "    <tr>\n",
       "      <th>0</th>\n",
       "      <td>0.213364</td>\n",
       "      <td>1</td>\n",
       "      <td>2</td>\n",
       "    </tr>\n",
       "    <tr>\n",
       "      <th>1</th>\n",
       "      <td>0.149354</td>\n",
       "      <td>1</td>\n",
       "      <td>8</td>\n",
       "    </tr>\n",
       "    <tr>\n",
       "      <th>2</th>\n",
       "      <td>0.100027</td>\n",
       "      <td>1</td>\n",
       "      <td>32</td>\n",
       "    </tr>\n",
       "    <tr>\n",
       "      <th>4</th>\n",
       "      <td>0.072066</td>\n",
       "      <td>16</td>\n",
       "      <td>8</td>\n",
       "    </tr>\n",
       "    <tr>\n",
       "      <th>5</th>\n",
       "      <td>0.072056</td>\n",
       "      <td>16</td>\n",
       "      <td>32</td>\n",
       "    </tr>\n",
       "    <tr>\n",
       "      <th>3</th>\n",
       "      <td>0.068750</td>\n",
       "      <td>16</td>\n",
       "      <td>2</td>\n",
       "    </tr>\n",
       "    <tr>\n",
       "      <th>8</th>\n",
       "      <td>0.053418</td>\n",
       "      <td>32</td>\n",
       "      <td>32</td>\n",
       "    </tr>\n",
       "    <tr>\n",
       "      <th>6</th>\n",
       "      <td>0.051426</td>\n",
       "      <td>32</td>\n",
       "      <td>2</td>\n",
       "    </tr>\n",
       "    <tr>\n",
       "      <th>7</th>\n",
       "      <td>0.049348</td>\n",
       "      <td>32</td>\n",
       "      <td>8</td>\n",
       "    </tr>\n",
       "  </tbody>\n",
       "</table>\n",
       "</div>"
      ],
      "text/plain": [
       "   mean_test_score  param_min_samples_leaf  param_min_samples_split\n",
       "0         0.213364                       1                        2\n",
       "1         0.149354                       1                        8\n",
       "2         0.100027                       1                       32\n",
       "4         0.072066                      16                        8\n",
       "5         0.072056                      16                       32\n",
       "3         0.068750                      16                        2\n",
       "8         0.053418                      32                       32\n",
       "6         0.051426                      32                        2\n",
       "7         0.049348                      32                        8"
      ]
     },
     "execution_count": 48,
     "metadata": {},
     "output_type": "execute_result"
    }
   ],
   "source": [
    "# for both F1 and recall, it seems tweaking the min samples does not help model performance \n",
    "# (in fact it seems to greatly reduce it..) the default values of 1 and 2 seem best\n",
    "\n",
    "pd.read_csv('./data/re-rf-f1.csv').drop('Unnamed: 0',axis=1).sort_values('mean_test_score',ascending=False)[['mean_test_score',\n",
    "                                                                                'param_min_samples_leaf',\n",
    "                                                                                'param_min_samples_split']]"
   ]
  },
  {
   "cell_type": "code",
   "execution_count": 49,
   "metadata": {
    "scrolled": false
   },
   "outputs": [
    {
     "data": {
      "text/html": [
       "<div>\n",
       "<style>\n",
       "    .dataframe thead tr:only-child th {\n",
       "        text-align: right;\n",
       "    }\n",
       "\n",
       "    .dataframe thead th {\n",
       "        text-align: left;\n",
       "    }\n",
       "\n",
       "    .dataframe tbody tr th {\n",
       "        vertical-align: top;\n",
       "    }\n",
       "</style>\n",
       "<table border=\"1\" class=\"dataframe\">\n",
       "  <thead>\n",
       "    <tr style=\"text-align: right;\">\n",
       "      <th></th>\n",
       "      <th>mean_test_score</th>\n",
       "      <th>param_min_samples_leaf</th>\n",
       "      <th>param_min_samples_split</th>\n",
       "    </tr>\n",
       "  </thead>\n",
       "  <tbody>\n",
       "    <tr>\n",
       "      <th>6</th>\n",
       "      <td>0.508881</td>\n",
       "      <td>32</td>\n",
       "      <td>2</td>\n",
       "    </tr>\n",
       "    <tr>\n",
       "      <th>7</th>\n",
       "      <td>0.488280</td>\n",
       "      <td>32</td>\n",
       "      <td>8</td>\n",
       "    </tr>\n",
       "    <tr>\n",
       "      <th>8</th>\n",
       "      <td>0.483929</td>\n",
       "      <td>32</td>\n",
       "      <td>32</td>\n",
       "    </tr>\n",
       "    <tr>\n",
       "      <th>3</th>\n",
       "      <td>0.478942</td>\n",
       "      <td>16</td>\n",
       "      <td>2</td>\n",
       "    </tr>\n",
       "    <tr>\n",
       "      <th>5</th>\n",
       "      <td>0.474686</td>\n",
       "      <td>16</td>\n",
       "      <td>32</td>\n",
       "    </tr>\n",
       "    <tr>\n",
       "      <th>4</th>\n",
       "      <td>0.469063</td>\n",
       "      <td>16</td>\n",
       "      <td>8</td>\n",
       "    </tr>\n",
       "    <tr>\n",
       "      <th>2</th>\n",
       "      <td>0.431151</td>\n",
       "      <td>1</td>\n",
       "      <td>32</td>\n",
       "    </tr>\n",
       "    <tr>\n",
       "      <th>1</th>\n",
       "      <td>0.378049</td>\n",
       "      <td>1</td>\n",
       "      <td>8</td>\n",
       "    </tr>\n",
       "    <tr>\n",
       "      <th>0</th>\n",
       "      <td>0.334643</td>\n",
       "      <td>1</td>\n",
       "      <td>2</td>\n",
       "    </tr>\n",
       "  </tbody>\n",
       "</table>\n",
       "</div>"
      ],
      "text/plain": [
       "   mean_test_score  param_min_samples_leaf  param_min_samples_split\n",
       "6         0.508881                      32                        2\n",
       "7         0.488280                      32                        8\n",
       "8         0.483929                      32                       32\n",
       "3         0.478942                      16                        2\n",
       "5         0.474686                      16                       32\n",
       "4         0.469063                      16                        8\n",
       "2         0.431151                       1                       32\n",
       "1         0.378049                       1                        8\n",
       "0         0.334643                       1                        2"
      ]
     },
     "execution_count": 49,
     "metadata": {},
     "output_type": "execute_result"
    }
   ],
   "source": [
    "# for precision, however, adjusting the min samples in a leaf seems to greatly increase the model's performance\n",
    "\n",
    "pd.read_csv('./data/re-rf-prec.csv').drop('Unnamed: 0',axis=1).sort_values('mean_test_score',ascending=False)[['mean_test_score',\n",
    "                                                                                'param_min_samples_leaf',\n",
    "                                                                                'param_min_samples_split']]"
   ]
  },
  {
   "cell_type": "code",
   "execution_count": 50,
   "metadata": {},
   "outputs": [
    {
     "name": "stdout",
     "output_type": "stream",
     "text": [
      "0.5\n",
      "356\n"
     ]
    }
   ],
   "source": [
    "# the precision performance jumps around quite a bit as we vary minimum samples in leaeves, \n",
    "# but we are able to achieve an 'OK' level of precision (around ~0.5) on the test set..not bad\n",
    "\n",
    "RF1 = RandomForestClassifier(min_samples_leaf=60,random_state=10).fit(features_train,targets_train.loan_status)\n",
    "print(neg_precision(targets_test.loan_status,RF1.predict(features_test)))\n",
    "print((RF1.predict(features_test)-1).sum()*-1)"
   ]
  },
  {
   "cell_type": "code",
   "execution_count": 51,
   "metadata": {},
   "outputs": [
    {
     "data": {
      "text/html": [
       "<div>\n",
       "<style>\n",
       "    .dataframe thead tr:only-child th {\n",
       "        text-align: right;\n",
       "    }\n",
       "\n",
       "    .dataframe thead th {\n",
       "        text-align: left;\n",
       "    }\n",
       "\n",
       "    .dataframe tbody tr th {\n",
       "        vertical-align: top;\n",
       "    }\n",
       "</style>\n",
       "<table border=\"1\" class=\"dataframe\">\n",
       "  <thead>\n",
       "    <tr style=\"text-align: right;\">\n",
       "      <th></th>\n",
       "      <th>mean_test_score</th>\n",
       "      <th>param_min_samples_leaf</th>\n",
       "      <th>param_min_samples_split</th>\n",
       "    </tr>\n",
       "  </thead>\n",
       "  <tbody>\n",
       "    <tr>\n",
       "      <th>0</th>\n",
       "      <td>0.159726</td>\n",
       "      <td>1</td>\n",
       "      <td>2</td>\n",
       "    </tr>\n",
       "    <tr>\n",
       "      <th>1</th>\n",
       "      <td>0.091923</td>\n",
       "      <td>1</td>\n",
       "      <td>8</td>\n",
       "    </tr>\n",
       "    <tr>\n",
       "      <th>2</th>\n",
       "      <td>0.057909</td>\n",
       "      <td>1</td>\n",
       "      <td>32</td>\n",
       "    </tr>\n",
       "    <tr>\n",
       "      <th>3</th>\n",
       "      <td>0.039575</td>\n",
       "      <td>16</td>\n",
       "      <td>2</td>\n",
       "    </tr>\n",
       "    <tr>\n",
       "      <th>4</th>\n",
       "      <td>0.038541</td>\n",
       "      <td>16</td>\n",
       "      <td>8</td>\n",
       "    </tr>\n",
       "    <tr>\n",
       "      <th>5</th>\n",
       "      <td>0.036780</td>\n",
       "      <td>16</td>\n",
       "      <td>32</td>\n",
       "    </tr>\n",
       "    <tr>\n",
       "      <th>8</th>\n",
       "      <td>0.027753</td>\n",
       "      <td>32</td>\n",
       "      <td>32</td>\n",
       "    </tr>\n",
       "    <tr>\n",
       "      <th>6</th>\n",
       "      <td>0.027250</td>\n",
       "      <td>32</td>\n",
       "      <td>2</td>\n",
       "    </tr>\n",
       "    <tr>\n",
       "      <th>7</th>\n",
       "      <td>0.026970</td>\n",
       "      <td>32</td>\n",
       "      <td>8</td>\n",
       "    </tr>\n",
       "  </tbody>\n",
       "</table>\n",
       "</div>"
      ],
      "text/plain": [
       "   mean_test_score  param_min_samples_leaf  param_min_samples_split\n",
       "0         0.159726                       1                        2\n",
       "1         0.091923                       1                        8\n",
       "2         0.057909                       1                       32\n",
       "3         0.039575                      16                        2\n",
       "4         0.038541                      16                        8\n",
       "5         0.036780                      16                       32\n",
       "8         0.027753                      32                       32\n",
       "6         0.027250                      32                        2\n",
       "7         0.026970                      32                        8"
      ]
     },
     "execution_count": 51,
     "metadata": {},
     "output_type": "execute_result"
    }
   ],
   "source": [
    "pd.read_csv('./data/re-rf-rec.csv').drop('Unnamed: 0',axis=1).sort_values('mean_test_score',ascending=False)[['mean_test_score',\n",
    "                                                                                'param_min_samples_leaf',\n",
    "                                                                                'param_min_samples_split']]"
   ]
  },
  {
   "cell_type": "code",
   "execution_count": 52,
   "metadata": {},
   "outputs": [
    {
     "name": "stdout",
     "output_type": "stream",
     "text": [
      "0.367787323277\n",
      "0.35449833395\n",
      "0.822264531302\n"
     ]
    }
   ],
   "source": [
    "print(neg_f1(targets_test.loan_status,clfF1.best_estimator_.predict(features_test)))\n",
    "print(neg_precision(targets_test.loan_status,clfPREC.best_estimator_.predict(features_test)))\n",
    "print(neg_recall(targets_test.loan_status,clfREC.best_estimator_.predict(features_test)))"
   ]
  },
  {
   "cell_type": "code",
   "execution_count": 53,
   "metadata": {
    "collapsed": true
   },
   "outputs": [],
   "source": [
    "RFF1 = neg_f1(targets_test.loan_status,clfF1.best_estimator_.predict(features_test))\n",
    "RFPREC = neg_precision(targets_test.loan_status,clfPREC.best_estimator_.predict(features_test))\n",
    "RFREC = neg_recall(targets_test.loan_status,clfREC.best_estimator_.predict(features_test))"
   ]
  },
  {
   "cell_type": "markdown",
   "metadata": {},
   "source": [
    "---"
   ]
  },
  {
   "cell_type": "markdown",
   "metadata": {},
   "source": [
    "## ADASYN and Undersampling: k-NN and random forest"
   ]
  },
  {
   "cell_type": "code",
   "execution_count": 54,
   "metadata": {
    "collapsed": true
   },
   "outputs": [],
   "source": [
    "from imblearn.over_sampling import ADASYN\n",
    "\n",
    "ADASYNRatio = {0:len(features_train[targets_train.astype(bool).loan_status]),\\\n",
    "               1:len(features_train[targets_train.astype(bool).loan_status])}\n",
    "\n",
    "features_ADASYN, targets_ADASYN = ADASYN(ratio=ADASYNRatio,random_state=2)\\\n",
    "    .fit_sample(features_train,targets_train.loan_status)"
   ]
  },
  {
   "cell_type": "code",
   "execution_count": 55,
   "metadata": {
    "collapsed": true
   },
   "outputs": [],
   "source": [
    "# we do not use gridsearchCV anymore, since model performance would be evaluated over CV folds of the resampled data,\n",
    "# i.e. evaluation would be done over synthetic data points generated when resampling. instead, we evaluate on the \n",
    "# test set. \n",
    "\n",
    "params = {'n_neighbors':list(range(1,11))+[12,15,20,27,35]}\n",
    "\n",
    "#ADASYN_neg_pre = []\n",
    "#ADASYN_neg_rec = []\n",
    "\n",
    "#for k in params['n_neighbors']:\n",
    "#    kNN = KNeighborsClassifier(n_neighbors=k)\n",
    "#    kNN.fit(features_ADASYN,targets_ADASYN)\n",
    "#    predictions = kNN.predict(features_test)\n",
    "\n",
    "    #ADASYN_neg_pre.append(neg_precision(targets_test,predictions))\n",
    "    #ADASYN_neg_rec.append(neg_recall(targets_test,predictions))\n"
   ]
  },
  {
   "cell_type": "code",
   "execution_count": 56,
   "metadata": {
    "collapsed": true
   },
   "outputs": [],
   "source": [
    "#pd.DataFrame(ADASYN_neg_pre).to_csv('./data/ADASYN-re-knn-prec.csv')\n",
    "#pd.DataFrame(ADASYN_neg_rec).to_csv('./data/ADASYN-re-knn-rec.csv')"
   ]
  },
  {
   "cell_type": "code",
   "execution_count": 57,
   "metadata": {},
   "outputs": [
    {
     "data": {
      "text/plain": [
       "Text(0.5,1,'k-NN: Defaults (ADASYN Resampled 1:1)')"
      ]
     },
     "execution_count": 57,
     "metadata": {},
     "output_type": "execute_result"
    },
    {
     "data": {
      "image/png": "[encoded data removed]",
      "text/plain": [
       "<matplotlib.figure.Figure at 0x2469c15d6a0>"
      ]
     },
     "metadata": {},
     "output_type": "display_data"
    }
   ],
   "source": [
    "# as we increase k, the recall approaches 0. this is very likely because of the class imbalance. since there are so few\n",
    "# minority class samples (dispersed in a sea of majority class samples), most of their neighbors will be majority class samples. \n",
    "# thus, only the samples in the very densest regions of the minority class will get classified correctly.\n",
    "\n",
    "# it would be interesting to apply resampling and test this idea ^ (this is definitely worth doing--as an exploration of\n",
    "# combining resampling with hyperparameter optimization)\n",
    "\n",
    "fig = plt.figure(figsize=(10,5))\n",
    "\n",
    "ax = fig.add_subplot(1,1,1)\n",
    "ax.plot(params['n_neighbors'],\\\n",
    "        pd.read_csv('./data/ADASYN-re-knn-prec.csv').drop('Unnamed: 0',axis=1),'X-',color='#00fff2')\n",
    "\n",
    "ax.plot(params['n_neighbors'],\\\n",
    "        pd.read_csv('./data/ADASYN-re-knn-rec.csv').drop('Unnamed: 0',axis=1),'X-',color='#001e14')\n",
    "\n",
    "ax.legend(['Precision Test','Recall Test'])\n",
    "ax.set_xlabel('Number of Neighbors: k',fontsize=14)\n",
    "ax.set_title('k-NN: Defaults (ADASYN Resampled 1:1)',fontsize=16)\n",
    "\n",
    "#plt.savefig('./report/hyperparams/ADASYN-hyperparams-knn.jpg')"
   ]
  },
  {
   "cell_type": "code",
   "execution_count": 58,
   "metadata": {
    "collapsed": true
   },
   "outputs": [],
   "source": [
    "from imblearn.under_sampling import RandomUnderSampler\n",
    "\n",
    "USRatio = {0:len(features_train[~targets_train.astype(bool).loan_status]),\\\n",
    "           1:len(features_train[~targets_train.astype(bool).loan_status])}\n",
    "\n",
    "features_US, targets_US = RandomUnderSampler(ratio=USRatio,random_state=2)\\\n",
    "    .fit_sample(features_train,targets_train.loan_status)"
   ]
  },
  {
   "cell_type": "code",
   "execution_count": 59,
   "metadata": {
    "collapsed": true
   },
   "outputs": [],
   "source": [
    "# this takes a while to compute.. commenting to remove code from future runs\n",
    "\n",
    "params = {'n_estimators':[5,10,15,20,30,40,60,80,100,140]}\n",
    "\n",
    "US_neg_pre = []\n",
    "US_neg_rec = []\n",
    "\n",
    "for k in params['n_estimators']:\n",
    "    rf = RandomForestClassifier(n_estimators=k)\n",
    "    rf.fit(features_US,targets_US)\n",
    "    predictions = rf.predict(features_test)\n",
    "\n",
    "    US_neg_pre.append(neg_precision(targets_test,predictions))\n",
    "    US_neg_rec.append(neg_recall(targets_test,predictions))"
   ]
  },
  {
   "cell_type": "code",
   "execution_count": 60,
   "metadata": {
    "collapsed": true
   },
   "outputs": [],
   "source": [
    "#pd.DataFrame(US_neg_pre).to_csv('./data/US-re-rf-prec.csv')\n",
    "#pd.DataFrame(US_neg_rec).to_csv('./data/US-re-rf-rec.csv')"
   ]
  },
  {
   "cell_type": "code",
   "execution_count": 61,
   "metadata": {},
   "outputs": [
    {
     "data": {
      "text/plain": [
       "Text(0.5,1,'Random Forest: Defaults (Under Sampled 1:1)')"
      ]
     },
     "execution_count": 61,
     "metadata": {},
     "output_type": "execute_result"
    },
    {
     "data": {
      "image/png": "[encoded data removed]",
      "text/plain": [
       "<matplotlib.figure.Figure at 0x246a6424b70>"
      ]
     },
     "metadata": {},
     "output_type": "display_data"
    }
   ],
   "source": [
    "fig = plt.figure(figsize=(10,5))\n",
    "\n",
    "ax = fig.add_subplot(1,1,1)\n",
    "ax.plot(params['n_estimators'],\\\n",
    "        pd.read_csv('./data/US-re-rf-prec.csv').drop('Unnamed: 0',axis=1),'X-',color='#00ffb2')\n",
    "\n",
    "ax.plot(params['n_estimators'],\\\n",
    "        pd.read_csv('./data/US-re-rf-rec.csv').drop('Unnamed: 0',axis=1),'X-',color='#000c00')\n",
    "\n",
    "ax.legend(['Precision Test','Recall Test'])\n",
    "ax.set_xlabel('Number of Decision Trees',fontsize=14)\n",
    "ax.set_title('Random Forest: Defaults (Under Sampled 1:1)',fontsize=16)\n",
    "\n",
    "#plt.savefig('./report/hyperparams/US-hyperparams-rf.jpg')"
   ]
  }
 ],
 "metadata": {
  "kernelspec": {
   "display_name": "Python 3",
   "language": "python",
   "name": "python3"
  },
  "language_info": {
   "codemirror_mode": {
    "name": "ipython",
    "version": 3
   },
   "file_extension": ".py",
   "mimetype": "text/x-python",
   "name": "python",
   "nbconvert_exporter": "python",
   "pygments_lexer": "ipython3",
   "version": "3.6.3"
  }
 },
 "nbformat": 4,
 "nbformat_minor": 2
}
